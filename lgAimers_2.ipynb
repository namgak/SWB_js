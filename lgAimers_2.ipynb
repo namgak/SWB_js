{
  "nbformat": 4,
  "nbformat_minor": 0,
  "metadata": {
    "colab": {
      "provenance": [],
      "collapsed_sections": [
        "kSzh0nmS-8WC",
        "-EFfd3a77bE6",
        "J_iMTdNMXVKM",
        "u-QTK23df0HI",
        "sdzDE1FAfcp3",
        "pkMdzMzGlXNs",
        "oCfQOiYhwsVr",
        "XDpfW9vbBAWV",
        "JANZX1i-SHoC",
        "S8pY5MFV45Qx",
        "HZGTHLndabkv",
        "Gp9icj-jaEPg"
      ],
      "toc_visible": true,
      "authorship_tag": "ABX9TyMYp7aeIKUsM01KAmtqK+hS",
      "include_colab_link": true
    },
    "kernelspec": {
      "name": "python3",
      "display_name": "Python 3"
    },
    "language_info": {
      "name": "python"
    }
  },
  "cells": [
    {
      "cell_type": "markdown",
      "metadata": {
        "id": "view-in-github",
        "colab_type": "text"
      },
      "source": [
        "<a href=\"https://colab.research.google.com/github/namgak/SWB_js/blob/main/lgAimers_2.ipynb\" target=\"_parent\"><img src=\"https://colab.research.google.com/assets/colab-badge.svg\" alt=\"Open In Colab\"/></a>"
      ]
    },
    {
      "cell_type": "markdown",
      "source": [
        "\n",
        "#---lg aimers--- 2/1~2/27\n",
        "\n",
        "[주제]\n",
        "난임 환자 대상 임신 성공 여부 예측 AI 모델 개발\n",
        "\n",
        "\n",
        "[설명]\n",
        "\n",
        "난임 환자 데이터를 분석하여 임신 성공에 영향을 미치는 주요 요인을 도출하고, 정확한 예측을 위한 최적의 AI 모델을 개발해야 합니다.\n",
        "\n",
        "※ 임신 성공: 출산까지 성공적으로 진행된 임신\n"
      ],
      "metadata": {
        "id": "FLQ5YXluAcym"
      }
    },
    {
      "cell_type": "markdown",
      "source": [
        "#데이터 불러오기"
      ],
      "metadata": {
        "id": "kSzh0nmS-8WC"
      }
    },
    {
      "cell_type": "code",
      "source": [
        "from google.colab import drive\n",
        "drive.mount('/content/drive')"
      ],
      "metadata": {
        "colab": {
          "base_uri": "https://localhost:8080/"
        },
        "id": "LaC7sKab3zK8",
        "outputId": "06f395c5-86fb-4ab0-c49c-6fccca41acc3"
      },
      "execution_count": null,
      "outputs": [
        {
          "output_type": "stream",
          "name": "stdout",
          "text": [
            "Mounted at /content/drive\n"
          ]
        }
      ]
    },
    {
      "cell_type": "code",
      "execution_count": null,
      "metadata": {
        "id": "IdNgiw3A3ua2"
      },
      "outputs": [],
      "source": [
        "import pandas as pd\n",
        "import numpy as np\n",
        "\n",
        "from sklearn.preprocessing import  OrdinalEncoder\n",
        "from sklearn.ensemble import ExtraTreesClassifier\n",
        "\n",
        "import matplotlib.pyplot as plt\n",
        "import seaborn as sns"
      ]
    },
    {
      "cell_type": "code",
      "source": [
        "train_df = pd.read_csv('/content/drive/MyDrive/Colab Notebooks/lgaimers/train.csv').drop(columns=['ID'])\n",
        "test_df = pd.read_csv('/content/drive/MyDrive/Colab Notebooks/lgaimers/test.csv').drop(columns=['ID'])"
      ],
      "metadata": {
        "id": "Rnu-9PQC34_g"
      },
      "execution_count": null,
      "outputs": []
    },
    {
      "cell_type": "code",
      "source": [
        "X = train_df.drop('임신 성공 여부', axis=1)\n",
        "y = train_df['임신 성공 여부']"
      ],
      "metadata": {
        "id": "oGYFUNPi7FEd"
      },
      "execution_count": null,
      "outputs": []
    },
    {
      "cell_type": "code",
      "source": [],
      "metadata": {
        "id": "boh5lvDt3ydk"
      },
      "execution_count": null,
      "outputs": []
    },
    {
      "cell_type": "code",
      "source": [
        "train_df.info()"
      ],
      "metadata": {
        "colab": {
          "base_uri": "https://localhost:8080/"
        },
        "id": "sIeCp7Vd-sGi",
        "outputId": "c623ab83-3d3f-443e-c4b9-9dd29ff0708f"
      },
      "execution_count": null,
      "outputs": [
        {
          "output_type": "stream",
          "name": "stdout",
          "text": [
            "<class 'pandas.core.frame.DataFrame'>\n",
            "RangeIndex: 256351 entries, 0 to 256350\n",
            "Data columns (total 68 columns):\n",
            " #   Column                 Non-Null Count   Dtype  \n",
            "---  ------                 --------------   -----  \n",
            " 0   시술 시기 코드               256351 non-null  object \n",
            " 1   시술 당시 나이               256351 non-null  object \n",
            " 2   임신 시도 또는 마지막 임신 경과 연수  9370 non-null    float64\n",
            " 3   시술 유형                  256351 non-null  object \n",
            " 4   특정 시술 유형               256349 non-null  object \n",
            " 5   배란 자극 여부               256351 non-null  int64  \n",
            " 6   배란 유도 유형               256351 non-null  object \n",
            " 7   단일 배아 이식 여부            250060 non-null  float64\n",
            " 8   착상 전 유전 검사 사용 여부       2718 non-null    float64\n",
            " 9   착상 전 유전 진단 사용 여부       250060 non-null  float64\n",
            " 10  남성 주 불임 원인             256351 non-null  int64  \n",
            " 11  남성 부 불임 원인             256351 non-null  int64  \n",
            " 12  여성 주 불임 원인             256351 non-null  int64  \n",
            " 13  여성 부 불임 원인             256351 non-null  int64  \n",
            " 14  부부 주 불임 원인             256351 non-null  int64  \n",
            " 15  부부 부 불임 원인             256351 non-null  int64  \n",
            " 16  불명확 불임 원인              256351 non-null  int64  \n",
            " 17  불임 원인 - 난관 질환          256351 non-null  int64  \n",
            " 18  불임 원인 - 남성 요인          256351 non-null  int64  \n",
            " 19  불임 원인 - 배란 장애          256351 non-null  int64  \n",
            " 20  불임 원인 - 여성 요인          256351 non-null  int64  \n",
            " 21  불임 원인 - 자궁경부 문제        256351 non-null  int64  \n",
            " 22  불임 원인 - 자궁내막증          256351 non-null  int64  \n",
            " 23  불임 원인 - 정자 농도          256351 non-null  int64  \n",
            " 24  불임 원인 - 정자 면역학적 요인     256351 non-null  int64  \n",
            " 25  불임 원인 - 정자 운동성         256351 non-null  int64  \n",
            " 26  불임 원인 - 정자 형태          256351 non-null  int64  \n",
            " 27  배아 생성 주요 이유            250060 non-null  object \n",
            " 28  총 시술 횟수                256351 non-null  object \n",
            " 29  클리닉 내 총 시술 횟수          256351 non-null  object \n",
            " 30  IVF 시술 횟수              256351 non-null  object \n",
            " 31  DI 시술 횟수               256351 non-null  object \n",
            " 32  총 임신 횟수                256351 non-null  object \n",
            " 33  IVF 임신 횟수              256351 non-null  object \n",
            " 34  DI 임신 횟수               256351 non-null  object \n",
            " 35  총 출산 횟수                256351 non-null  object \n",
            " 36  IVF 출산 횟수              256351 non-null  object \n",
            " 37  DI 출산 횟수               256351 non-null  object \n",
            " 38  총 생성 배아 수              250060 non-null  float64\n",
            " 39  미세주입된 난자 수             250060 non-null  float64\n",
            " 40  미세주입에서 생성된 배아 수        250060 non-null  float64\n",
            " 41  이식된 배아 수               250060 non-null  float64\n",
            " 42  미세주입 배아 이식 수           250060 non-null  float64\n",
            " 43  저장된 배아 수               250060 non-null  float64\n",
            " 44  미세주입 후 저장된 배아 수        250060 non-null  float64\n",
            " 45  해동된 배아 수               250060 non-null  float64\n",
            " 46  해동 난자 수                250060 non-null  float64\n",
            " 47  수집된 신선 난자 수            250060 non-null  float64\n",
            " 48  저장된 신선 난자 수            250060 non-null  float64\n",
            " 49  혼합된 난자 수               250060 non-null  float64\n",
            " 50  파트너 정자와 혼합된 난자 수       250060 non-null  float64\n",
            " 51  기증자 정자와 혼합된 난자 수       250060 non-null  float64\n",
            " 52  난자 출처                  256351 non-null  object \n",
            " 53  정자 출처                  256351 non-null  object \n",
            " 54  난자 기증자 나이              256351 non-null  object \n",
            " 55  정자 기증자 나이              256351 non-null  object \n",
            " 56  동결 배아 사용 여부            250060 non-null  float64\n",
            " 57  신선 배아 사용 여부            250060 non-null  float64\n",
            " 58  기증 배아 사용 여부            250060 non-null  float64\n",
            " 59  대리모 여부                 250060 non-null  float64\n",
            " 60  PGD 시술 여부              2179 non-null    float64\n",
            " 61  PGS 시술 여부              1929 non-null    float64\n",
            " 62  난자 채취 경과일              198863 non-null  float64\n",
            " 63  난자 해동 경과일              1436 non-null    float64\n",
            " 64  난자 혼합 경과일              202616 non-null  float64\n",
            " 65  배아 이식 경과일              212785 non-null  float64\n",
            " 66  배아 해동 경과일              40369 non-null   float64\n",
            " 67  임신 성공 여부               256351 non-null  int64  \n",
            "dtypes: float64(29), int64(19), object(20)\n",
            "memory usage: 133.0+ MB\n"
          ]
        }
      ]
    },
    {
      "cell_type": "code",
      "source": [],
      "metadata": {
        "id": "vGQ3i-E2-sEe"
      },
      "execution_count": null,
      "outputs": []
    },
    {
      "cell_type": "code",
      "source": [],
      "metadata": {
        "id": "tg3O9G5v-sCj"
      },
      "execution_count": null,
      "outputs": []
    },
    {
      "cell_type": "code",
      "source": [
        "train_df[\"시술 당시 나이\"].value_counts()"
      ],
      "metadata": {
        "colab": {
          "base_uri": "https://localhost:8080/",
          "height": 335
        },
        "id": "f9xsWcfQ3yaq",
        "outputId": "a025a2a1-cb90-41e3-cdf8-036a7867ad48"
      },
      "execution_count": null,
      "outputs": [
        {
          "output_type": "execute_result",
          "data": {
            "text/plain": [
              "시술 당시 나이\n",
              "만18-34세    102476\n",
              "만35-37세     57780\n",
              "만38-39세     39247\n",
              "만40-42세     37348\n",
              "만43-44세     12253\n",
              "만45-50세      6918\n",
              "알 수 없음        329\n",
              "Name: count, dtype: int64"
            ],
            "text/html": [
              "<div>\n",
              "<style scoped>\n",
              "    .dataframe tbody tr th:only-of-type {\n",
              "        vertical-align: middle;\n",
              "    }\n",
              "\n",
              "    .dataframe tbody tr th {\n",
              "        vertical-align: top;\n",
              "    }\n",
              "\n",
              "    .dataframe thead th {\n",
              "        text-align: right;\n",
              "    }\n",
              "</style>\n",
              "<table border=\"1\" class=\"dataframe\">\n",
              "  <thead>\n",
              "    <tr style=\"text-align: right;\">\n",
              "      <th></th>\n",
              "      <th>count</th>\n",
              "    </tr>\n",
              "    <tr>\n",
              "      <th>시술 당시 나이</th>\n",
              "      <th></th>\n",
              "    </tr>\n",
              "  </thead>\n",
              "  <tbody>\n",
              "    <tr>\n",
              "      <th>만18-34세</th>\n",
              "      <td>102476</td>\n",
              "    </tr>\n",
              "    <tr>\n",
              "      <th>만35-37세</th>\n",
              "      <td>57780</td>\n",
              "    </tr>\n",
              "    <tr>\n",
              "      <th>만38-39세</th>\n",
              "      <td>39247</td>\n",
              "    </tr>\n",
              "    <tr>\n",
              "      <th>만40-42세</th>\n",
              "      <td>37348</td>\n",
              "    </tr>\n",
              "    <tr>\n",
              "      <th>만43-44세</th>\n",
              "      <td>12253</td>\n",
              "    </tr>\n",
              "    <tr>\n",
              "      <th>만45-50세</th>\n",
              "      <td>6918</td>\n",
              "    </tr>\n",
              "    <tr>\n",
              "      <th>알 수 없음</th>\n",
              "      <td>329</td>\n",
              "    </tr>\n",
              "  </tbody>\n",
              "</table>\n",
              "</div><br><label><b>dtype:</b> int64</label>"
            ]
          },
          "metadata": {},
          "execution_count": 6
        }
      ]
    },
    {
      "cell_type": "code",
      "source": [
        "train_df[\"총 시술 횟수\"].value_counts()"
      ],
      "metadata": {
        "colab": {
          "base_uri": "https://localhost:8080/",
          "height": 335
        },
        "id": "EIR_ExM43yYo",
        "outputId": "9be767dc-8e22-481c-848a-ffd890a02127"
      },
      "execution_count": null,
      "outputs": [
        {
          "output_type": "execute_result",
          "data": {
            "text/plain": [
              "총 시술 횟수\n",
              "0회       97599\n",
              "1회       56819\n",
              "2회       39338\n",
              "3회       24531\n",
              "4회       15141\n",
              "6회 이상    13817\n",
              "5회        9106\n",
              "Name: count, dtype: int64"
            ],
            "text/html": [
              "<div>\n",
              "<style scoped>\n",
              "    .dataframe tbody tr th:only-of-type {\n",
              "        vertical-align: middle;\n",
              "    }\n",
              "\n",
              "    .dataframe tbody tr th {\n",
              "        vertical-align: top;\n",
              "    }\n",
              "\n",
              "    .dataframe thead th {\n",
              "        text-align: right;\n",
              "    }\n",
              "</style>\n",
              "<table border=\"1\" class=\"dataframe\">\n",
              "  <thead>\n",
              "    <tr style=\"text-align: right;\">\n",
              "      <th></th>\n",
              "      <th>count</th>\n",
              "    </tr>\n",
              "    <tr>\n",
              "      <th>총 시술 횟수</th>\n",
              "      <th></th>\n",
              "    </tr>\n",
              "  </thead>\n",
              "  <tbody>\n",
              "    <tr>\n",
              "      <th>0회</th>\n",
              "      <td>97599</td>\n",
              "    </tr>\n",
              "    <tr>\n",
              "      <th>1회</th>\n",
              "      <td>56819</td>\n",
              "    </tr>\n",
              "    <tr>\n",
              "      <th>2회</th>\n",
              "      <td>39338</td>\n",
              "    </tr>\n",
              "    <tr>\n",
              "      <th>3회</th>\n",
              "      <td>24531</td>\n",
              "    </tr>\n",
              "    <tr>\n",
              "      <th>4회</th>\n",
              "      <td>15141</td>\n",
              "    </tr>\n",
              "    <tr>\n",
              "      <th>6회 이상</th>\n",
              "      <td>13817</td>\n",
              "    </tr>\n",
              "    <tr>\n",
              "      <th>5회</th>\n",
              "      <td>9106</td>\n",
              "    </tr>\n",
              "  </tbody>\n",
              "</table>\n",
              "</div><br><label><b>dtype:</b> int64</label>"
            ]
          },
          "metadata": {},
          "execution_count": 7
        }
      ]
    },
    {
      "cell_type": "code",
      "source": [
        "train_df.isnull().sum()"
      ],
      "metadata": {
        "colab": {
          "base_uri": "https://localhost:8080/",
          "height": 458
        },
        "id": "9kYTWwWk5alv",
        "outputId": "2d2935aa-9fba-476c-b5be-8d6a8eb0fc87"
      },
      "execution_count": null,
      "outputs": [
        {
          "output_type": "execute_result",
          "data": {
            "text/plain": [
              "시술 시기 코드                      0\n",
              "시술 당시 나이                      0\n",
              "임신 시도 또는 마지막 임신 경과 연수    246981\n",
              "시술 유형                         0\n",
              "특정 시술 유형                      2\n",
              "                          ...  \n",
              "난자 해동 경과일                254915\n",
              "난자 혼합 경과일                 53735\n",
              "배아 이식 경과일                 43566\n",
              "배아 해동 경과일                215982\n",
              "임신 성공 여부                      0\n",
              "Length: 68, dtype: int64"
            ],
            "text/html": [
              "<div>\n",
              "<style scoped>\n",
              "    .dataframe tbody tr th:only-of-type {\n",
              "        vertical-align: middle;\n",
              "    }\n",
              "\n",
              "    .dataframe tbody tr th {\n",
              "        vertical-align: top;\n",
              "    }\n",
              "\n",
              "    .dataframe thead th {\n",
              "        text-align: right;\n",
              "    }\n",
              "</style>\n",
              "<table border=\"1\" class=\"dataframe\">\n",
              "  <thead>\n",
              "    <tr style=\"text-align: right;\">\n",
              "      <th></th>\n",
              "      <th>0</th>\n",
              "    </tr>\n",
              "  </thead>\n",
              "  <tbody>\n",
              "    <tr>\n",
              "      <th>시술 시기 코드</th>\n",
              "      <td>0</td>\n",
              "    </tr>\n",
              "    <tr>\n",
              "      <th>시술 당시 나이</th>\n",
              "      <td>0</td>\n",
              "    </tr>\n",
              "    <tr>\n",
              "      <th>임신 시도 또는 마지막 임신 경과 연수</th>\n",
              "      <td>246981</td>\n",
              "    </tr>\n",
              "    <tr>\n",
              "      <th>시술 유형</th>\n",
              "      <td>0</td>\n",
              "    </tr>\n",
              "    <tr>\n",
              "      <th>특정 시술 유형</th>\n",
              "      <td>2</td>\n",
              "    </tr>\n",
              "    <tr>\n",
              "      <th>...</th>\n",
              "      <td>...</td>\n",
              "    </tr>\n",
              "    <tr>\n",
              "      <th>난자 해동 경과일</th>\n",
              "      <td>254915</td>\n",
              "    </tr>\n",
              "    <tr>\n",
              "      <th>난자 혼합 경과일</th>\n",
              "      <td>53735</td>\n",
              "    </tr>\n",
              "    <tr>\n",
              "      <th>배아 이식 경과일</th>\n",
              "      <td>43566</td>\n",
              "    </tr>\n",
              "    <tr>\n",
              "      <th>배아 해동 경과일</th>\n",
              "      <td>215982</td>\n",
              "    </tr>\n",
              "    <tr>\n",
              "      <th>임신 성공 여부</th>\n",
              "      <td>0</td>\n",
              "    </tr>\n",
              "  </tbody>\n",
              "</table>\n",
              "<p>68 rows × 1 columns</p>\n",
              "</div><br><label><b>dtype:</b> int64</label>"
            ]
          },
          "metadata": {},
          "execution_count": 8
        }
      ]
    },
    {
      "cell_type": "code",
      "source": [
        "train_df.isnull().sum().unique()"
      ],
      "metadata": {
        "colab": {
          "base_uri": "https://localhost:8080/"
        },
        "id": "MgBVz-fq3yWg",
        "outputId": "89ea6b22-6e08-4416-de34-0e960d0200fe"
      },
      "execution_count": null,
      "outputs": [
        {
          "output_type": "execute_result",
          "data": {
            "text/plain": [
              "array([     0, 246981,      2,   6291, 253633, 254172, 254422,  57488,\n",
              "       254915,  53735,  43566, 215982])"
            ]
          },
          "metadata": {},
          "execution_count": 9
        }
      ]
    },
    {
      "cell_type": "code",
      "source": [
        "train_df['특정 시술 유형'].unique()"
      ],
      "metadata": {
        "colab": {
          "base_uri": "https://localhost:8080/"
        },
        "id": "jC0098m75K--",
        "outputId": "b3233c6d-46c4-4576-eec1-8d46533e15fd"
      },
      "execution_count": null,
      "outputs": [
        {
          "output_type": "execute_result",
          "data": {
            "text/plain": [
              "array(['ICSI', 'IVF', 'Unknown', 'IUI', 'IVF:IVF', 'IVF / BLASTOCYST',\n",
              "       'ICSI:IVF', 'ICSI / AH', 'ICSI:ICSI', 'IVF:ICSI',\n",
              "       'ICSI / BLASTOCYST ', 'IVF:Unknown', 'ICSI:Unknown', 'IVF / AH',\n",
              "       'IVI', 'Generic DI', 'ICSI / BLASTOCYST :IVF / BLASTOCYST', 'ICI',\n",
              "       'IVF / AH:ICSI / AH', nan, 'GIFT',\n",
              "       'ICSI / BLASTOCYST:IVF / BLASTOCYST', 'ICSI / AH:Unknown', 'FER',\n",
              "       'ICSI / BLASTOCYST :ICSI'], dtype=object)"
            ]
          },
          "metadata": {},
          "execution_count": 10
        }
      ]
    },
    {
      "cell_type": "markdown",
      "source": [
        "#결측값 처리"
      ],
      "metadata": {
        "id": "-EFfd3a77bE6"
      }
    },
    {
      "cell_type": "code",
      "source": [
        "# isna로 nan값 가지는 행만 추출\n",
        "nan_rows1 = train_df[train_df.isna().any(axis=1)]\n",
        "print(\"-------------------isna-------------------\")\n",
        "print(nan_rows1.head(400))\n",
        "\n",
        "# isnull로 nan값 가지는 행만 추출\n",
        "nan_rows2 = train_df[train_df.isnull().any(axis=1)]\n",
        "print(\"-------------------isnull-------------------\")\n",
        "print(nan_rows2.head(400))"
      ],
      "metadata": {
        "colab": {
          "base_uri": "https://localhost:8080/"
        },
        "id": "MsptW80x5K8y",
        "outputId": "f629b252-4ce5-4015-f9a4-9f9edbe458f1",
        "collapsed": true
      },
      "execution_count": null,
      "outputs": [
        {
          "output_type": "stream",
          "name": "stdout",
          "text": [
            "-------------------isna-------------------\n",
            "    시술 시기 코드 시술 당시 나이  임신 시도 또는 마지막 임신 경과 연수 시술 유형 특정 시술 유형  배란 자극 여부  \\\n",
            "0     TRZKPL  만18-34세                    NaN   IVF     ICSI         1   \n",
            "1     TRYBLT  만45-50세                    NaN   IVF     ICSI         0   \n",
            "2     TRVNRY  만18-34세                    NaN   IVF      IVF         1   \n",
            "3     TRJXFG  만35-37세                    NaN   IVF     ICSI         1   \n",
            "4     TRVNRY  만18-34세                    NaN   IVF     ICSI         1   \n",
            "..       ...      ...                    ...   ...      ...       ...   \n",
            "395   TRZKPL  만18-34세                    NaN   IVF     ICSI         1   \n",
            "396   TRXQMD  만43-44세                    NaN   IVF      IVF         1   \n",
            "397   TRYBLT  만35-37세                    NaN   IVF      IVF         1   \n",
            "398   TRCMWS  만18-34세                    NaN   IVF     ICSI         1   \n",
            "399   TRDQAZ  만35-37세                    NaN   IVF      IVF         1   \n",
            "\n",
            "       배란 유도 유형  단일 배아 이식 여부  착상 전 유전 검사 사용 여부  착상 전 유전 진단 사용 여부  ...  \\\n",
            "0    기록되지 않은 시행          0.0               NaN               0.0  ...   \n",
            "1        알 수 없음          0.0               NaN               0.0  ...   \n",
            "2    기록되지 않은 시행          0.0               NaN               0.0  ...   \n",
            "3    기록되지 않은 시행          0.0               NaN               0.0  ...   \n",
            "4    기록되지 않은 시행          0.0               NaN               0.0  ...   \n",
            "..          ...          ...               ...               ...  ...   \n",
            "395  기록되지 않은 시행          0.0               NaN               0.0  ...   \n",
            "396  기록되지 않은 시행          0.0               NaN               0.0  ...   \n",
            "397  기록되지 않은 시행          1.0               NaN               0.0  ...   \n",
            "398  기록되지 않은 시행          0.0               NaN               0.0  ...   \n",
            "399  기록되지 않은 시행          1.0               NaN               0.0  ...   \n",
            "\n",
            "     기증 배아 사용 여부  대리모 여부  PGD 시술 여부  PGS 시술 여부  난자 채취 경과일  난자 해동 경과일  \\\n",
            "0            0.0     0.0        NaN        NaN        0.0        NaN   \n",
            "1            0.0     0.0        NaN        NaN        0.0        NaN   \n",
            "2            0.0     0.0        NaN        NaN        0.0        NaN   \n",
            "3            0.0     0.0        NaN        NaN        0.0        NaN   \n",
            "4            0.0     0.0        NaN        NaN        0.0        NaN   \n",
            "..           ...     ...        ...        ...        ...        ...   \n",
            "395          0.0     0.0        NaN        NaN        0.0        NaN   \n",
            "396          0.0     0.0        NaN        NaN        0.0        NaN   \n",
            "397          0.0     0.0        NaN        NaN        0.0        NaN   \n",
            "398          0.0     0.0        NaN        NaN        0.0        NaN   \n",
            "399          0.0     0.0        NaN        NaN        0.0        NaN   \n",
            "\n",
            "     난자 혼합 경과일  배아 이식 경과일  배아 해동 경과일  임신 성공 여부  \n",
            "0          0.0        3.0        NaN         0  \n",
            "1          0.0        NaN        NaN         0  \n",
            "2          0.0        2.0        NaN         0  \n",
            "3          0.0        NaN        NaN         0  \n",
            "4          0.0        3.0        NaN         0  \n",
            "..         ...        ...        ...       ...  \n",
            "395        0.0        5.0        NaN         1  \n",
            "396        0.0        3.0        NaN         0  \n",
            "397        0.0        2.0        NaN         0  \n",
            "398        0.0        5.0        NaN         0  \n",
            "399        0.0        5.0        NaN         1  \n",
            "\n",
            "[400 rows x 68 columns]\n",
            "-------------------isnull-------------------\n",
            "    시술 시기 코드 시술 당시 나이  임신 시도 또는 마지막 임신 경과 연수 시술 유형 특정 시술 유형  배란 자극 여부  \\\n",
            "0     TRZKPL  만18-34세                    NaN   IVF     ICSI         1   \n",
            "1     TRYBLT  만45-50세                    NaN   IVF     ICSI         0   \n",
            "2     TRVNRY  만18-34세                    NaN   IVF      IVF         1   \n",
            "3     TRJXFG  만35-37세                    NaN   IVF     ICSI         1   \n",
            "4     TRVNRY  만18-34세                    NaN   IVF     ICSI         1   \n",
            "..       ...      ...                    ...   ...      ...       ...   \n",
            "395   TRZKPL  만18-34세                    NaN   IVF     ICSI         1   \n",
            "396   TRXQMD  만43-44세                    NaN   IVF      IVF         1   \n",
            "397   TRYBLT  만35-37세                    NaN   IVF      IVF         1   \n",
            "398   TRCMWS  만18-34세                    NaN   IVF     ICSI         1   \n",
            "399   TRDQAZ  만35-37세                    NaN   IVF      IVF         1   \n",
            "\n",
            "       배란 유도 유형  단일 배아 이식 여부  착상 전 유전 검사 사용 여부  착상 전 유전 진단 사용 여부  ...  \\\n",
            "0    기록되지 않은 시행          0.0               NaN               0.0  ...   \n",
            "1        알 수 없음          0.0               NaN               0.0  ...   \n",
            "2    기록되지 않은 시행          0.0               NaN               0.0  ...   \n",
            "3    기록되지 않은 시행          0.0               NaN               0.0  ...   \n",
            "4    기록되지 않은 시행          0.0               NaN               0.0  ...   \n",
            "..          ...          ...               ...               ...  ...   \n",
            "395  기록되지 않은 시행          0.0               NaN               0.0  ...   \n",
            "396  기록되지 않은 시행          0.0               NaN               0.0  ...   \n",
            "397  기록되지 않은 시행          1.0               NaN               0.0  ...   \n",
            "398  기록되지 않은 시행          0.0               NaN               0.0  ...   \n",
            "399  기록되지 않은 시행          1.0               NaN               0.0  ...   \n",
            "\n",
            "     기증 배아 사용 여부  대리모 여부  PGD 시술 여부  PGS 시술 여부  난자 채취 경과일  난자 해동 경과일  \\\n",
            "0            0.0     0.0        NaN        NaN        0.0        NaN   \n",
            "1            0.0     0.0        NaN        NaN        0.0        NaN   \n",
            "2            0.0     0.0        NaN        NaN        0.0        NaN   \n",
            "3            0.0     0.0        NaN        NaN        0.0        NaN   \n",
            "4            0.0     0.0        NaN        NaN        0.0        NaN   \n",
            "..           ...     ...        ...        ...        ...        ...   \n",
            "395          0.0     0.0        NaN        NaN        0.0        NaN   \n",
            "396          0.0     0.0        NaN        NaN        0.0        NaN   \n",
            "397          0.0     0.0        NaN        NaN        0.0        NaN   \n",
            "398          0.0     0.0        NaN        NaN        0.0        NaN   \n",
            "399          0.0     0.0        NaN        NaN        0.0        NaN   \n",
            "\n",
            "     난자 혼합 경과일  배아 이식 경과일  배아 해동 경과일  임신 성공 여부  \n",
            "0          0.0        3.0        NaN         0  \n",
            "1          0.0        NaN        NaN         0  \n",
            "2          0.0        2.0        NaN         0  \n",
            "3          0.0        NaN        NaN         0  \n",
            "4          0.0        3.0        NaN         0  \n",
            "..         ...        ...        ...       ...  \n",
            "395        0.0        5.0        NaN         1  \n",
            "396        0.0        3.0        NaN         0  \n",
            "397        0.0        2.0        NaN         0  \n",
            "398        0.0        5.0        NaN         0  \n",
            "399        0.0        5.0        NaN         1  \n",
            "\n",
            "[400 rows x 68 columns]\n"
          ]
        }
      ]
    },
    {
      "cell_type": "code",
      "source": [
        "# 데이터 타입별로 결측값 처리\n",
        "for col in train_df.columns:\n",
        "    if train_df[col].dtype == 'object':  # 문자열(범주형) 데이터\n",
        "        train_df[col].fillna('없음', inplace=True)\n",
        "    else:  # 숫자형 데이터\n",
        "        train_df[col].fillna(0, inplace=True)\n",
        "\n",
        "train_df.head()"
      ],
      "metadata": {
        "colab": {
          "base_uri": "https://localhost:8080/"
        },
        "id": "P1ETm1Gv9Lnz",
        "outputId": "f0fc7a5c-957d-41d0-d462-e67f528d90dd"
      },
      "execution_count": null,
      "outputs": [
        {
          "output_type": "stream",
          "name": "stderr",
          "text": [
            "<ipython-input-12-48544a0f900c>:4: FutureWarning: A value is trying to be set on a copy of a DataFrame or Series through chained assignment using an inplace method.\n",
            "The behavior will change in pandas 3.0. This inplace method will never work because the intermediate object on which we are setting values always behaves as a copy.\n",
            "\n",
            "For example, when doing 'df[col].method(value, inplace=True)', try using 'df.method({col: value}, inplace=True)' or df[col] = df[col].method(value) instead, to perform the operation inplace on the original object.\n",
            "\n",
            "\n",
            "  train_df[col].fillna('없음', inplace=True)\n",
            "<ipython-input-12-48544a0f900c>:6: FutureWarning: A value is trying to be set on a copy of a DataFrame or Series through chained assignment using an inplace method.\n",
            "The behavior will change in pandas 3.0. This inplace method will never work because the intermediate object on which we are setting values always behaves as a copy.\n",
            "\n",
            "For example, when doing 'df[col].method(value, inplace=True)', try using 'df.method({col: value}, inplace=True)' or df[col] = df[col].method(value) instead, to perform the operation inplace on the original object.\n",
            "\n",
            "\n",
            "  train_df[col].fillna(0, inplace=True)\n"
          ]
        },
        {
          "output_type": "execute_result",
          "data": {
            "text/plain": [
              "  시술 시기 코드 시술 당시 나이  임신 시도 또는 마지막 임신 경과 연수 시술 유형 특정 시술 유형  배란 자극 여부  \\\n",
              "0   TRZKPL  만18-34세                    0.0   IVF     ICSI         1   \n",
              "1   TRYBLT  만45-50세                    0.0   IVF     ICSI         0   \n",
              "2   TRVNRY  만18-34세                    0.0   IVF      IVF         1   \n",
              "3   TRJXFG  만35-37세                    0.0   IVF     ICSI         1   \n",
              "4   TRVNRY  만18-34세                    0.0   IVF     ICSI         1   \n",
              "\n",
              "     배란 유도 유형  단일 배아 이식 여부  착상 전 유전 검사 사용 여부  착상 전 유전 진단 사용 여부  ...  \\\n",
              "0  기록되지 않은 시행          0.0               0.0               0.0  ...   \n",
              "1      알 수 없음          0.0               0.0               0.0  ...   \n",
              "2  기록되지 않은 시행          0.0               0.0               0.0  ...   \n",
              "3  기록되지 않은 시행          0.0               0.0               0.0  ...   \n",
              "4  기록되지 않은 시행          0.0               0.0               0.0  ...   \n",
              "\n",
              "   기증 배아 사용 여부  대리모 여부  PGD 시술 여부  PGS 시술 여부  난자 채취 경과일  난자 해동 경과일  난자 혼합 경과일  \\\n",
              "0          0.0     0.0        0.0        0.0        0.0        0.0        0.0   \n",
              "1          0.0     0.0        0.0        0.0        0.0        0.0        0.0   \n",
              "2          0.0     0.0        0.0        0.0        0.0        0.0        0.0   \n",
              "3          0.0     0.0        0.0        0.0        0.0        0.0        0.0   \n",
              "4          0.0     0.0        0.0        0.0        0.0        0.0        0.0   \n",
              "\n",
              "   배아 이식 경과일  배아 해동 경과일  임신 성공 여부  \n",
              "0        3.0        0.0         0  \n",
              "1        0.0        0.0         0  \n",
              "2        2.0        0.0         0  \n",
              "3        0.0        0.0         0  \n",
              "4        3.0        0.0         0  \n",
              "\n",
              "[5 rows x 68 columns]"
            ],
            "text/html": [
              "\n",
              "  <div id=\"df-63fbab70-9519-47a7-9c63-62f0a9e6a9ee\" class=\"colab-df-container\">\n",
              "    <div>\n",
              "<style scoped>\n",
              "    .dataframe tbody tr th:only-of-type {\n",
              "        vertical-align: middle;\n",
              "    }\n",
              "\n",
              "    .dataframe tbody tr th {\n",
              "        vertical-align: top;\n",
              "    }\n",
              "\n",
              "    .dataframe thead th {\n",
              "        text-align: right;\n",
              "    }\n",
              "</style>\n",
              "<table border=\"1\" class=\"dataframe\">\n",
              "  <thead>\n",
              "    <tr style=\"text-align: right;\">\n",
              "      <th></th>\n",
              "      <th>시술 시기 코드</th>\n",
              "      <th>시술 당시 나이</th>\n",
              "      <th>임신 시도 또는 마지막 임신 경과 연수</th>\n",
              "      <th>시술 유형</th>\n",
              "      <th>특정 시술 유형</th>\n",
              "      <th>배란 자극 여부</th>\n",
              "      <th>배란 유도 유형</th>\n",
              "      <th>단일 배아 이식 여부</th>\n",
              "      <th>착상 전 유전 검사 사용 여부</th>\n",
              "      <th>착상 전 유전 진단 사용 여부</th>\n",
              "      <th>...</th>\n",
              "      <th>기증 배아 사용 여부</th>\n",
              "      <th>대리모 여부</th>\n",
              "      <th>PGD 시술 여부</th>\n",
              "      <th>PGS 시술 여부</th>\n",
              "      <th>난자 채취 경과일</th>\n",
              "      <th>난자 해동 경과일</th>\n",
              "      <th>난자 혼합 경과일</th>\n",
              "      <th>배아 이식 경과일</th>\n",
              "      <th>배아 해동 경과일</th>\n",
              "      <th>임신 성공 여부</th>\n",
              "    </tr>\n",
              "  </thead>\n",
              "  <tbody>\n",
              "    <tr>\n",
              "      <th>0</th>\n",
              "      <td>TRZKPL</td>\n",
              "      <td>만18-34세</td>\n",
              "      <td>0.0</td>\n",
              "      <td>IVF</td>\n",
              "      <td>ICSI</td>\n",
              "      <td>1</td>\n",
              "      <td>기록되지 않은 시행</td>\n",
              "      <td>0.0</td>\n",
              "      <td>0.0</td>\n",
              "      <td>0.0</td>\n",
              "      <td>...</td>\n",
              "      <td>0.0</td>\n",
              "      <td>0.0</td>\n",
              "      <td>0.0</td>\n",
              "      <td>0.0</td>\n",
              "      <td>0.0</td>\n",
              "      <td>0.0</td>\n",
              "      <td>0.0</td>\n",
              "      <td>3.0</td>\n",
              "      <td>0.0</td>\n",
              "      <td>0</td>\n",
              "    </tr>\n",
              "    <tr>\n",
              "      <th>1</th>\n",
              "      <td>TRYBLT</td>\n",
              "      <td>만45-50세</td>\n",
              "      <td>0.0</td>\n",
              "      <td>IVF</td>\n",
              "      <td>ICSI</td>\n",
              "      <td>0</td>\n",
              "      <td>알 수 없음</td>\n",
              "      <td>0.0</td>\n",
              "      <td>0.0</td>\n",
              "      <td>0.0</td>\n",
              "      <td>...</td>\n",
              "      <td>0.0</td>\n",
              "      <td>0.0</td>\n",
              "      <td>0.0</td>\n",
              "      <td>0.0</td>\n",
              "      <td>0.0</td>\n",
              "      <td>0.0</td>\n",
              "      <td>0.0</td>\n",
              "      <td>0.0</td>\n",
              "      <td>0.0</td>\n",
              "      <td>0</td>\n",
              "    </tr>\n",
              "    <tr>\n",
              "      <th>2</th>\n",
              "      <td>TRVNRY</td>\n",
              "      <td>만18-34세</td>\n",
              "      <td>0.0</td>\n",
              "      <td>IVF</td>\n",
              "      <td>IVF</td>\n",
              "      <td>1</td>\n",
              "      <td>기록되지 않은 시행</td>\n",
              "      <td>0.0</td>\n",
              "      <td>0.0</td>\n",
              "      <td>0.0</td>\n",
              "      <td>...</td>\n",
              "      <td>0.0</td>\n",
              "      <td>0.0</td>\n",
              "      <td>0.0</td>\n",
              "      <td>0.0</td>\n",
              "      <td>0.0</td>\n",
              "      <td>0.0</td>\n",
              "      <td>0.0</td>\n",
              "      <td>2.0</td>\n",
              "      <td>0.0</td>\n",
              "      <td>0</td>\n",
              "    </tr>\n",
              "    <tr>\n",
              "      <th>3</th>\n",
              "      <td>TRJXFG</td>\n",
              "      <td>만35-37세</td>\n",
              "      <td>0.0</td>\n",
              "      <td>IVF</td>\n",
              "      <td>ICSI</td>\n",
              "      <td>1</td>\n",
              "      <td>기록되지 않은 시행</td>\n",
              "      <td>0.0</td>\n",
              "      <td>0.0</td>\n",
              "      <td>0.0</td>\n",
              "      <td>...</td>\n",
              "      <td>0.0</td>\n",
              "      <td>0.0</td>\n",
              "      <td>0.0</td>\n",
              "      <td>0.0</td>\n",
              "      <td>0.0</td>\n",
              "      <td>0.0</td>\n",
              "      <td>0.0</td>\n",
              "      <td>0.0</td>\n",
              "      <td>0.0</td>\n",
              "      <td>0</td>\n",
              "    </tr>\n",
              "    <tr>\n",
              "      <th>4</th>\n",
              "      <td>TRVNRY</td>\n",
              "      <td>만18-34세</td>\n",
              "      <td>0.0</td>\n",
              "      <td>IVF</td>\n",
              "      <td>ICSI</td>\n",
              "      <td>1</td>\n",
              "      <td>기록되지 않은 시행</td>\n",
              "      <td>0.0</td>\n",
              "      <td>0.0</td>\n",
              "      <td>0.0</td>\n",
              "      <td>...</td>\n",
              "      <td>0.0</td>\n",
              "      <td>0.0</td>\n",
              "      <td>0.0</td>\n",
              "      <td>0.0</td>\n",
              "      <td>0.0</td>\n",
              "      <td>0.0</td>\n",
              "      <td>0.0</td>\n",
              "      <td>3.0</td>\n",
              "      <td>0.0</td>\n",
              "      <td>0</td>\n",
              "    </tr>\n",
              "  </tbody>\n",
              "</table>\n",
              "<p>5 rows × 68 columns</p>\n",
              "</div>\n",
              "    <div class=\"colab-df-buttons\">\n",
              "\n",
              "  <div class=\"colab-df-container\">\n",
              "    <button class=\"colab-df-convert\" onclick=\"convertToInteractive('df-63fbab70-9519-47a7-9c63-62f0a9e6a9ee')\"\n",
              "            title=\"Convert this dataframe to an interactive table.\"\n",
              "            style=\"display:none;\">\n",
              "\n",
              "  <svg xmlns=\"http://www.w3.org/2000/svg\" height=\"24px\" viewBox=\"0 -960 960 960\">\n",
              "    <path d=\"M120-120v-720h720v720H120Zm60-500h600v-160H180v160Zm220 220h160v-160H400v160Zm0 220h160v-160H400v160ZM180-400h160v-160H180v160Zm440 0h160v-160H620v160ZM180-180h160v-160H180v160Zm440 0h160v-160H620v160Z\"/>\n",
              "  </svg>\n",
              "    </button>\n",
              "\n",
              "  <style>\n",
              "    .colab-df-container {\n",
              "      display:flex;\n",
              "      gap: 12px;\n",
              "    }\n",
              "\n",
              "    .colab-df-convert {\n",
              "      background-color: #E8F0FE;\n",
              "      border: none;\n",
              "      border-radius: 50%;\n",
              "      cursor: pointer;\n",
              "      display: none;\n",
              "      fill: #1967D2;\n",
              "      height: 32px;\n",
              "      padding: 0 0 0 0;\n",
              "      width: 32px;\n",
              "    }\n",
              "\n",
              "    .colab-df-convert:hover {\n",
              "      background-color: #E2EBFA;\n",
              "      box-shadow: 0px 1px 2px rgba(60, 64, 67, 0.3), 0px 1px 3px 1px rgba(60, 64, 67, 0.15);\n",
              "      fill: #174EA6;\n",
              "    }\n",
              "\n",
              "    .colab-df-buttons div {\n",
              "      margin-bottom: 4px;\n",
              "    }\n",
              "\n",
              "    [theme=dark] .colab-df-convert {\n",
              "      background-color: #3B4455;\n",
              "      fill: #D2E3FC;\n",
              "    }\n",
              "\n",
              "    [theme=dark] .colab-df-convert:hover {\n",
              "      background-color: #434B5C;\n",
              "      box-shadow: 0px 1px 3px 1px rgba(0, 0, 0, 0.15);\n",
              "      filter: drop-shadow(0px 1px 2px rgba(0, 0, 0, 0.3));\n",
              "      fill: #FFFFFF;\n",
              "    }\n",
              "  </style>\n",
              "\n",
              "    <script>\n",
              "      const buttonEl =\n",
              "        document.querySelector('#df-63fbab70-9519-47a7-9c63-62f0a9e6a9ee button.colab-df-convert');\n",
              "      buttonEl.style.display =\n",
              "        google.colab.kernel.accessAllowed ? 'block' : 'none';\n",
              "\n",
              "      async function convertToInteractive(key) {\n",
              "        const element = document.querySelector('#df-63fbab70-9519-47a7-9c63-62f0a9e6a9ee');\n",
              "        const dataTable =\n",
              "          await google.colab.kernel.invokeFunction('convertToInteractive',\n",
              "                                                    [key], {});\n",
              "        if (!dataTable) return;\n",
              "\n",
              "        const docLinkHtml = 'Like what you see? Visit the ' +\n",
              "          '<a target=\"_blank\" href=https://colab.research.google.com/notebooks/data_table.ipynb>data table notebook</a>'\n",
              "          + ' to learn more about interactive tables.';\n",
              "        element.innerHTML = '';\n",
              "        dataTable['output_type'] = 'display_data';\n",
              "        await google.colab.output.renderOutput(dataTable, element);\n",
              "        const docLink = document.createElement('div');\n",
              "        docLink.innerHTML = docLinkHtml;\n",
              "        element.appendChild(docLink);\n",
              "      }\n",
              "    </script>\n",
              "  </div>\n",
              "\n",
              "\n",
              "<div id=\"df-1c3e8687-b60f-4f46-93fd-f408e1d209dd\">\n",
              "  <button class=\"colab-df-quickchart\" onclick=\"quickchart('df-1c3e8687-b60f-4f46-93fd-f408e1d209dd')\"\n",
              "            title=\"Suggest charts\"\n",
              "            style=\"display:none;\">\n",
              "\n",
              "<svg xmlns=\"http://www.w3.org/2000/svg\" height=\"24px\"viewBox=\"0 0 24 24\"\n",
              "     width=\"24px\">\n",
              "    <g>\n",
              "        <path d=\"M19 3H5c-1.1 0-2 .9-2 2v14c0 1.1.9 2 2 2h14c1.1 0 2-.9 2-2V5c0-1.1-.9-2-2-2zM9 17H7v-7h2v7zm4 0h-2V7h2v10zm4 0h-2v-4h2v4z\"/>\n",
              "    </g>\n",
              "</svg>\n",
              "  </button>\n",
              "\n",
              "<style>\n",
              "  .colab-df-quickchart {\n",
              "      --bg-color: #E8F0FE;\n",
              "      --fill-color: #1967D2;\n",
              "      --hover-bg-color: #E2EBFA;\n",
              "      --hover-fill-color: #174EA6;\n",
              "      --disabled-fill-color: #AAA;\n",
              "      --disabled-bg-color: #DDD;\n",
              "  }\n",
              "\n",
              "  [theme=dark] .colab-df-quickchart {\n",
              "      --bg-color: #3B4455;\n",
              "      --fill-color: #D2E3FC;\n",
              "      --hover-bg-color: #434B5C;\n",
              "      --hover-fill-color: #FFFFFF;\n",
              "      --disabled-bg-color: #3B4455;\n",
              "      --disabled-fill-color: #666;\n",
              "  }\n",
              "\n",
              "  .colab-df-quickchart {\n",
              "    background-color: var(--bg-color);\n",
              "    border: none;\n",
              "    border-radius: 50%;\n",
              "    cursor: pointer;\n",
              "    display: none;\n",
              "    fill: var(--fill-color);\n",
              "    height: 32px;\n",
              "    padding: 0;\n",
              "    width: 32px;\n",
              "  }\n",
              "\n",
              "  .colab-df-quickchart:hover {\n",
              "    background-color: var(--hover-bg-color);\n",
              "    box-shadow: 0 1px 2px rgba(60, 64, 67, 0.3), 0 1px 3px 1px rgba(60, 64, 67, 0.15);\n",
              "    fill: var(--button-hover-fill-color);\n",
              "  }\n",
              "\n",
              "  .colab-df-quickchart-complete:disabled,\n",
              "  .colab-df-quickchart-complete:disabled:hover {\n",
              "    background-color: var(--disabled-bg-color);\n",
              "    fill: var(--disabled-fill-color);\n",
              "    box-shadow: none;\n",
              "  }\n",
              "\n",
              "  .colab-df-spinner {\n",
              "    border: 2px solid var(--fill-color);\n",
              "    border-color: transparent;\n",
              "    border-bottom-color: var(--fill-color);\n",
              "    animation:\n",
              "      spin 1s steps(1) infinite;\n",
              "  }\n",
              "\n",
              "  @keyframes spin {\n",
              "    0% {\n",
              "      border-color: transparent;\n",
              "      border-bottom-color: var(--fill-color);\n",
              "      border-left-color: var(--fill-color);\n",
              "    }\n",
              "    20% {\n",
              "      border-color: transparent;\n",
              "      border-left-color: var(--fill-color);\n",
              "      border-top-color: var(--fill-color);\n",
              "    }\n",
              "    30% {\n",
              "      border-color: transparent;\n",
              "      border-left-color: var(--fill-color);\n",
              "      border-top-color: var(--fill-color);\n",
              "      border-right-color: var(--fill-color);\n",
              "    }\n",
              "    40% {\n",
              "      border-color: transparent;\n",
              "      border-right-color: var(--fill-color);\n",
              "      border-top-color: var(--fill-color);\n",
              "    }\n",
              "    60% {\n",
              "      border-color: transparent;\n",
              "      border-right-color: var(--fill-color);\n",
              "    }\n",
              "    80% {\n",
              "      border-color: transparent;\n",
              "      border-right-color: var(--fill-color);\n",
              "      border-bottom-color: var(--fill-color);\n",
              "    }\n",
              "    90% {\n",
              "      border-color: transparent;\n",
              "      border-bottom-color: var(--fill-color);\n",
              "    }\n",
              "  }\n",
              "</style>\n",
              "\n",
              "  <script>\n",
              "    async function quickchart(key) {\n",
              "      const quickchartButtonEl =\n",
              "        document.querySelector('#' + key + ' button');\n",
              "      quickchartButtonEl.disabled = true;  // To prevent multiple clicks.\n",
              "      quickchartButtonEl.classList.add('colab-df-spinner');\n",
              "      try {\n",
              "        const charts = await google.colab.kernel.invokeFunction(\n",
              "            'suggestCharts', [key], {});\n",
              "      } catch (error) {\n",
              "        console.error('Error during call to suggestCharts:', error);\n",
              "      }\n",
              "      quickchartButtonEl.classList.remove('colab-df-spinner');\n",
              "      quickchartButtonEl.classList.add('colab-df-quickchart-complete');\n",
              "    }\n",
              "    (() => {\n",
              "      let quickchartButtonEl =\n",
              "        document.querySelector('#df-1c3e8687-b60f-4f46-93fd-f408e1d209dd button');\n",
              "      quickchartButtonEl.style.display =\n",
              "        google.colab.kernel.accessAllowed ? 'block' : 'none';\n",
              "    })();\n",
              "  </script>\n",
              "</div>\n",
              "\n",
              "    </div>\n",
              "  </div>\n"
            ],
            "application/vnd.google.colaboratory.intrinsic+json": {
              "type": "dataframe",
              "variable_name": "train_df"
            }
          },
          "metadata": {},
          "execution_count": 12
        }
      ]
    },
    {
      "cell_type": "code",
      "source": [
        "#'임신 시도 또는 마지막 임신 경과 연수' 열에서 '없음' 항목이 아닌 행을 출력하고 싶다.\n",
        "filtered_df = train_df[train_df['임신 시도 또는 마지막 임신 경과 연수'] != '없음']\n",
        "print(filtered_df['임신 시도 또는 마지막 임신 경과 연수'].unique())"
      ],
      "metadata": {
        "colab": {
          "base_uri": "https://localhost:8080/"
        },
        "id": "g8DVIHG65K2V",
        "outputId": "26da7dfb-f495-467e-9bfd-7a9001eb2b0f"
      },
      "execution_count": null,
      "outputs": [
        {
          "output_type": "stream",
          "name": "stdout",
          "text": [
            "[ 0. 10.  6.  7.  8. 12.  9.  3. 16. 11. 15.  5. 13. 17.  4. 14. 19. 20.\n",
            " 18.  2.  1.]\n"
          ]
        }
      ]
    },
    {
      "cell_type": "code",
      "source": [
        "train_df['시술 당시 나이'].unique()"
      ],
      "metadata": {
        "colab": {
          "base_uri": "https://localhost:8080/"
        },
        "id": "geHiFrtqAS_o",
        "outputId": "98a63309-7c14-4c17-f332-7ba312538204"
      },
      "execution_count": null,
      "outputs": [
        {
          "output_type": "execute_result",
          "data": {
            "text/plain": [
              "array(['만18-34세', '만45-50세', '만35-37세', '만38-39세', '만40-42세', '만43-44세',\n",
              "       '알 수 없음'], dtype=object)"
            ]
          },
          "metadata": {},
          "execution_count": 14
        }
      ]
    },
    {
      "cell_type": "code",
      "source": [
        "train_df['난자 기증자 나이'].unique()"
      ],
      "metadata": {
        "colab": {
          "base_uri": "https://localhost:8080/"
        },
        "id": "4CCkyKdfgvqi",
        "outputId": "5710d554-9cc4-4033-eaa8-d8f285a08e19"
      },
      "execution_count": null,
      "outputs": [
        {
          "output_type": "execute_result",
          "data": {
            "text/plain": [
              "array(['알 수 없음', '만21-25세', '만31-35세', '만26-30세', '만20세 이하'], dtype=object)"
            ]
          },
          "metadata": {},
          "execution_count": 15
        }
      ]
    },
    {
      "cell_type": "code",
      "source": [
        "train_df['정자 기증자 나이'].unique()"
      ],
      "metadata": {
        "colab": {
          "base_uri": "https://localhost:8080/"
        },
        "id": "RTVJvL6BgvlD",
        "outputId": "b9862b42-b41d-49ff-e90d-381f700ec508"
      },
      "execution_count": null,
      "outputs": [
        {
          "output_type": "execute_result",
          "data": {
            "text/plain": [
              "array(['알 수 없음', '만26-30세', '만21-25세', '만41-45세', '만36-40세', '만31-35세',\n",
              "       '만20세 이하'], dtype=object)"
            ]
          },
          "metadata": {},
          "execution_count": 16
        }
      ]
    },
    {
      "cell_type": "code",
      "source": [
        "age_counts = train_df['정자 기증자 나이'].value_counts()\n",
        "print(age_counts)"
      ],
      "metadata": {
        "colab": {
          "base_uri": "https://localhost:8080/"
        },
        "id": "Qpnm-00gg_Lk",
        "outputId": "1e85fdb7-e3cd-4b7c-8566-71b37a51e62d"
      },
      "execution_count": null,
      "outputs": [
        {
          "output_type": "stream",
          "name": "stdout",
          "text": [
            "정자 기증자 나이\n",
            "알 수 없음     230518\n",
            "만21-25세      5667\n",
            "만36-40세      5282\n",
            "만26-30세      5058\n",
            "만31-35세      4911\n",
            "만41-45세      3848\n",
            "만20세 이하      1067\n",
            "Name: count, dtype: int64\n"
          ]
        }
      ]
    },
    {
      "cell_type": "code",
      "source": [
        "#이렇게 하면 각 연령대별 개수를 내림차순으로 정렬된 상태로 출력해 줘.\n",
        "age_counts = train_df['시술 당시 나이'].value_counts()\n",
        "print(age_counts)"
      ],
      "metadata": {
        "colab": {
          "base_uri": "https://localhost:8080/"
        },
        "id": "tsKTPAsaAS5N",
        "outputId": "4f6265a0-493a-472e-d52d-ed9a51f10fb6"
      },
      "execution_count": null,
      "outputs": [
        {
          "output_type": "stream",
          "name": "stdout",
          "text": [
            "시술 당시 나이\n",
            "만18-34세    102476\n",
            "만35-37세     57780\n",
            "만38-39세     39247\n",
            "만40-42세     37348\n",
            "만43-44세     12253\n",
            "만45-50세      6918\n",
            "알 수 없음        329\n",
            "Name: count, dtype: int64\n"
          ]
        }
      ]
    },
    {
      "cell_type": "code",
      "source": [
        "#이 방법도 같은 결과를 주는데, groupby()는 다른 통계 값을 추가로 계산할 때 유용해.\n",
        "age_counts = train_df.groupby('시술 당시 나이').size()\n",
        "print(age_counts)"
      ],
      "metadata": {
        "colab": {
          "base_uri": "https://localhost:8080/"
        },
        "collapsed": true,
        "id": "y5wnTn2FHjEv",
        "outputId": "ad8f4b7a-9f32-48e4-bbae-0668fc573671"
      },
      "execution_count": null,
      "outputs": [
        {
          "output_type": "stream",
          "name": "stdout",
          "text": [
            "시술 당시 나이\n",
            "만18-34세    102476\n",
            "만35-37세     57780\n",
            "만38-39세     39247\n",
            "만40-42세     37348\n",
            "만43-44세     12253\n",
            "만45-50세      6918\n",
            "알 수 없음        329\n",
            "dtype: int64\n"
          ]
        }
      ]
    },
    {
      "cell_type": "code",
      "source": [
        "#이 경우 train_df에서 \"시술 당시 나이\"가 '만18-34세'이고, \"임신 성공 여부\"가 1인 행의 개수를 세면 돼.\n",
        "#방법 1: 조건 필터링 후 sum() 사용\n",
        "#👉 .shape[0]는 필터링된 행 개수를 반환해.\n",
        "success_count = train_df[(train_df['시술 당시 나이'] == '만18-34세') & (train_df['임신 성공 여부'] == 1)].shape[0]\n",
        "print(success_count)"
      ],
      "metadata": {
        "colab": {
          "base_uri": "https://localhost:8080/"
        },
        "id": "msrG_JfWHjAv",
        "outputId": "f079fd58-c107-43bb-8e47-be502458cb0e"
      },
      "execution_count": null,
      "outputs": [
        {
          "output_type": "stream",
          "name": "stdout",
          "text": [
            "33061\n"
          ]
        }
      ]
    },
    {
      "cell_type": "code",
      "source": [
        "#방법 2: value_counts() 사용\n",
        "#👉 .get(1, 0)을 쓰면 임신 성공 여부(1)의 개수가 없을 때 0을 반환하도록 해.\n",
        "success_count = train_df[train_df['시술 당시 나이'] == '알 수 없음']['임신 성공 여부'].value_counts().get(1, 0)\n",
        "print(success_count)\n"
      ],
      "metadata": {
        "id": "p_4ebUfNLhEu",
        "colab": {
          "base_uri": "https://localhost:8080/"
        },
        "outputId": "6d8a192e-b5a4-4356-9550-44d902c70186"
      },
      "execution_count": null,
      "outputs": [
        {
          "output_type": "stream",
          "name": "stdout",
          "text": [
            "0\n"
          ]
        }
      ]
    },
    {
      "cell_type": "markdown",
      "source": [
        "#각 나이별 임신 성공 확률"
      ],
      "metadata": {
        "id": "J_iMTdNMXVKM"
      }
    },
    {
      "cell_type": "code",
      "source": [
        "success_counts = train_df[train_df['임신 성공 여부'] == 1]['시술 당시 나이'].value_counts()\n",
        "total_counts = train_df['시술 당시 나이'].value_counts()\n",
        "success_rate = success_counts.div(total_counts).fillna(0)\n",
        "print(success_rate)"
      ],
      "metadata": {
        "id": "btNyIeXgLhC3",
        "colab": {
          "base_uri": "https://localhost:8080/"
        },
        "outputId": "5a1f7c10-01f8-4155-e0dd-ed49025f3ebf"
      },
      "execution_count": null,
      "outputs": [
        {
          "output_type": "stream",
          "name": "stdout",
          "text": [
            "시술 당시 나이\n",
            "만18-34세    0.322622\n",
            "만35-37세    0.278401\n",
            "만38-39세    0.217138\n",
            "만40-42세    0.159393\n",
            "만43-44세    0.118012\n",
            "만45-50세    0.167679\n",
            "알 수 없음     0.000000\n",
            "Name: count, dtype: float64\n"
          ]
        }
      ]
    },
    {
      "cell_type": "code",
      "source": [
        "# 성공률 딕셔너리 생성\n",
        "success_rate_dict = {\n",
        "    '만18-34세': 0.322622,\n",
        "    '만35-37세': 0.278401,\n",
        "    '만38-39세': 0.217138,\n",
        "    '만40-42세': 0.159393,\n",
        "    '만43-44세': 0.118012,\n",
        "    '만45-50세': 0.167679,\n",
        "    '알 수 없음': 0.000000\n",
        "}\n",
        "\n",
        "# '시술 당시 나이'에 따라 성공률 매핑하여 새로운 피처 추가\n",
        "train_df['Age Group Success Rate'] = train_df['시술 당시 나이'].map(success_rate_dict)\n",
        "\n",
        "# 결과 확인\n",
        "print(train_df[['시술 당시 나이', 'Age Group Success Rate']].head())\n"
      ],
      "metadata": {
        "colab": {
          "base_uri": "https://localhost:8080/"
        },
        "id": "biFn4X-IYZLR",
        "outputId": "9c4189e6-a53b-4b64-fb06-fba9a3e155e8"
      },
      "execution_count": null,
      "outputs": [
        {
          "output_type": "stream",
          "name": "stdout",
          "text": [
            "  시술 당시 나이  Age Group Success Rate\n",
            "0  만18-34세                0.322622\n",
            "1  만45-50세                0.167679\n",
            "2  만18-34세                0.322622\n",
            "3  만35-37세                0.278401\n",
            "4  만18-34세                0.322622\n"
          ]
        }
      ]
    },
    {
      "cell_type": "code",
      "source": [
        "# '시술 유형'별 임신 성공 확률 계산\n",
        "success_rate_by_procedure = train_df.groupby('시술 유형')['임신 성공 여부'].mean()\n",
        "\n",
        "# 결과 확인\n",
        "print(success_rate_by_procedure)"
      ],
      "metadata": {
        "colab": {
          "base_uri": "https://localhost:8080/"
        },
        "id": "MGJadstjd4kf",
        "outputId": "b07d46ff-3ab1-4c25-ce0d-c0dd1999fb67"
      },
      "execution_count": null,
      "outputs": [
        {
          "output_type": "stream",
          "name": "stdout",
          "text": [
            "시술 유형\n",
            "DI     0.128914\n",
            "IVF    0.261605\n",
            "Name: 임신 성공 여부, dtype: float64\n"
          ]
        }
      ]
    },
    {
      "cell_type": "code",
      "source": [
        "# '난자 기증자 나이'별 임신 성공 확률 계산\n",
        "success_rate_by_procedure = train_df.groupby('난자 기증자 나이')['임신 성공 여부'].mean()\n",
        "\n",
        "# 결과 확인\n",
        "print(success_rate_by_procedure)"
      ],
      "metadata": {
        "colab": {
          "base_uri": "https://localhost:8080/"
        },
        "id": "KQzkk7X_ha5y",
        "outputId": "9ed862c6-4ebc-4f98-968d-3496a2f3ef0b"
      },
      "execution_count": null,
      "outputs": [
        {
          "output_type": "stream",
          "name": "stdout",
          "text": [
            "난자 기증자 나이\n",
            "만20세 이하    0.261905\n",
            "만21-25세    0.329906\n",
            "만26-30세    0.348272\n",
            "만31-35세    0.305215\n",
            "알 수 없음     0.254579\n",
            "Name: 임신 성공 여부, dtype: float64\n"
          ]
        }
      ]
    },
    {
      "cell_type": "code",
      "source": [
        "# '정자 기증자 나이'별 임신 성공 확률 계산\n",
        "success_rate_by_procedure = train_df.groupby('정자 기증자 나이')['임신 성공 여부'].mean()\n",
        "\n",
        "# 결과 확인\n",
        "print(success_rate_by_procedure)"
      ],
      "metadata": {
        "colab": {
          "base_uri": "https://localhost:8080/"
        },
        "id": "sj33ohAQh0Pg",
        "outputId": "68b1439b-1ad7-454f-b511-2a3488ad5cc6"
      },
      "execution_count": null,
      "outputs": [
        {
          "output_type": "stream",
          "name": "stdout",
          "text": [
            "정자 기증자 나이\n",
            "만20세 이하    0.209934\n",
            "만21-25세    0.241398\n",
            "만26-30세    0.248122\n",
            "만31-35세    0.248626\n",
            "만36-40세    0.245740\n",
            "만41-45세    0.242983\n",
            "알 수 없음     0.259967\n",
            "Name: 임신 성공 여부, dtype: float64\n"
          ]
        }
      ]
    },
    {
      "cell_type": "code",
      "source": [
        "# '대리모 여부'별 임신 성공 확률 계산\n",
        "success_rate_by_procedure = train_df.groupby('대리모 여부')['임신 성공 여부'].mean()\n",
        "\n",
        "# 결과 확인\n",
        "print(success_rate_by_procedure)"
      ],
      "metadata": {
        "colab": {
          "base_uri": "https://localhost:8080/"
        },
        "id": "lCDgn8gNh3t4",
        "outputId": "da69a17e-2357-43d3-d65f-b1c08394aa99"
      },
      "execution_count": null,
      "outputs": [
        {
          "output_type": "stream",
          "name": "stdout",
          "text": [
            "대리모 여부\n",
            "0.0    0.258224\n",
            "1.0    0.288847\n",
            "Name: 임신 성공 여부, dtype: float64\n"
          ]
        }
      ]
    },
    {
      "cell_type": "code",
      "source": [
        "# '총 시술 횟수'별 임신 성공 확률 계산\n",
        "success_rate_by_procedure = train_df.groupby('총 시술 횟수')['임신 성공 여부'].mean()\n",
        "\n",
        "# 결과 확인\n",
        "print(success_rate_by_procedure)"
      ],
      "metadata": {
        "colab": {
          "base_uri": "https://localhost:8080/"
        },
        "id": "5N5_8270iQO9",
        "outputId": "d164e613-6da0-4327-df9e-46c558c157b8"
      },
      "execution_count": null,
      "outputs": [
        {
          "output_type": "stream",
          "name": "stdout",
          "text": [
            "총 시술 횟수\n",
            "0회       0.290987\n",
            "1회       0.249952\n",
            "2회       0.244166\n",
            "3회       0.236354\n",
            "4회       0.227792\n",
            "5회       0.215792\n",
            "6회 이상    0.203300\n",
            "Name: 임신 성공 여부, dtype: float64\n"
          ]
        }
      ]
    },
    {
      "cell_type": "code",
      "source": [
        "train_df['임신 시도 또는 마지막 임신 경과 연수'].head(200)"
      ],
      "metadata": {
        "colab": {
          "base_uri": "https://localhost:8080/"
        },
        "id": "k4f0DkSCuuOz",
        "outputId": "e9621b74-6d3f-41f4-cf59-9fdc049f063d"
      },
      "execution_count": null,
      "outputs": [
        {
          "output_type": "execute_result",
          "data": {
            "text/plain": [
              "0      0.0\n",
              "1      0.0\n",
              "2      0.0\n",
              "3      0.0\n",
              "4      0.0\n",
              "      ... \n",
              "195    0.0\n",
              "196    0.0\n",
              "197    0.0\n",
              "198    0.0\n",
              "199    0.0\n",
              "Name: 임신 시도 또는 마지막 임신 경과 연수, Length: 200, dtype: float64"
            ],
            "text/html": [
              "<div>\n",
              "<style scoped>\n",
              "    .dataframe tbody tr th:only-of-type {\n",
              "        vertical-align: middle;\n",
              "    }\n",
              "\n",
              "    .dataframe tbody tr th {\n",
              "        vertical-align: top;\n",
              "    }\n",
              "\n",
              "    .dataframe thead th {\n",
              "        text-align: right;\n",
              "    }\n",
              "</style>\n",
              "<table border=\"1\" class=\"dataframe\">\n",
              "  <thead>\n",
              "    <tr style=\"text-align: right;\">\n",
              "      <th></th>\n",
              "      <th>임신 시도 또는 마지막 임신 경과 연수</th>\n",
              "    </tr>\n",
              "  </thead>\n",
              "  <tbody>\n",
              "    <tr>\n",
              "      <th>0</th>\n",
              "      <td>0.0</td>\n",
              "    </tr>\n",
              "    <tr>\n",
              "      <th>1</th>\n",
              "      <td>0.0</td>\n",
              "    </tr>\n",
              "    <tr>\n",
              "      <th>2</th>\n",
              "      <td>0.0</td>\n",
              "    </tr>\n",
              "    <tr>\n",
              "      <th>3</th>\n",
              "      <td>0.0</td>\n",
              "    </tr>\n",
              "    <tr>\n",
              "      <th>4</th>\n",
              "      <td>0.0</td>\n",
              "    </tr>\n",
              "    <tr>\n",
              "      <th>...</th>\n",
              "      <td>...</td>\n",
              "    </tr>\n",
              "    <tr>\n",
              "      <th>195</th>\n",
              "      <td>0.0</td>\n",
              "    </tr>\n",
              "    <tr>\n",
              "      <th>196</th>\n",
              "      <td>0.0</td>\n",
              "    </tr>\n",
              "    <tr>\n",
              "      <th>197</th>\n",
              "      <td>0.0</td>\n",
              "    </tr>\n",
              "    <tr>\n",
              "      <th>198</th>\n",
              "      <td>0.0</td>\n",
              "    </tr>\n",
              "    <tr>\n",
              "      <th>199</th>\n",
              "      <td>0.0</td>\n",
              "    </tr>\n",
              "  </tbody>\n",
              "</table>\n",
              "<p>200 rows × 1 columns</p>\n",
              "</div><br><label><b>dtype:</b> float64</label>"
            ]
          },
          "metadata": {},
          "execution_count": 39
        }
      ]
    },
    {
      "cell_type": "code",
      "source": [
        "# '임신 시도 또는 마지막 임신 경과 연수'별 임신 성공 확률 계산\n",
        "success_rate_by_procedure = train_df.groupby('임신 시도 또는 마지막 임신 경과 연수')['임신 성공 여부'].mean()\n",
        "\n",
        "# 결과 확인\n",
        "print(success_rate_by_procedure)"
      ],
      "metadata": {
        "colab": {
          "base_uri": "https://localhost:8080/"
        },
        "id": "hypZ9OKFlGqA",
        "outputId": "1c4a4b76-f322-4420-98d3-6dd343b4816b"
      },
      "execution_count": null,
      "outputs": [
        {
          "output_type": "stream",
          "name": "stdout",
          "text": [
            "임신 시도 또는 마지막 임신 경과 연수\n",
            "0.0     0.259930\n",
            "1.0     0.333333\n",
            "2.0     0.190476\n",
            "3.0     0.247191\n",
            "4.0     0.242623\n",
            "5.0     0.245665\n",
            "6.0     0.249243\n",
            "7.0     0.235585\n",
            "8.0     0.215136\n",
            "9.0     0.204301\n",
            "10.0    0.221753\n",
            "11.0    0.189729\n",
            "12.0    0.219608\n",
            "13.0    0.162162\n",
            "14.0    0.223565\n",
            "15.0    0.208661\n",
            "16.0    0.153465\n",
            "17.0    0.178571\n",
            "18.0    0.160377\n",
            "19.0    0.151163\n",
            "20.0    0.168675\n",
            "Name: 임신 성공 여부, dtype: float64\n"
          ]
        }
      ]
    },
    {
      "cell_type": "code",
      "source": [
        "# '임신 시도 또는 마지막 임신 경과 연수'별 임신 성공 확률 계산\n",
        "success_rate_by_procedure = train_df.groupby('임신 시도 또는 마지막 임신 경과 연수')['임신 성공 여부'].mean()\n",
        "\n",
        "# 결과 확인\n",
        "print(success_rate_by_procedure)"
      ],
      "metadata": {
        "id": "78tlJPlslGmN",
        "colab": {
          "base_uri": "https://localhost:8080/"
        },
        "outputId": "9c976bf1-6159-4a4b-8e37-7b8773d1c01f"
      },
      "execution_count": null,
      "outputs": [
        {
          "output_type": "stream",
          "name": "stdout",
          "text": [
            "임신 시도 또는 마지막 임신 경과 연수\n",
            "0.0     0.259930\n",
            "1.0     0.333333\n",
            "2.0     0.190476\n",
            "3.0     0.247191\n",
            "4.0     0.242623\n",
            "5.0     0.245665\n",
            "6.0     0.249243\n",
            "7.0     0.235585\n",
            "8.0     0.215136\n",
            "9.0     0.204301\n",
            "10.0    0.221753\n",
            "11.0    0.189729\n",
            "12.0    0.219608\n",
            "13.0    0.162162\n",
            "14.0    0.223565\n",
            "15.0    0.208661\n",
            "16.0    0.153465\n",
            "17.0    0.178571\n",
            "18.0    0.160377\n",
            "19.0    0.151163\n",
            "20.0    0.168675\n",
            "Name: 임신 성공 여부, dtype: float64\n"
          ]
        }
      ]
    },
    {
      "cell_type": "code",
      "source": [],
      "metadata": {
        "id": "RZRjhPX6Nc6M"
      },
      "execution_count": null,
      "outputs": []
    },
    {
      "cell_type": "code",
      "source": [],
      "metadata": {
        "id": "FAVCdg7ulGkF"
      },
      "execution_count": null,
      "outputs": []
    },
    {
      "cell_type": "markdown",
      "source": [
        "#Submission _ 시술 당시 나이"
      ],
      "metadata": {
        "id": "u-QTK23df0HI"
      }
    },
    {
      "cell_type": "code",
      "source": [
        "# 시술 유형별 임신 성공 확률\n",
        "procedure_success_rate = {\n",
        "    'DI': 0.128914,\n",
        "    'IVF': 0.261605\n",
        "}\n",
        "\n",
        "# 시술 당시 나이별 임신 성공 확률 (기존에 계산한 값을 사용)\n",
        "age_group_success_rate = {\n",
        "    '만18-34세': 0.322622,\n",
        "    '만35-37세': 0.278401,\n",
        "    '만38-39세': 0.217138,\n",
        "    '만40-42세': 0.159393,\n",
        "    '만43-44세': 0.118012,\n",
        "    '만45-50세': 0.167679,\n",
        "    '알 수 없음': 0.000000\n",
        "}\n",
        "\n",
        "# 시술 유형과 나이에 따른 성공 확률을 결합하여 새로운 피처 'Combined Success Rate' 생성\n",
        "def combine_success_rate(row):\n",
        "    procedure_success = procedure_success_rate.get(row['시술 유형'], 0)\n",
        "    age_success = age_group_success_rate.get(row['시술 당시 나이'], 0)\n",
        "\n",
        "    # 결합된 확률 (단순 평균을 사용할 수 있음, 다른 방식도 가능)\n",
        "    return (procedure_success + age_success) / 2\n",
        "\n",
        "# 새로운 피처 'Combined Success Rate' 추가\n",
        "train_df['Combined Success Rate'] = train_df.apply(combine_success_rate, axis=1)\n",
        "\n",
        "# 결과 확인\n",
        "print(train_df[['시술 유형', '시술 당시 나이', 'Combined Success Rate']].head())"
      ],
      "metadata": {
        "colab": {
          "base_uri": "https://localhost:8080/"
        },
        "id": "YMuwAVV0eQx6",
        "outputId": "9d26c1e3-e1dc-4faa-8e19-d9a9090cacfe"
      },
      "execution_count": null,
      "outputs": [
        {
          "output_type": "stream",
          "name": "stdout",
          "text": [
            "  시술 유형 시술 당시 나이  Combined Success Rate\n",
            "0   IVF  만18-34세               0.292114\n",
            "1   IVF  만45-50세               0.214642\n",
            "2   IVF  만18-34세               0.292114\n",
            "3   IVF  만35-37세               0.270003\n",
            "4   IVF  만18-34세               0.292114\n"
          ]
        }
      ]
    },
    {
      "cell_type": "code",
      "source": [
        "# 테스트 데이터 로드\n",
        "test_df = pd.read_csv('/content/drive/MyDrive/Colab Notebooks/lgaimers/test.csv')\n",
        "\n",
        "# '시술 당시 나이'에 따른 성공률 매핑 (train에서 했던 방식으로)\n",
        "test_df['Age Group Success Rate'] = test_df['시술 당시 나이'].map(success_rate_dict)\n",
        "\n",
        "# 테스트 데이터에 대해 예측 확률 계산\n",
        "X_test = test_df[['Age Group Success Rate']]  # 예측에 사용할 피처\n",
        "pred_proba_test = model.predict_proba(X_test)[:, 1]  # 클래스 1에 대한 확률만 추출\n",
        "\n",
        "# sample_submission 파일 불러오기\n",
        "sample_submission = pd.read_csv('/content/drive/MyDrive/Colab Notebooks/lgaimers/sample_submission.csv')\n",
        "\n",
        "# 예측 확률을 'probability' 컬럼에 추가\n",
        "sample_submission['probability'] = pred_proba_test\n",
        "\n",
        "# 결과를 CSV 파일로 저장\n",
        "sample_submission.to_csv('/content/drive/MyDrive/Colab Notebooks/lgaimers/submission.csv', index=False)\n",
        "\n",
        "# 결과 확인\n",
        "print(sample_submission.head())\n"
      ],
      "metadata": {
        "id": "lS078TKv3yUi",
        "colab": {
          "base_uri": "https://localhost:8080/"
        },
        "outputId": "fd8727dc-2d88-4115-c7a6-257428007c23"
      },
      "execution_count": null,
      "outputs": [
        {
          "output_type": "error",
          "ename": "ValueError",
          "evalue": "The feature names should match those that were passed during fit.\nFeature names seen at fit time, yet now missing:\n- Combined Success Rate\n",
          "traceback": [
            "\u001b[0;31m---------------------------------------------------------------------------\u001b[0m",
            "\u001b[0;31mValueError\u001b[0m                                Traceback (most recent call last)",
            "\u001b[0;32m<ipython-input-97-73d8f942ab5f>\u001b[0m in \u001b[0;36m<cell line: 0>\u001b[0;34m()\u001b[0m\n\u001b[1;32m      7\u001b[0m \u001b[0;31m# 테스트 데이터에 대해 예측 확률 계산\u001b[0m\u001b[0;34m\u001b[0m\u001b[0;34m\u001b[0m\u001b[0m\n\u001b[1;32m      8\u001b[0m \u001b[0mX_test\u001b[0m \u001b[0;34m=\u001b[0m \u001b[0mtest_df\u001b[0m\u001b[0;34m[\u001b[0m\u001b[0;34m[\u001b[0m\u001b[0;34m'Age Group Success Rate'\u001b[0m\u001b[0;34m]\u001b[0m\u001b[0;34m]\u001b[0m  \u001b[0;31m# 예측에 사용할 피처\u001b[0m\u001b[0;34m\u001b[0m\u001b[0;34m\u001b[0m\u001b[0m\n\u001b[0;32m----> 9\u001b[0;31m \u001b[0mpred_proba_test\u001b[0m \u001b[0;34m=\u001b[0m \u001b[0mmodel\u001b[0m\u001b[0;34m.\u001b[0m\u001b[0mpredict_proba\u001b[0m\u001b[0;34m(\u001b[0m\u001b[0mX_test\u001b[0m\u001b[0;34m)\u001b[0m\u001b[0;34m[\u001b[0m\u001b[0;34m:\u001b[0m\u001b[0;34m,\u001b[0m \u001b[0;36m1\u001b[0m\u001b[0;34m]\u001b[0m  \u001b[0;31m# 클래스 1에 대한 확률만 추출\u001b[0m\u001b[0;34m\u001b[0m\u001b[0;34m\u001b[0m\u001b[0m\n\u001b[0m\u001b[1;32m     10\u001b[0m \u001b[0;34m\u001b[0m\u001b[0m\n\u001b[1;32m     11\u001b[0m \u001b[0;31m# sample_submission 파일 불러오기\u001b[0m\u001b[0;34m\u001b[0m\u001b[0;34m\u001b[0m\u001b[0m\n",
            "\u001b[0;32m/usr/local/lib/python3.11/dist-packages/sklearn/ensemble/_forest.py\u001b[0m in \u001b[0;36mpredict_proba\u001b[0;34m(self, X)\u001b[0m\n\u001b[1;32m    944\u001b[0m         \u001b[0mcheck_is_fitted\u001b[0m\u001b[0;34m(\u001b[0m\u001b[0mself\u001b[0m\u001b[0;34m)\u001b[0m\u001b[0;34m\u001b[0m\u001b[0;34m\u001b[0m\u001b[0m\n\u001b[1;32m    945\u001b[0m         \u001b[0;31m# Check data\u001b[0m\u001b[0;34m\u001b[0m\u001b[0;34m\u001b[0m\u001b[0m\n\u001b[0;32m--> 946\u001b[0;31m         \u001b[0mX\u001b[0m \u001b[0;34m=\u001b[0m \u001b[0mself\u001b[0m\u001b[0;34m.\u001b[0m\u001b[0m_validate_X_predict\u001b[0m\u001b[0;34m(\u001b[0m\u001b[0mX\u001b[0m\u001b[0;34m)\u001b[0m\u001b[0;34m\u001b[0m\u001b[0;34m\u001b[0m\u001b[0m\n\u001b[0m\u001b[1;32m    947\u001b[0m \u001b[0;34m\u001b[0m\u001b[0m\n\u001b[1;32m    948\u001b[0m         \u001b[0;31m# Assign chunk of trees to jobs\u001b[0m\u001b[0;34m\u001b[0m\u001b[0;34m\u001b[0m\u001b[0m\n",
            "\u001b[0;32m/usr/local/lib/python3.11/dist-packages/sklearn/ensemble/_forest.py\u001b[0m in \u001b[0;36m_validate_X_predict\u001b[0;34m(self, X)\u001b[0m\n\u001b[1;32m    636\u001b[0m             \u001b[0mensure_all_finite\u001b[0m \u001b[0;34m=\u001b[0m \u001b[0;32mTrue\u001b[0m\u001b[0;34m\u001b[0m\u001b[0;34m\u001b[0m\u001b[0m\n\u001b[1;32m    637\u001b[0m \u001b[0;34m\u001b[0m\u001b[0m\n\u001b[0;32m--> 638\u001b[0;31m         X = validate_data(\n\u001b[0m\u001b[1;32m    639\u001b[0m             \u001b[0mself\u001b[0m\u001b[0;34m,\u001b[0m\u001b[0;34m\u001b[0m\u001b[0;34m\u001b[0m\u001b[0m\n\u001b[1;32m    640\u001b[0m             \u001b[0mX\u001b[0m\u001b[0;34m,\u001b[0m\u001b[0;34m\u001b[0m\u001b[0;34m\u001b[0m\u001b[0m\n",
            "\u001b[0;32m/usr/local/lib/python3.11/dist-packages/sklearn/utils/validation.py\u001b[0m in \u001b[0;36mvalidate_data\u001b[0;34m(_estimator, X, y, reset, validate_separately, skip_check_array, **check_params)\u001b[0m\n\u001b[1;32m   2917\u001b[0m         \u001b[0mvalidated\u001b[0m\u001b[0;34m.\u001b[0m\u001b[0;34m\u001b[0m\u001b[0;34m\u001b[0m\u001b[0m\n\u001b[1;32m   2918\u001b[0m     \"\"\"\n\u001b[0;32m-> 2919\u001b[0;31m     \u001b[0m_check_feature_names\u001b[0m\u001b[0;34m(\u001b[0m\u001b[0m_estimator\u001b[0m\u001b[0;34m,\u001b[0m \u001b[0mX\u001b[0m\u001b[0;34m,\u001b[0m \u001b[0mreset\u001b[0m\u001b[0;34m=\u001b[0m\u001b[0mreset\u001b[0m\u001b[0;34m)\u001b[0m\u001b[0;34m\u001b[0m\u001b[0;34m\u001b[0m\u001b[0m\n\u001b[0m\u001b[1;32m   2920\u001b[0m     \u001b[0mtags\u001b[0m \u001b[0;34m=\u001b[0m \u001b[0mget_tags\u001b[0m\u001b[0;34m(\u001b[0m\u001b[0m_estimator\u001b[0m\u001b[0;34m)\u001b[0m\u001b[0;34m\u001b[0m\u001b[0;34m\u001b[0m\u001b[0m\n\u001b[1;32m   2921\u001b[0m     \u001b[0;32mif\u001b[0m \u001b[0my\u001b[0m \u001b[0;32mis\u001b[0m \u001b[0;32mNone\u001b[0m \u001b[0;32mand\u001b[0m \u001b[0mtags\u001b[0m\u001b[0;34m.\u001b[0m\u001b[0mtarget_tags\u001b[0m\u001b[0;34m.\u001b[0m\u001b[0mrequired\u001b[0m\u001b[0;34m:\u001b[0m\u001b[0;34m\u001b[0m\u001b[0;34m\u001b[0m\u001b[0m\n",
            "\u001b[0;32m/usr/local/lib/python3.11/dist-packages/sklearn/utils/validation.py\u001b[0m in \u001b[0;36m_check_feature_names\u001b[0;34m(estimator, X, reset)\u001b[0m\n\u001b[1;32m   2775\u001b[0m             \u001b[0mmessage\u001b[0m \u001b[0;34m+=\u001b[0m \u001b[0;34m\"Feature names must be in the same order as they were in fit.\\n\"\u001b[0m\u001b[0;34m\u001b[0m\u001b[0;34m\u001b[0m\u001b[0m\n\u001b[1;32m   2776\u001b[0m \u001b[0;34m\u001b[0m\u001b[0m\n\u001b[0;32m-> 2777\u001b[0;31m         \u001b[0;32mraise\u001b[0m \u001b[0mValueError\u001b[0m\u001b[0;34m(\u001b[0m\u001b[0mmessage\u001b[0m\u001b[0;34m)\u001b[0m\u001b[0;34m\u001b[0m\u001b[0;34m\u001b[0m\u001b[0m\n\u001b[0m\u001b[1;32m   2778\u001b[0m \u001b[0;34m\u001b[0m\u001b[0m\n\u001b[1;32m   2779\u001b[0m \u001b[0;34m\u001b[0m\u001b[0m\n",
            "\u001b[0;31mValueError\u001b[0m: The feature names should match those that were passed during fit.\nFeature names seen at fit time, yet now missing:\n- Combined Success Rate\n"
          ]
        }
      ]
    },
    {
      "cell_type": "markdown",
      "source": [
        "#submission1 _ 시술 당시 나이 + 시술 유형"
      ],
      "metadata": {
        "id": "sdzDE1FAfcp3"
      }
    },
    {
      "cell_type": "code",
      "source": [
        "# 시술 유형별 성공률 매핑 (train에서 사용했던 방식)\n",
        "procedure_success_rate = {\n",
        "    'DI': 0.128914,\n",
        "    'IVF': 0.261605\n",
        "}\n",
        "\n",
        "# 시술 당시 나이별 성공률 매핑 (train에서 사용했던 방식)\n",
        "age_group_success_rate = {\n",
        "    '만18-34세': 0.322622,\n",
        "    '만35-37세': 0.278401,\n",
        "    '만38-39세': 0.217138,\n",
        "    '만40-42세': 0.159393,\n",
        "    '만43-44세': 0.118012,\n",
        "    '만45-50세': 0.167679,\n",
        "    '알 수 없음': 0.000000\n",
        "}\n",
        "\n",
        "# 시술 유형과 나이에 따른 성공 확률을 결합하여 새로운 피처 'Combined Success Rate' 생성\n",
        "def combine_success_rate(row):\n",
        "    procedure_success = procedure_success_rate.get(row['시술 유형'], 0)\n",
        "    age_success = age_group_success_rate.get(row['시술 당시 나이'], 0)\n",
        "    return (procedure_success + age_success) / 2  # 결합된 확률\n",
        "\n",
        "# 훈련 데이터에 'Age Group Success Rate'와 'Combined Success Rate' 추가\n",
        "train_df['Age Group Success Rate'] = train_df['시술 당시 나이'].map(age_group_success_rate)\n",
        "train_df['Combined Success Rate'] = train_df.apply(combine_success_rate, axis=1)\n",
        "\n",
        "# 훈련 데이터에서 사용할 피처들 설정\n",
        "X_train = train_df[['Age Group Success Rate', 'Combined Success Rate']]  # 두 피처 모두 포함\n",
        "y_train = train_df['임신 성공 여부']  # 타겟\n",
        "\n",
        "# 모델 훈련\n",
        "model = ExtraTreesClassifier(random_state=42)\n",
        "model.fit(X_train, y_train)\n",
        "\n",
        "# 테스트 데이터 로드\n",
        "test_df = pd.read_csv('/content/drive/MyDrive/Colab Notebooks/lgaimers/test.csv')\n",
        "\n",
        "# 테스트 데이터에 'Age Group Success Rate'와 'Combined Success Rate' 추가\n",
        "test_df['Age Group Success Rate'] = test_df['시술 당시 나이'].map(age_group_success_rate)\n",
        "test_df['Combined Success Rate'] = test_df.apply(combine_success_rate, axis=1)\n",
        "\n",
        "# 테스트 데이터에서 예측에 사용할 피처 설정\n",
        "X_test = test_df[['Age Group Success Rate', 'Combined Success Rate']]  # 훈련과 동일한 피처 사용\n",
        "\n",
        "# 예측 확률 계산\n",
        "pred_proba_test = model.predict_proba(X_test)[:, 1]  # 클래스 1에 대한 확률만 추출\n",
        "\n",
        "# sample_submission 파일 불러오기\n",
        "sample_submission = pd.read_csv('/content/drive/MyDrive/Colab Notebooks/lgaimers/sample_submission.csv')\n",
        "\n",
        "# 예측 확률을 'probability' 컬럼에 추가\n",
        "sample_submission['probability'] = pred_proba_test\n",
        "\n",
        "# 결과를 CSV 파일로 저장\n",
        "sample_submission.to_csv('/content/drive/MyDrive/Colab Notebooks/lgaimers/제출파일/submission1.csv', index=False)\n",
        "\n",
        "# 결과 확인\n",
        "print(sample_submission.head())\n"
      ],
      "metadata": {
        "colab": {
          "base_uri": "https://localhost:8080/"
        },
        "id": "jX3pDgkyeQtv",
        "outputId": "5043466c-7366-428c-a63a-2f965d0cb784"
      },
      "execution_count": null,
      "outputs": [
        {
          "output_type": "stream",
          "name": "stdout",
          "text": [
            "           ID  probability\n",
            "0  TEST_00000     0.281679\n",
            "1  TEST_00001     0.325263\n",
            "2  TEST_00002     0.161957\n",
            "3  TEST_00003     0.161957\n",
            "4  TEST_00004     0.281679\n"
          ]
        }
      ]
    },
    {
      "cell_type": "markdown",
      "source": [
        "#submission2_ 총 시술 횟수 추가"
      ],
      "metadata": {
        "id": "ckCWpgcEi2bG"
      }
    },
    {
      "cell_type": "code",
      "source": [
        "#총 시술 횟수별 성공률 매핑\n",
        "all_counted_success_rate ={\n",
        "    '0회': 0.290987,\n",
        "    '1회': 0.249952,\n",
        "    '2회': 0.236354,\n",
        "    '3회': 0.236354,\n",
        "    '4회': 0.227792,\n",
        "    '5회': 0.215792,\n",
        "    '6회 이상': 0.203300\n",
        "\n",
        "}\n",
        "\n",
        "# 시술 유형별 성공률 매핑 (train에서 사용했던 방식)\n",
        "procedure_success_rate = {\n",
        "    'DI': 0.128914,\n",
        "    'IVF': 0.261605\n",
        "}\n",
        "\n",
        "# 시술 당시 나이별 성공률 매핑 (train에서 사용했던 방식)\n",
        "age_group_success_rate = {\n",
        "    '만18-34세': 0.322622,\n",
        "    '만35-37세': 0.278401,\n",
        "    '만38-39세': 0.217138,\n",
        "    '만40-42세': 0.159393,\n",
        "    '만43-44세': 0.118012,\n",
        "    '만45-50세': 0.167679,\n",
        "    '알 수 없음': 0.000000\n",
        "}\n",
        "\n",
        "# 시술 유형과 나이에 따른 성공 확률을 결합하여 새로운 피처 'Combined Success Rate' 생성\n",
        "def combine_success_rate(row):\n",
        "    all_counted_success = all_counted_success_rate.get(row['총 시술 횟수'],0)\n",
        "    procedure_success = procedure_success_rate.get(row['시술 유형'], 0)\n",
        "    age_success = age_group_success_rate.get(row['시술 당시 나이'], 0)\n",
        "    return (all_counted_success + procedure_success + age_success) / 3  # 결합된 확률\n",
        "\n",
        "# 훈련 데이터에 'Age Group Success Rate'와 'Combined Success Rate' 추가\n",
        "train_df['Age Group Success Rate'] = train_df['시술 당시 나이'].map(age_group_success_rate)\n",
        "train_df['Combined Success Rate'] = train_df.apply(combine_success_rate, axis=1)\n",
        "\n",
        "# 훈련 데이터에서 사용할 피처들 설정\n",
        "X_train = train_df[['Age Group Success Rate', 'Combined Success Rate']]  # 두 피처 모두 포함\n",
        "y_train = train_df['임신 성공 여부']  # 타겟\n",
        "\n",
        "# 모델 훈련\n",
        "model = ExtraTreesClassifier(random_state=42)\n",
        "model.fit(X_train, y_train)\n",
        "\n",
        "# 테스트 데이터 로드\n",
        "test_df = pd.read_csv('/content/drive/MyDrive/Colab Notebooks/lgaimers/test.csv')\n",
        "\n",
        "# 테스트 데이터에 'Age Group Success Rate'와 'Combined Success Rate' 추가\n",
        "test_df['Age Group Success Rate'] = test_df['시술 당시 나이'].map(age_group_success_rate)\n",
        "test_df['Combined Success Rate'] = test_df.apply(combine_success_rate, axis=1)\n",
        "\n",
        "# 테스트 데이터에서 예측에 사용할 피처 설정\n",
        "X_test = test_df[['Age Group Success Rate', 'Combined Success Rate']]  # 훈련과 동일한 피처 사용\n",
        "\n",
        "# 예측 확률 계산\n",
        "pred_proba_test = model.predict_proba(X_test)[:, 1]  # 클래스 1에 대한 확률만 추출\n",
        "\n",
        "# sample_submission 파일 불러오기\n",
        "sample_submission = pd.read_csv('/content/drive/MyDrive/Colab Notebooks/lgaimers/sample_submission.csv')\n",
        "\n",
        "# 예측 확률을 'probability' 컬럼에 추가\n",
        "sample_submission['probability'] = pred_proba_test\n",
        "\n",
        "# 결과를 CSV 파일로 저장\n",
        "sample_submission.to_csv('/content/drive/MyDrive/Colab Notebooks/lgaimers/제출파일/submission2.csv', index=False)\n",
        "\n",
        "# 결과 확인\n",
        "print(sample_submission.head())"
      ],
      "metadata": {
        "colab": {
          "base_uri": "https://localhost:8080/"
        },
        "id": "s3KrBiigfPUM",
        "outputId": "36fb70fe-414b-4067-aa62-0afeafca5d6f"
      },
      "execution_count": null,
      "outputs": [
        {
          "output_type": "stream",
          "name": "stdout",
          "text": [
            "           ID  probability\n",
            "0  TEST_00000     0.268469\n",
            "1  TEST_00001     0.340859\n",
            "2  TEST_00002     0.167135\n",
            "3  TEST_00003     0.167135\n",
            "4  TEST_00004     0.268469\n"
          ]
        }
      ]
    },
    {
      "cell_type": "markdown",
      "source": [
        "#Submission3_ + 임신 시도 또는 마지막 임신 경과 연수"
      ],
      "metadata": {
        "id": "pkMdzMzGlXNs"
      }
    },
    {
      "cell_type": "code",
      "source": [
        "# '임신 시도 또는 마지막 임신 경과 연수'별 성공률 매핑\n",
        "years_last_attempt_pregnancy_success_rate={\n",
        "    '0,0': 0.333333,\n",
        "    '1.0': 0.333333,\n",
        "    '2.0': 0.190476,\n",
        "    '3.0': 0.247191,\n",
        "    '4.0': 0.242623,\n",
        "    '5.0': 0.245665,\n",
        "    '6.0': 0.249243,\n",
        "    '7.0': 0.235585,\n",
        "    '8.0': 0.215136,\n",
        "    '9.0': 0.204301,\n",
        "    '10.0': 0.221753,\n",
        "    '11.0': 0.189729,\n",
        "    '12.0': 0.219608,\n",
        "    '13.0': 0.162162,\n",
        "    '14.0': 0.223565,\n",
        "    '15.0': 0.208661,\n",
        "    '16.0': 0.153465,\n",
        "    '17.0': 0.178571,\n",
        "    '18.0': 0.160377,\n",
        "    '19.0': 0.151163,\n",
        "    '20.0': 0.168675,\n",
        "    '없음': 0.259927\n",
        "}\n",
        "\n",
        "\n",
        "#총 시술 횟수별 성공률 매핑\n",
        "all_counted_success_rate ={\n",
        "    '0회': 0.290987,\n",
        "    '1회': 0.249952,\n",
        "    '2회': 0.236354,\n",
        "    '3회': 0.236354,\n",
        "    '4회': 0.227792,\n",
        "    '5회': 0.215792,\n",
        "    '6회 이상': 0.203300\n",
        "\n",
        "}\n",
        "\n",
        "# 시술 유형별 성공률 매핑 (train에서 사용했던 방식)\n",
        "procedure_success_rate = {\n",
        "    'DI': 0.128914,\n",
        "    'IVF': 0.261605\n",
        "}\n",
        "\n",
        "# 시술 당시 나이별 성공률 매핑 (train에서 사용했던 방식)\n",
        "age_group_success_rate = {\n",
        "    '만18-34세': 0.322622,\n",
        "    '만35-37세': 0.278401,\n",
        "    '만38-39세': 0.217138,\n",
        "    '만40-42세': 0.159393,\n",
        "    '만43-44세': 0.118012,\n",
        "    '만45-50세': 0.167679,\n",
        "    '알 수 없음': 0.000000\n",
        "}\n",
        "\n",
        "# 시술 유형과 나이에 따른 성공 확률을 결합하여 새로운 피처 'Combined Success Rate' 생성\n",
        "def combine_success_rate(row):\n",
        "    years_last_attempt_pregnancy_success = years_last_attempt_pregnancy_success_rate.get(row['임신 시도 또는 마지막 임신 경과 연수'],0)\n",
        "    all_counted_success = all_counted_success_rate.get(row['총 시술 횟수'],0)\n",
        "    procedure_success = procedure_success_rate.get(row['시술 유형'], 0)\n",
        "    age_success = age_group_success_rate.get(row['시술 당시 나이'], 0)\n",
        "    return (years_last_attempt_pregnancy_success + all_counted_success + procedure_success + age_success) / 4  # 결합된 확률\n",
        "\n",
        "# 훈련 데이터에 'Age Group Success Rate'와 'Combined Success Rate' 추가\n",
        "train_df['Age Group Success Rate'] = train_df['시술 당시 나이'].map(age_group_success_rate)\n",
        "train_df['Combined Success Rate'] = train_df.apply(combine_success_rate, axis=1)\n",
        "\n",
        "# 훈련 데이터에서 사용할 피처들 설정\n",
        "X_train = train_df[['Age Group Success Rate', 'Combined Success Rate']]  # 두 피처 모두 포함\n",
        "y_train = train_df['임신 성공 여부']  # 타겟\n",
        "\n",
        "# 모델 훈련\n",
        "model = ExtraTreesClassifier(random_state=42)\n",
        "model.fit(X_train, y_train)\n",
        "\n",
        "# 테스트 데이터 로드\n",
        "test_df = pd.read_csv('/content/drive/MyDrive/Colab Notebooks/lgaimers/test.csv')\n",
        "\n",
        "# 테스트 데이터에 'Age Group Success Rate'와 'Combined Success Rate' 추가\n",
        "test_df['Age Group Success Rate'] = test_df['시술 당시 나이'].map(age_group_success_rate)\n",
        "test_df['Combined Success Rate'] = test_df.apply(combine_success_rate, axis=1)\n",
        "\n",
        "# 테스트 데이터에서 예측에 사용할 피처 설정\n",
        "X_test = test_df[['Age Group Success Rate', 'Combined Success Rate']]  # 훈련과 동일한 피처 사용\n",
        "\n",
        "# 예측 확률 계산\n",
        "pred_proba_test = model.predict_proba(X_test)[:, 1]  # 클래스 1에 대한 확률만 추출\n",
        "\n",
        "# sample_submission 파일 불러오기\n",
        "sample_submission = pd.read_csv('/content/drive/MyDrive/Colab Notebooks/lgaimers/sample_submission.csv')\n",
        "\n",
        "# 예측 확률을 'probability' 컬럼에 추가\n",
        "sample_submission['probability'] = pred_proba_test\n",
        "\n",
        "# 결과를 CSV 파일로 저장\n",
        "sample_submission.to_csv('/content/drive/MyDrive/Colab Notebooks/lgaimers/제출파일/submission3.csv', index=False)\n",
        "\n",
        "# 결과 확인\n",
        "print(sample_submission.head())"
      ],
      "metadata": {
        "colab": {
          "base_uri": "https://localhost:8080/"
        },
        "id": "HaECpgLllcLd",
        "outputId": "60fa6845-ef7d-4662-a151-a2d0241712fc"
      },
      "execution_count": null,
      "outputs": [
        {
          "output_type": "stream",
          "name": "stdout",
          "text": [
            "           ID  probability\n",
            "0  TEST_00000     0.263566\n",
            "1  TEST_00001     0.261905\n",
            "2  TEST_00002     0.142857\n",
            "3  TEST_00003     0.142857\n",
            "4  TEST_00004     0.263566\n"
          ]
        }
      ]
    },
    {
      "cell_type": "markdown",
      "source": [
        "#Submission4, 5\n"
      ],
      "metadata": {
        "id": "oCfQOiYhwsVr"
      }
    },
    {
      "cell_type": "code",
      "source": [
        "# '시술 당시 나이'와 '총 시술 횟수'가 동일한 그룹을 묶고, 해당 그룹의 임신 성공 확률을 계산\n",
        "grouped_success_rate = train_df.groupby(['시술 당시 나이', '총 시술 횟수'])['임신 성공 여부'].mean().reset_index()\n",
        "\n",
        "# 컬럼명 변경 (가독성을 위해)\n",
        "grouped_success_rate.rename(columns={'임신 성공 여부': 'Success Rate'}, inplace=True)\n",
        "\n",
        "# 결과 출력\n",
        "print(grouped_success_rate)"
      ],
      "metadata": {
        "colab": {
          "base_uri": "https://localhost:8080/"
        },
        "id": "frD6bVie8XIl",
        "outputId": "d5e2a4c5-ab85-42c1-af50-3482d3673637"
      },
      "execution_count": null,
      "outputs": [
        {
          "output_type": "stream",
          "name": "stdout",
          "text": [
            "   시술 당시 나이 총 시술 횟수  Success Rate\n",
            "0   만18-34세      0회      0.340398\n",
            "1   만18-34세      1회      0.308624\n",
            "2   만18-34세      2회      0.311198\n",
            "3   만18-34세      3회      0.307712\n",
            "4   만18-34세      4회      0.293162\n",
            "5   만18-34세      5회      0.291836\n",
            "6   만18-34세   6회 이상      0.281325\n",
            "7   만35-37세      0회      0.301846\n",
            "8   만35-37세      1회      0.266559\n",
            "9   만35-37세      2회      0.269947\n",
            "10  만35-37세      3회      0.261379\n",
            "11  만35-37세      4회      0.260698\n",
            "12  만35-37세      5회      0.262381\n",
            "13  만35-37세   6회 이상      0.258431\n",
            "14  만38-39세      0회      0.235152\n",
            "15  만38-39세      1회      0.216380\n",
            "16  만38-39세      2회      0.204808\n",
            "17  만38-39세      3회      0.205408\n",
            "18  만38-39세      4회      0.211344\n",
            "19  만38-39세      5회      0.202085\n",
            "20  만38-39세   6회 이상      0.200311\n",
            "21  만40-42세      0회      0.166133\n",
            "22  만40-42세      1회      0.154266\n",
            "23  만40-42세      2회      0.159306\n",
            "24  만40-42세      3회      0.163644\n",
            "25  만40-42세      4회      0.164786\n",
            "26  만40-42세      5회      0.140930\n",
            "27  만40-42세   6회 이상      0.152918\n",
            "28  만43-44세      0회      0.112987\n",
            "29  만43-44세      1회      0.116402\n",
            "30  만43-44세      2회      0.124098\n",
            "31  만43-44세      3회      0.120199\n",
            "32  만43-44세      4회      0.122860\n",
            "33  만43-44세      5회      0.105919\n",
            "34  만43-44세   6회 이상      0.122957\n",
            "35  만45-50세      0회      0.186010\n",
            "36  만45-50세      1회      0.162946\n",
            "37  만45-50세      2회      0.163022\n",
            "38  만45-50세      3회      0.166023\n",
            "39  만45-50세      4회      0.168126\n",
            "40  만45-50세      5회      0.170426\n",
            "41  만45-50세   6회 이상      0.142398\n",
            "42   알 수 없음      0회      0.000000\n",
            "43   알 수 없음      1회      0.000000\n",
            "44   알 수 없음      2회      0.000000\n",
            "45   알 수 없음      3회      0.000000\n",
            "46   알 수 없음      4회      0.000000\n",
            "47   알 수 없음      5회      0.000000\n",
            "48   알 수 없음   6회 이상      0.000000\n"
          ]
        }
      ]
    },
    {
      "cell_type": "code",
      "source": [
        "import pandas as pd\n",
        "from sklearn.ensemble import ExtraTreesClassifier\n",
        "\n",
        "# 훈련 데이터 로드\n",
        "train_df = pd.read_csv('/content/drive/MyDrive/Colab Notebooks/lgaimers/train.csv')\n",
        "\n",
        "# '시술 당시 나이'와 '총 시술 횟수' 기준으로 그룹별 성공률 계산\n",
        "grouped_success_rate = train_df.groupby(['시술 당시 나이', '총 시술 횟수'])['임신 성공 여부'].mean().reset_index()\n",
        "grouped_success_rate.rename(columns={'임신 성공 여부': 'Grouped Success Rate'}, inplace=True)\n",
        "\n",
        "# 원본 train_df에 병합\n",
        "train_df = train_df.merge(grouped_success_rate, on=['시술 당시 나이', '총 시술 횟수'], how='left')\n",
        "\n",
        "# '임신 시도 또는 마지막 임신 경과 연수'별 성공률 매핑\n",
        "years_last_attempt_pregnancy_success_rate = {\n",
        "    '0,0': 0.333333, '1.0': 0.333333, '2.0': 0.190476, '3.0': 0.247191,\n",
        "    '4.0': 0.242623, '5.0': 0.245665, '6.0': 0.249243, '7.0': 0.235585,\n",
        "    '8.0': 0.215136, '9.0': 0.204301, '10.0': 0.221753, '11.0': 0.189729,\n",
        "    '12.0': 0.219608, '13.0': 0.162162, '14.0': 0.223565, '15.0': 0.208661,\n",
        "    '16.0': 0.153465, '17.0': 0.178571, '18.0': 0.160377, '19.0': 0.151163,\n",
        "    '20.0': 0.168675, '없음': 0.259927\n",
        "}\n",
        "\n",
        "# 총 시술 횟수별 성공률 매핑\n",
        "all_counted_success_rate = {\n",
        "    '0회': 0.290987, '1회': 0.249952, '2회': 0.236354, '3회': 0.236354,\n",
        "    '4회': 0.227792, '5회': 0.215792, '6회 이상': 0.203300\n",
        "}\n",
        "\n",
        "# 시술 유형별 성공률 매핑\n",
        "procedure_success_rate = {\n",
        "    'DI': 0.128914, 'IVF': 0.261605\n",
        "}\n",
        "\n",
        "# 시술 당시 나이별 성공률 매핑\n",
        "age_group_success_rate = {\n",
        "    '만18-34세': 0.322622, '만35-37세': 0.278401, '만38-39세': 0.217138,\n",
        "    '만40-42세': 0.159393, '만43-44세': 0.118012, '만45-50세': 0.167679, '알 수 없음': 0.000000\n",
        "}\n",
        "\n",
        "# 시술 유형과 나이에 따른 성공 확률을 결합하여 새로운 피처 'Combined Success Rate' 생성\n",
        "def combine_success_rate(row):\n",
        "    years_last_attempt_pregnancy_success = years_last_attempt_pregnancy_success_rate.get(row['임신 시도 또는 마지막 임신 경과 연수'], 0)\n",
        "    all_counted_success = all_counted_success_rate.get(row['총 시술 횟수'], 0)\n",
        "    procedure_success = procedure_success_rate.get(row['시술 유형'], 0)\n",
        "    age_success = age_group_success_rate.get(row['시술 당시 나이'], 0)\n",
        "    grouped_success = row['Grouped Success Rate'] if pd.notna(row['Grouped Success Rate']) else 0\n",
        "    return (years_last_attempt_pregnancy_success + all_counted_success + procedure_success + age_success + grouped_success) / 5  # 결합된 확률\n",
        "\n",
        "# 훈련 데이터에 'Age Group Success Rate'와 'Combined Success Rate' 추가\n",
        "train_df['Age Group Success Rate'] = train_df['시술 당시 나이'].map(age_group_success_rate)\n",
        "train_df['Combined Success Rate'] = train_df.apply(combine_success_rate, axis=1)\n",
        "\n",
        "# 훈련 데이터에서 사용할 피처들 설정\n",
        "X_train = train_df[['Age Group Success Rate', 'Combined Success Rate']]  # 두 피처 모두 포함\n",
        "y_train = train_df['임신 성공 여부']  # 타겟\n",
        "\n",
        "# 모델 훈련\n",
        "model = ExtraTreesClassifier(random_state=42)\n",
        "model.fit(X_train, y_train)\n",
        "\n",
        "# 테스트 데이터 로드\n",
        "test_df = pd.read_csv('/content/drive/MyDrive/Colab Notebooks/lgaimers/test.csv')\n",
        "\n",
        "# '시술 당시 나이'와 '총 시술 횟수' 기준으로 그룹별 성공률 병합\n",
        "test_df = test_df.merge(grouped_success_rate, on=['시술 당시 나이', '총 시술 횟수'], how='left')\n",
        "\n",
        "# 테스트 데이터에 'Age Group Success Rate'와 'Combined Success Rate' 추가\n",
        "test_df['Age Group Success Rate'] = test_df['시술 당시 나이'].map(age_group_success_rate)\n",
        "test_df['Combined Success Rate'] = test_df.apply(combine_success_rate, axis=1)\n",
        "\n",
        "# 테스트 데이터에서 예측에 사용할 피처 설정\n",
        "X_test = test_df[['Age Group Success Rate', 'Combined Success Rate']]  # 훈련과 동일한 피처 사용\n",
        "\n",
        "# 예측 확률 계산\n",
        "pred_proba_test = model.predict_proba(X_test)[:, 1]  # 클래스 1에 대한 확률만 추출\n",
        "\n",
        "# sample_submission 파일 불러오기\n",
        "sample_submission = pd.read_csv('/content/drive/MyDrive/Colab Notebooks/lgaimers/sample_submission.csv')\n",
        "\n",
        "# 예측 확률을 'probability' 컬럼에 추가\n",
        "sample_submission['probability'] = pred_proba_test\n",
        "\n",
        "# 결과를 CSV 파일로 저장\n",
        "sample_submission.to_csv('/content/drive/MyDrive/Colab Notebooks/lgaimers/제출파일/submission4.csv', index=False)\n",
        "\n",
        "# 결과 확인\n",
        "print(sample_submission.head())\n"
      ],
      "metadata": {
        "id": "2tDITCHJyDbt",
        "colab": {
          "base_uri": "https://localhost:8080/"
        },
        "outputId": "b8bce729-de96-4225-ea31-eb65e9fcda13"
      },
      "execution_count": null,
      "outputs": [
        {
          "output_type": "stream",
          "name": "stdout",
          "text": [
            "           ID  probability\n",
            "0  TEST_00000     0.268469\n",
            "1  TEST_00001     0.340859\n",
            "2  TEST_00002     0.167135\n",
            "3  TEST_00003     0.167135\n",
            "4  TEST_00004     0.268469\n"
          ]
        }
      ]
    },
    {
      "cell_type": "code",
      "source": [
        "import pandas as pd\n",
        "from sklearn.ensemble import ExtraTreesClassifier\n",
        "\n",
        "# 훈련 데이터 로드\n",
        "train_df = pd.read_csv('/content/drive/MyDrive/Colab Notebooks/lgaimers/train.csv')\n",
        "\n",
        "# '시술 당시 나이'와 '총 시술 횟수' 기준으로 그룹별 성공률 계산\n",
        "grouped_success_rate = train_df.groupby(['시술 당시 나이', '총 시술 횟수'])['임신 성공 여부'].mean().reset_index()\n",
        "grouped_success_rate.rename(columns={'임신 성공 여부': 'Grouped Success Rate'}, inplace=True)\n",
        "\n",
        "# 원본 train_df에 병합\n",
        "train_df = train_df.merge(grouped_success_rate, on=['시술 당시 나이', '총 시술 횟수'], how='left')\n",
        "\n",
        "# '임신 시도 또는 마지막 임신 경과 연수'별 성공률 매핑\n",
        "years_last_attempt_pregnancy_success_rate = {\n",
        "    '0,0': 0.333333, '1.0': 0.333333, '2.0': 0.190476, '3.0': 0.247191,\n",
        "    '4.0': 0.242623, '5.0': 0.245665, '6.0': 0.249243, '7.0': 0.235585,\n",
        "    '8.0': 0.215136, '9.0': 0.204301, '10.0': 0.221753, '11.0': 0.189729,\n",
        "    '12.0': 0.219608, '13.0': 0.162162, '14.0': 0.223565, '15.0': 0.208661,\n",
        "    '16.0': 0.153465, '17.0': 0.178571, '18.0': 0.160377, '19.0': 0.151163,\n",
        "    '20.0': 0.168675, '없음': 0.259927\n",
        "}\n",
        "\n",
        "# 총 시술 횟수별 성공률 매핑\n",
        "all_counted_success_rate = {\n",
        "    '0회': 0.290987, '1회': 0.249952, '2회': 0.236354, '3회': 0.236354,\n",
        "    '4회': 0.227792, '5회': 0.215792, '6회 이상': 0.203300\n",
        "}\n",
        "\n",
        "# 시술 유형별 성공률 매핑\n",
        "procedure_success_rate = {\n",
        "    'DI': 0.128914, 'IVF': 0.261605\n",
        "}\n",
        "\n",
        "# 시술 당시 나이별 성공률 매핑\n",
        "age_group_success_rate = {\n",
        "    '만18-34세': 0.322622, '만35-37세': 0.278401, '만38-39세': 0.217138,\n",
        "    '만40-42세': 0.159393, '만43-44세': 0.118012, '만45-50세': 0.167679, '알 수 없음': 0.000000\n",
        "}\n",
        "\n",
        "# 시술 유형과 나이에 따른 성공 확률을 결합하여 새로운 피처 'Combined Success Rate' 생성\n",
        "def combine_success_rate(row):\n",
        "    years_last_attempt_pregnancy_success = years_last_attempt_pregnancy_success_rate.get(row['임신 시도 또는 마지막 임신 경과 연수'], 0)\n",
        "    all_counted_success = all_counted_success_rate.get(row['총 시술 횟수'], 0)\n",
        "    procedure_success = procedure_success_rate.get(row['시술 유형'], 0)\n",
        "    age_success = age_group_success_rate.get(row['시술 당시 나이'], 0)\n",
        "    grouped_success = row['Grouped Success Rate'] if pd.notna(row['Grouped Success Rate']) else 0\n",
        "    return (years_last_attempt_pregnancy_success + all_counted_success + procedure_success + age_success + grouped_success) / 5  # 결합된 확률\n",
        "\n",
        "# 훈련 데이터에 'Age Group Success Rate'와 'Combined Success Rate' 추가\n",
        "train_df['Age Group Success Rate'] = train_df['시술 당시 나이'].map(age_group_success_rate)\n",
        "train_df['Combined Success Rate'] = train_df.apply(combine_success_rate, axis=1)\n",
        "\n",
        "# 훈련 데이터에서 사용할 피처들 설정\n",
        "X_train = train_df[['Age Group Success Rate', 'Combined Success Rate']]  # 두 피처 모두 포함\n",
        "y_train = train_df['임신 성공 여부']  # 타겟\n",
        "\n",
        "# 모델 훈련\n",
        "model = ExtraTreesClassifier(random_state=42)\n",
        "model.fit(X_train, y_train)\n",
        "\n",
        "# 테스트 데이터 로드\n",
        "test_df = pd.read_csv('/content/drive/MyDrive/Colab Notebooks/lgaimers/test.csv')\n",
        "\n",
        "# '시술 당시 나이'와 '총 시술 횟수' 기준으로 그룹별 성공률 병합\n",
        "test_df = test_df.merge(grouped_success_rate, on=['시술 당시 나이', '총 시술 횟수'], how='left')\n",
        "\n",
        "# 테스트 데이터에 'Age Group Success Rate'와 'Combined Success Rate' 추가\n",
        "test_df['Age Group Success Rate'] = test_df['시술 당시 나이'].map(age_group_success_rate)\n",
        "test_df['Combined Success Rate'] = test_df.apply(combine_success_rate, axis=1)\n",
        "\n",
        "# 테스트 데이터에서 예측에 사용할 피처 설정\n",
        "X_test = test_df[['Age Group Success Rate', 'Combined Success Rate']]  # 훈련과 동일한 피처 사용\n",
        "\n",
        "# 예측 확률 계산\n",
        "pred_proba_test = model.predict_proba(X_test)[:, 1]  # 클래스 1에 대한 확률만 추출\n",
        "\n",
        "# sample_submission 파일 불러오기\n",
        "sample_submission = pd.read_csv('/content/drive/MyDrive/Colab Notebooks/lgaimers/sample_submission.csv')\n",
        "\n",
        "# 예측 확률을 'probability' 컬럼에 추가\n",
        "sample_submission['probability'] = pred_proba_test\n",
        "\n",
        "# 결과를 CSV 파일로 저장\n",
        "sample_submission.to_csv('/content/drive/MyDrive/Colab Notebooks/lgaimers/제출파일/submission4.csv', index=False)\n",
        "\n",
        "# 결과 확인\n",
        "print(sample_submission.head())\n"
      ],
      "metadata": {
        "id": "zlsdTTgV7OJa"
      },
      "execution_count": null,
      "outputs": []
    },
    {
      "cell_type": "code",
      "source": [
        "import pandas as pd\n",
        "from sklearn.ensemble import ExtraTreesClassifier\n",
        "\n",
        "# 훈련 데이터 로드\n",
        "train_df = pd.read_csv('/content/drive/MyDrive/Colab Notebooks/lgaimers/train.csv')\n",
        "\n",
        "# '시술 당시 나이'와 '총 시술 횟수' 기준으로 그룹별 성공률 계산\n",
        "grouped_success_rate = train_df.groupby(['시술 당시 나이', '총 시술 횟수'])['임신 성공 여부'].mean().reset_index()\n",
        "grouped_success_rate.rename(columns={'임신 성공 여부': 'Grouped Success Rate'}, inplace=True)\n",
        "\n",
        "# 원본 train_df에 병합\n",
        "train_df = train_df.merge(grouped_success_rate, on=['시술 당시 나이', '총 시술 횟수'], how='left')\n",
        "\n",
        "# 훈련 데이터에서 사용할 피처 설정\n",
        "X_train = train_df[['Grouped Success Rate']]\n",
        "y_train = train_df['임신 성공 여부']\n",
        "\n",
        "# 모델 훈련\n",
        "model = ExtraTreesClassifier(random_state=42)\n",
        "model.fit(X_train, y_train)\n",
        "\n",
        "# 테스트 데이터 로드\n",
        "test_df = pd.read_csv('/content/drive/MyDrive/Colab Notebooks/lgaimers/test.csv')\n",
        "\n",
        "# '시술 당시 나이'와 '총 시술 횟수' 기준으로 그룹별 성공률 병합\n",
        "test_df = test_df.merge(grouped_success_rate, on=['시술 당시 나이', '총 시술 횟수'], how='left')\n",
        "\n",
        "# 테스트 데이터에서 예측에 사용할 피처 설정\n",
        "X_test = test_df[['Grouped Success Rate']]\n",
        "\n",
        "# 예측 확률 계산 (클래스 1에 대한 확률)\n",
        "pred_proba_test = model.predict_proba(X_test)[:, 1]\n",
        "\n",
        "# sample_submission 파일 불러오기\n",
        "sample_submission = pd.read_csv('/content/drive/MyDrive/Colab Notebooks/lgaimers/sample_submission.csv')\n",
        "\n",
        "# 예측 확률을 'probability' 컬럼에 추가\n",
        "sample_submission['probability'] = pred_proba_test\n",
        "\n",
        "# 결과를 CSV 파일로 저장\n",
        "sample_submission.to_csv('/content/drive/MyDrive/Colab Notebooks/lgaimers/제출파일/submission5.csv', index=False)\n",
        "\n",
        "# 결과 확인\n",
        "print(sample_submission.head())"
      ],
      "metadata": {
        "colab": {
          "base_uri": "https://localhost:8080/"
        },
        "id": "DV97c6hF-4D9",
        "outputId": "792ee77b-594b-4269-a01d-c1c51a93d796"
      },
      "execution_count": null,
      "outputs": [
        {
          "output_type": "stream",
          "name": "stdout",
          "text": [
            "           ID  probability\n",
            "0  TEST_00000     0.266559\n",
            "1  TEST_00001     0.340398\n",
            "2  TEST_00002     0.166133\n",
            "3  TEST_00003     0.166133\n",
            "4  TEST_00004     0.266559\n"
          ]
        }
      ]
    },
    {
      "cell_type": "markdown",
      "source": [
        "#이상치 제거"
      ],
      "metadata": {
        "id": "J_MOpe5Q5sJq"
      }
    },
    {
      "cell_type": "code",
      "source": [],
      "metadata": {
        "id": "U2TwgSxS7Gra"
      },
      "execution_count": null,
      "outputs": []
    },
    {
      "cell_type": "markdown",
      "source": [
        "#결정 트리 활용"
      ],
      "metadata": {
        "id": "3PYGgLe_5h4h"
      }
    },
    {
      "cell_type": "code",
      "source": [
        "import os\n",
        "import pandas as pd\n",
        "import numpy as np\n",
        "import matplotlib.pyplot as plt"
      ],
      "metadata": {
        "id": "gUQzjBZV6u-3"
      },
      "execution_count": null,
      "outputs": []
    },
    {
      "cell_type": "code",
      "source": [
        "# 배아 이식 경과일 분포 확인하기\n",
        "plt.hist(train_df['배아 이식 경과일'],bins=10)"
      ],
      "metadata": {
        "colab": {
          "base_uri": "https://localhost:8080/"
        },
        "id": "rcD_chOw5las",
        "outputId": "a46b4cbc-fc45-4d12-cfa0-07e7a6025fbd"
      },
      "execution_count": null,
      "outputs": [
        {
          "output_type": "execute_result",
          "data": {
            "text/plain": [
              "(array([68470.,  6053., 35078.,     0., 57924.,  4504.,     0., 81459.,\n",
              "         2773.,    90.]),\n",
              " array([0. , 0.7, 1.4, 2.1, 2.8, 3.5, 4.2, 4.9, 5.6, 6.3, 7. ]),\n",
              " <BarContainer object of 10 artists>)"
            ]
          },
          "metadata": {},
          "execution_count": 180
        },
        {
          "output_type": "display_data",
          "data": {
            "text/plain": [
              "<Figure size 640x480 with 1 Axes>"
            ],
            "image/png": "[encoded data removed]"
          },
          "metadata": {}
        }
      ]
    },
    {
      "cell_type": "code",
      "source": [
        "import pandas as pd\n",
        "import numpy as np\n",
        "\n",
        "# '배아 이식 경과일' 히스토그램 데이터\n",
        "hist_values, bin_edges = np.histogram(train_df['배아 이식 경과일'], bins=10)\n",
        "\n",
        "# 누적 빈도 계산\n",
        "cumulative_counts = np.cumsum(hist_values)\n",
        "total_count = cumulative_counts[-1]\n",
        "\n",
        "# 33%와 66%에 해당하는 경계값 찾기\n",
        "threshold_33 = total_count * 0.33\n",
        "threshold_66 = total_count * 0.66\n",
        "\n",
        "# 33%와 66%에 해당하는 '배아 이식 경과일' 기준값 설정\n",
        "label_bins = []\n",
        "for i, count in enumerate(cumulative_counts):\n",
        "    if count >= threshold_33 and len(label_bins) == 0:\n",
        "        label_bins.append(bin_edges[i])  # 33% 경계값\n",
        "    if count >= threshold_66 and len(label_bins) == 1:\n",
        "        label_bins.append(bin_edges[i])  # 66% 경계값\n",
        "        break\n",
        "\n",
        "# 라벨링 함수 정의\n",
        "def assign_label(value):\n",
        "    if value < label_bins[0]:\n",
        "        return 0  # 나쁨\n",
        "    elif value < label_bins[1]:\n",
        "        return 1  # 보통\n",
        "    else:\n",
        "        return 2  # 좋음\n",
        "\n",
        "# 라벨링 적용\n",
        "train_df['label'] = train_df['배아 이식 경과일'].apply(assign_label)\n",
        "\n",
        "# 라벨별 개수 확인\n",
        "label_counts = train_df['label'].value_counts().sort_index()\n",
        "print(label_counts)\n"
      ],
      "metadata": {
        "colab": {
          "base_uri": "https://localhost:8080/"
        },
        "id": "lNTSx19HA6tE",
        "outputId": "47596aed-134d-4940-e2b9-bb32d3e4f3ca"
      },
      "execution_count": null,
      "outputs": [
        {
          "output_type": "stream",
          "name": "stdout",
          "text": [
            "label\n",
            "0    74523\n",
            "1    93002\n",
            "2    88826\n",
            "Name: count, dtype: int64\n"
          ]
        }
      ]
    },
    {
      "cell_type": "code",
      "source": [
        "'''# datetime열 및 quality열 버리기, minmax scaling 하고, data leakage 피함\n",
        "\n",
        "DT_train_df=train_df.drop('date_time', axis=1)\n",
        "DT_train_df=train_df.drop('quality', axis=1)'''"
      ],
      "metadata": {
        "id": "wvvPkRhPESQo",
        "colab": {
          "base_uri": "https://localhost:8080/"
        },
        "outputId": "4823a443-a204-43c6-8cc7-7aff8dc64809"
      },
      "execution_count": null,
      "outputs": [
        {
          "output_type": "execute_result",
          "data": {
            "text/plain": [
              "\"# datetime열 및 quality열 버리기, minmax scaling 하고, data leakage 피함\\n\\nDT_train_df=train_df.drop('date_time', axis=1)\\nDT_train_df=train_df.drop('quality', axis=1)\""
            ],
            "application/vnd.google.colaboratory.intrinsic+json": {
              "type": "string"
            }
          },
          "metadata": {},
          "execution_count": 182
        }
      ]
    },
    {
      "cell_type": "code",
      "source": [
        "import sklearn.preprocessing\n",
        "\n",
        "scaler = sklearn.preprocessing.MinMaxScaler()\n",
        "\n",
        "# 'label' 컬럼을 2D 배열로 변환하여 스케일링\n",
        "X = scaler.fit_transform(train_df[['label']])  # DataFrame 형식으로 변환"
      ],
      "metadata": {
        "id": "oAobFd0gI6Yf"
      },
      "execution_count": null,
      "outputs": []
    },
    {
      "cell_type": "code",
      "source": [
        "from sklearn.model_selection import train_test_split"
      ],
      "metadata": {
        "id": "r21gkZMKGXil"
      },
      "execution_count": null,
      "outputs": []
    },
    {
      "cell_type": "code",
      "source": [
        "\n",
        "# 'label' 컬럼을 특성 데이터 X와 타겟 변수 label로 설정\n",
        "X = train_df[['label']]  # 특성 데이터 (2D 배열 형식으로 설정)\n",
        "label = train_df['label']  # 타겟 변수\n",
        "\n",
        "# 학습 데이터와 검정 데이터 분할 (train: 70%, test: 30%)\n",
        "trainx, testx, trainy, testy = train_test_split(X, label, test_size=0.3, random_state=42)\n",
        "\n",
        "# 결과 확인\n",
        "print(\"Train X size:\", len(trainx))\n",
        "print(\"Train Y size:\", len(trainy))\n",
        "print(\"Test X size:\", len(testx))\n",
        "print(\"Test Y size:\", len(testy))"
      ],
      "metadata": {
        "colab": {
          "base_uri": "https://localhost:8080/"
        },
        "id": "QwKJNxOaJO_h",
        "outputId": "b95e8fe5-845a-4b4f-dc39-49af4e817f1f"
      },
      "execution_count": null,
      "outputs": [
        {
          "output_type": "stream",
          "name": "stdout",
          "text": [
            "Train X size: 179445\n",
            "Train Y size: 179445\n",
            "Test X size: 76906\n",
            "Test Y size: 76906\n"
          ]
        }
      ]
    },
    {
      "cell_type": "code",
      "source": [],
      "metadata": {
        "id": "cthKTA3_a13P"
      },
      "execution_count": null,
      "outputs": []
    },
    {
      "cell_type": "code",
      "source": [
        "#피처가 array 형태이므로, 타겟도 array형태로 변환\n",
        "trainy = trainy.to_numpy()\n",
        "testy = testy.to_numpy()"
      ],
      "metadata": {
        "id": "3pF_knmvHU8y"
      },
      "execution_count": null,
      "outputs": []
    },
    {
      "cell_type": "code",
      "source": [
        "from sklearn.tree import DecisionTreeClassifier\n",
        "np.random.seed(42)"
      ],
      "metadata": {
        "id": "3vwh0cr1HU6h"
      },
      "execution_count": null,
      "outputs": []
    },
    {
      "cell_type": "code",
      "source": [
        "# 모델 정의\n",
        "model = DecisionTreeClassifier(random_state=42)"
      ],
      "metadata": {
        "id": "09JNFAiNH8oS"
      },
      "execution_count": null,
      "outputs": []
    },
    {
      "cell_type": "code",
      "source": [
        "# 모델 Fitting\n",
        "model = model.fit(trainx,trainy)"
      ],
      "metadata": {
        "id": "6z1_9_CIH8lz"
      },
      "execution_count": null,
      "outputs": []
    },
    {
      "cell_type": "code",
      "source": [
        "# 예측\n",
        "predictions = model.predict(testx)"
      ],
      "metadata": {
        "id": "MwYO30VqGXgM"
      },
      "execution_count": null,
      "outputs": []
    },
    {
      "cell_type": "code",
      "source": [
        "from sklearn.metrics import accuracy_score\n",
        "# 정확도 계산\n",
        "accuracy = accuracy_score(testy, predictions)\n",
        "print(\"Accuracy:\", accuracy) # scaling 전후 성능 비교도 해보세요"
      ],
      "metadata": {
        "id": "0_Vu3X_lGXeO",
        "colab": {
          "base_uri": "https://localhost:8080/"
        },
        "outputId": "2e555bd3-b675-459c-8166-4d043d5fe346"
      },
      "execution_count": null,
      "outputs": [
        {
          "output_type": "stream",
          "name": "stdout",
          "text": [
            "Accuracy: 1.0\n"
          ]
        }
      ]
    },
    {
      "cell_type": "code",
      "source": [
        "# trainset에 대한 과적합\n",
        "predictions = model.predict(trainx)\n",
        "accuracy = accuracy_score(trainy, predictions)\n",
        "print(\"Accuracy:\", accuracy) # scaling 전후 성능 비교도 해보세요"
      ],
      "metadata": {
        "id": "p1Ukp2IBETAA",
        "colab": {
          "base_uri": "https://localhost:8080/"
        },
        "outputId": "4b56467b-045c-4ac0-fd5e-7cc457386da6"
      },
      "execution_count": null,
      "outputs": [
        {
          "output_type": "stream",
          "name": "stdout",
          "text": [
            "Accuracy: 1.0\n"
          ]
        }
      ]
    },
    {
      "cell_type": "code",
      "source": [
        "# 모델 정의_maxdepth 설정(prunning)\n",
        "model = DecisionTreeClassifier(random_state=42,max_depth=7,min_samples_leaf=2)\n",
        "# 모델 Fitting\n",
        "model = model.fit(trainx,trainy)\n",
        "# 예측\n",
        "predictions = model.predict(testx)\n",
        "# 정확도 계산\n",
        "accuracy = accuracy_score(testy, predictions)\n",
        "print(\"Accuracy:\", accuracy)"
      ],
      "metadata": {
        "colab": {
          "base_uri": "https://localhost:8080/"
        },
        "id": "sJy8N90RHUVa",
        "outputId": "7557251f-6f57-44e9-827c-6c2b364d618b"
      },
      "execution_count": null,
      "outputs": [
        {
          "output_type": "stream",
          "name": "stdout",
          "text": [
            "Accuracy: 1.0\n"
          ]
        }
      ]
    },
    {
      "cell_type": "code",
      "source": [],
      "metadata": {
        "id": "NaAuKnTIKRNK"
      },
      "execution_count": null,
      "outputs": []
    },
    {
      "cell_type": "code",
      "source": [
        "pred_proba = model.predict_proba(testx)[:, 1]"
      ],
      "metadata": {
        "id": "zhGzt9R0QW7E"
      },
      "execution_count": null,
      "outputs": []
    },
    {
      "cell_type": "code",
      "source": [
        "import pandas as pd\n",
        "import numpy as np\n",
        "from sklearn.ensemble import ExtraTreesClassifier\n",
        "\n",
        "# 데이터 로드\n",
        "train_df = pd.read_csv('/content/drive/MyDrive/Colab Notebooks/lgaimers/train.csv')\n",
        "test_df = pd.read_csv('/content/drive/MyDrive/Colab Notebooks/lgaimers/test.csv')\n",
        "\n",
        "# NaN 값 처리\n",
        "train_df['배아 이식 경과일'] = train_df['배아 이식 경과일'].fillna(train_df['배아 이식 경과일'].median())\n",
        "test_df['배아 이식 경과일'] = test_df['배아 이식 경과일'].fillna(test_df['배아 이식 경과일'].median())\n",
        "\n",
        "# '배아 이식 경과일' 히스토그램 데이터\n",
        "hist_values, bin_edges = np.histogram(train_df['배아 이식 경과일'], bins=10)\n",
        "\n",
        "# 누적 빈도 계산\n",
        "cumulative_counts = np.cumsum(hist_values)\n",
        "total_count = cumulative_counts[-1]\n",
        "\n",
        "# 33%와 66%에 해당하는 경계값 찾기\n",
        "threshold_33 = total_count * 0.33\n",
        "threshold_66 = total_count * 0.66\n",
        "\n",
        "# 33%와 66%에 해당하는 '배아 이식 경과일' 기준값 설정\n",
        "label_bins = []\n",
        "for i, count in enumerate(cumulative_counts):\n",
        "    if count >= threshold_33 and len(label_bins) == 0:\n",
        "        label_bins.append(bin_edges[i])  # 33% 경계값\n",
        "    if count >= threshold_66 and len(label_bins) == 1:\n",
        "        label_bins.append(bin_edges[i])  # 66% 경계값\n",
        "        break\n",
        "\n",
        "# 라벨링 함수 정의\n",
        "def assign_label(value):\n",
        "    if value < label_bins[0]:\n",
        "        return 0  # 나쁨\n",
        "    elif value < label_bins[1]:\n",
        "        return 1  # 보통\n",
        "    else:\n",
        "        return 2  # 좋음\n",
        "\n",
        "# 라벨링 적용\n",
        "train_df['embryo_label'] = train_df['배아 이식 경과일'].apply(assign_label)\n",
        "test_df['embryo_label'] = test_df['배아 이식 경과일'].apply(assign_label)\n",
        "\n",
        "# 총 시술 횟수별 성공률 매핑\n",
        "all_counted_success_rate = {\n",
        "    '0회': 0.290987, '1회': 0.249952, '2회': 0.236354, '3회': 0.236354,\n",
        "    '4회': 0.227792, '5회': 0.215792, '6회 이상': 0.203300\n",
        "}\n",
        "\n",
        "# 시술 유형별 성공률 매핑\n",
        "procedure_success_rate = {'DI': 0.128914, 'IVF': 0.261605}\n",
        "\n",
        "# 시술 당시 나이별 성공률 매핑\n",
        "age_group_success_rate = {\n",
        "    '만18-34세': 0.322622, '만35-37세': 0.278401, '만38-39세': 0.217138,\n",
        "    '만40-42세': 0.159393, '만43-44세': 0.118012, '만45-50세': 0.167679,\n",
        "    '알 수 없음': 0.000000\n",
        "}\n",
        "\n",
        "# 시술 유형과 나이에 따른 성공 확률을 결합하여 새로운 피처 'Combined Success Rate' 생성\n",
        "def combine_success_rate(row):\n",
        "    all_counted_success = all_counted_success_rate.get(row['총 시술 횟수'], 0)\n",
        "    procedure_success = procedure_success_rate.get(row['시술 유형'], 0)\n",
        "    age_success = age_group_success_rate.get(row['시술 당시 나이'], 0)\n",
        "    return (all_counted_success + procedure_success + age_success) / 3  # 결합된 확률\n",
        "\n",
        "# 훈련 및 테스트 데이터에 'Age Group Success Rate'와 'Combined Success Rate' 추가\n",
        "for df in [train_df, test_df]:\n",
        "    df['Age Group Success Rate'] = df['시술 당시 나이'].map(age_group_success_rate)\n",
        "    df['Combined Success Rate'] = df.apply(combine_success_rate, axis=1)\n",
        "\n",
        "# 훈련 데이터에서 사용할 피처들 설정\n",
        "X_train = train_df[['Age Group Success Rate', 'Combined Success Rate', 'embryo_label']]\n",
        "y_train = train_df['임신 성공 여부']\n",
        "\n",
        "# 모델 훈련\n",
        "model = ExtraTreesClassifier(random_state=42)\n",
        "model.fit(X_train, y_train)\n",
        "\n",
        "# 테스트 데이터에서 예측에 사용할 피처 설정\n",
        "X_test = test_df[['Age Group Success Rate', 'Combined Success Rate', 'embryo_label']]\n",
        "\n",
        "# 예측 확률 계산\n",
        "pred_proba = model.predict_proba(X_test)[:, 1]  # 클래스 1에 대한 확률만 추출\n",
        "\n",
        "# sample_submission 파일 불러오기\n",
        "sample_submission = pd.read_csv('/content/drive/MyDrive/Colab Notebooks/lgaimers/sample_submission.csv')\n",
        "\n",
        "# 예측 확률을 'probability' 컬럼에 추가\n",
        "sample_submission['probability'] = pred_proba\n",
        "\n",
        "# 결과를 CSV 파일로 저장\n",
        "sample_submission.to_csv('/content/drive/MyDrive/Colab Notebooks/lgaimers/제출파일/submission_with_embryo_label.csv', index=False)\n",
        "\n",
        "# 결과 확인\n",
        "print(sample_submission.head())"
      ],
      "metadata": {
        "colab": {
          "base_uri": "https://localhost:8080/"
        },
        "id": "cyMbr6iyT5YK",
        "outputId": "33042ab1-32d1-44e9-bf5c-3110284e09a0"
      },
      "execution_count": null,
      "outputs": [
        {
          "output_type": "stream",
          "name": "stdout",
          "text": [
            "           ID  probability\n",
            "0  TEST_00000     0.192468\n",
            "1  TEST_00001     0.194700\n",
            "2  TEST_00002     0.095832\n",
            "3  TEST_00003     0.120023\n",
            "4  TEST_00004     0.381174\n"
          ]
        }
      ]
    },
    {
      "cell_type": "code",
      "source": [],
      "metadata": {
        "id": "aAh2sM-jT5V3"
      },
      "execution_count": null,
      "outputs": []
    },
    {
      "cell_type": "markdown",
      "source": [
        "#Submission6_ 특정 시술 유형 _DT 모델에 추가"
      ],
      "metadata": {
        "id": "XDpfW9vbBAWV"
      }
    },
    {
      "cell_type": "code",
      "source": [
        "success_counts_T = train_df[train_df['임신 성공 여부'] == 1]['특정 시술 유형'].value_counts()\n",
        "total_counts_t = train_df['특정 시술 유형'].value_counts()\n",
        "success_rates = success_counts_T.div(total_counts_t).fillna(0)\n",
        "print(success_rates)"
      ],
      "metadata": {
        "id": "hcP8dTECBG4E",
        "colab": {
          "base_uri": "https://localhost:8080/"
        },
        "outputId": "a271a981-0206-4b65-e175-a41cc841d6ca"
      },
      "execution_count": null,
      "outputs": [
        {
          "output_type": "stream",
          "name": "stdout",
          "text": [
            "특정 시술 유형\n",
            "FER                                    0.333333\n",
            "GIFT                                   0.000000\n",
            "Generic DI                             0.169014\n",
            "ICI                                    0.135417\n",
            "ICSI                                   0.272825\n",
            "ICSI / AH                              0.217165\n",
            "ICSI / AH:Unknown                      0.500000\n",
            "ICSI / BLASTOCYST                      0.356743\n",
            "ICSI / BLASTOCYST :ICSI                1.000000\n",
            "ICSI / BLASTOCYST :IVF / BLASTOCYST    0.250000\n",
            "ICSI / BLASTOCYST:IVF / BLASTOCYST     0.333333\n",
            "ICSI:ICSI                              0.009939\n",
            "ICSI:IVF                               0.234822\n",
            "ICSI:Unknown                           0.101449\n",
            "IUI                                    0.128525\n",
            "IVF                                    0.261457\n",
            "IVF / AH                               0.184953\n",
            "IVF / AH:ICSI / AH                     0.000000\n",
            "IVF / BLASTOCYST                       0.366186\n",
            "IVF:ICSI                               0.283163\n",
            "IVF:IVF                                0.010471\n",
            "IVF:Unknown                            0.170000\n",
            "IVI                                    0.086957\n",
            "Unknown                                0.237203\n",
            "Name: count, dtype: float64\n"
          ]
        }
      ]
    },
    {
      "cell_type": "code",
      "source": [
        "import pandas as pd\n",
        "from sklearn.ensemble import ExtraTreesClassifier\n",
        "\n",
        "# 총 시술 횟수별 성공률 매핑\n",
        "all_counted_success_rate ={\n",
        "    '0회': 0.290987,\n",
        "    '1회': 0.249952,\n",
        "    '2회': 0.236354,\n",
        "    '3회': 0.236354,\n",
        "    '4회': 0.227792,\n",
        "    '5회': 0.215792,\n",
        "    '6회 이상': 0.203300\n",
        "}\n",
        "\n",
        "# 시술 유형별 성공률 매핑 (새로운 데이터로 업데이트)\n",
        "procedure_success_rate = {\n",
        "    'FER': 0.333333,\n",
        "    'GIFT': 0.000000,\n",
        "    'Generic DI': 0.169014,\n",
        "    'ICI': 0.135417,\n",
        "    'ICSI': 0.272825,\n",
        "    'ICSI / AH': 0.217165,\n",
        "    'ICSI / AH:Unknown': 0.500000,\n",
        "    'ICSI / BLASTOCYST': 0.356743,\n",
        "    'ICSI / BLASTOCYST :ICSI': 1.000000,\n",
        "    'ICSI / BLASTOCYST :IVF / BLASTOCYST': 0.250000,\n",
        "    'ICSI / BLASTOCYST:IVF / BLASTOCYST': 0.333333,\n",
        "    'ICSI:ICSI': 0.009939,\n",
        "    'ICSI:IVF': 0.234822,\n",
        "    'ICSI:Unknown': 0.101449,\n",
        "    'IUI': 0.128525,\n",
        "    'IVF': 0.261457,\n",
        "    'IVF / AH': 0.184953,\n",
        "    'IVF / AH:ICSI / AH': 0.000000,\n",
        "    'IVF / BLASTOCYST': 0.366186,\n",
        "    'IVF:ICSI': 0.283163,\n",
        "    'IVF:IVF': 0.010471,\n",
        "    'IVF:Unknown': 0.170000,\n",
        "    'IVI': 0.086957,\n",
        "    'Unknown': 0.237203,\n",
        "    '없음': 0.000000\n",
        "}\n",
        "\n",
        "# 시술 당시 나이별 성공률 매핑 (train에서 사용했던 방식)\n",
        "age_group_success_rate = {\n",
        "    '만18-34세': 0.322622,\n",
        "    '만35-37세': 0.278401,\n",
        "    '만38-39세': 0.217138,\n",
        "    '만40-42세': 0.159393,\n",
        "    '만43-44세': 0.118012,\n",
        "    '만45-50세': 0.167679,\n",
        "    '알 수 없음': 0.000000\n",
        "}\n",
        "\n",
        "# 시술 유형과 나이에 따른 성공 확률을 결합하여 새로운 피처 'Combined Success Rate' 생성\n",
        "def combine_success_rate(row):\n",
        "    all_counted_success = all_counted_success_rate.get(row['총 시술 횟수'], 0)\n",
        "    procedure_success = procedure_success_rate.get(row['시술 유형'], 0)\n",
        "    age_success = age_group_success_rate.get(row['시술 당시 나이'], 0)\n",
        "    return (all_counted_success + procedure_success + age_success) / 3  # 결합된 확률\n",
        "\n",
        "# 훈련 데이터 로드\n",
        "train_df = pd.read_csv('/content/drive/MyDrive/Colab Notebooks/lgaimers/train.csv')\n",
        "\n",
        "# 훈련 데이터에 'Age Group Success Rate'와 'Combined Success Rate' 추가\n",
        "train_df['Age Group Success Rate'] = train_df['시술 당시 나이'].map(age_group_success_rate)\n",
        "train_df['Combined Success Rate'] = train_df.apply(combine_success_rate, axis=1)\n",
        "\n",
        "# 훈련 데이터에서 사용할 피처들 설정\n",
        "X_train = train_df[['Age Group Success Rate', 'Combined Success Rate']]  # 두 피처 모두 포함\n",
        "y_train = train_df['임신 성공 여부']  # 타겟\n",
        "\n",
        "# 모델 훈련 (ExtraTreesClassifier 사용)\n",
        "model = ExtraTreesClassifier(random_state=42)\n",
        "model.fit(X_train, y_train)\n",
        "\n",
        "# 테스트 데이터 로드\n",
        "test_df = pd.read_csv('/content/drive/MyDrive/Colab Notebooks/lgaimers/test.csv')\n",
        "\n",
        "# 테스트 데이터에 'Age Group Success Rate'와 'Combined Success Rate' 추가\n",
        "test_df['Age Group Success Rate'] = test_df['시술 당시 나이'].map(age_group_success_rate)\n",
        "test_df['Combined Success Rate'] = test_df.apply(combine_success_rate, axis=1)\n",
        "\n",
        "# 테스트 데이터에서 예측에 사용할 피처 설정\n",
        "X_test = test_df[['Age Group Success Rate', 'Combined Success Rate']]  # 훈련과 동일한 피처 사용\n",
        "\n",
        "# 예측 확률 계산 (class 1에 대한 확률만 추출)\n",
        "pred_proba = model.predict_proba(X_test)[:, 1]\n",
        "\n",
        "# sample_submission 파일 불러오기\n",
        "sample_submission = pd.read_csv('/content/drive/MyDrive/Colab Notebooks/lgaimers/sample_submission.csv')\n",
        "\n",
        "# 예측 확률을 'probability' 컬럼에 추가\n",
        "sample_submission['probability'] = pred_proba\n",
        "\n",
        "# 결과를 CSV 파일로 저장\n",
        "sample_submission.to_csv('/content/drive/MyDrive/Colab Notebooks/lgaimers/제출파일/submission_0220_DT.csv', index=False)\n",
        "\n",
        "# 결과 확인\n",
        "print(sample_submission.head())"
      ],
      "metadata": {
        "id": "5mC6ZSHDBGy8",
        "colab": {
          "base_uri": "https://localhost:8080/"
        },
        "outputId": "a08f10cf-44f8-4134-c6f5-1f41ab23c6dd"
      },
      "execution_count": null,
      "outputs": [
        {
          "output_type": "stream",
          "name": "stdout",
          "text": [
            "           ID  probability\n",
            "0  TEST_00000     0.268469\n",
            "1  TEST_00001     0.340859\n",
            "2  TEST_00002     0.167135\n",
            "3  TEST_00003     0.167135\n",
            "4  TEST_00004     0.268469\n"
          ]
        }
      ]
    },
    {
      "cell_type": "code",
      "source": [],
      "metadata": {
        "id": "-AexAwmZBGwg"
      },
      "execution_count": null,
      "outputs": []
    },
    {
      "cell_type": "markdown",
      "source": [
        "#SUB_DT1"
      ],
      "metadata": {
        "id": "eF-BL7OCY6r1"
      }
    },
    {
      "cell_type": "code",
      "source": [
        "import pandas as pd\n",
        "from sklearn.ensemble import ExtraTreesClassifier\n",
        "\n",
        "# 총 시술 횟수별 성공률 매핑\n",
        "all_counted_success_rate ={\n",
        "    '0회': 0.290987,\n",
        "    '1회': 0.249952,\n",
        "    '2회': 0.236354,\n",
        "    '3회': 0.236354,\n",
        "    '4회': 0.227792,\n",
        "    '5회': 0.215792,\n",
        "    '6회 이상': 0.203300\n",
        "}\n",
        "\n",
        "# 시술 유형별 성공률 매핑 (train에서 사용했던 방식)\n",
        "procedure_success_rate = {\n",
        "    'DI': 0.128914,\n",
        "    'IVF': 0.261605\n",
        "}\n",
        "\n",
        "# 시술 당시 나이별 성공률 매핑 (train에서 사용했던 방식)\n",
        "age_group_success_rate = {\n",
        "    '만18-34세': 0.322622,\n",
        "    '만35-37세': 0.278401,\n",
        "    '만38-39세': 0.217138,\n",
        "    '만40-42세': 0.159393,\n",
        "    '만43-44세': 0.118012,\n",
        "    '만45-50세': 0.167679,\n",
        "    '알 수 없음': 0.000000\n",
        "}\n",
        "\n",
        "# 시술 유형과 나이에 따른 성공 확률을 결합하여 새로운 피처 'Combined Success Rate' 생성\n",
        "def combine_success_rate(row):\n",
        "    all_counted_success = all_counted_success_rate.get(row['총 시술 횟수'], 0)\n",
        "    procedure_success = procedure_success_rate.get(row['시술 유형'], 0)\n",
        "    age_success = age_group_success_rate.get(row['시술 당시 나이'], 0)\n",
        "    return (all_counted_success + procedure_success + age_success) / 3  # 결합된 확률\n",
        "\n",
        "# 훈련 데이터 로드\n",
        "train_df = pd.read_csv('/content/drive/MyDrive/Colab Notebooks/lgaimers/train.csv')\n",
        "\n",
        "# 훈련 데이터에 'Age Group Success Rate'와 'Combined Success Rate' 추가\n",
        "train_df['Age Group Success Rate'] = train_df['시술 당시 나이'].map(age_group_success_rate)\n",
        "train_df['Combined Success Rate'] = train_df.apply(combine_success_rate, axis=1)\n",
        "\n",
        "# 훈련 데이터에서 사용할 피처들 설정\n",
        "X_train = train_df[['Age Group Success Rate', 'Combined Success Rate']]  # 두 피처 모두 포함\n",
        "y_train = train_df['임신 성공 여부']  # 타겟\n",
        "\n",
        "# 모델 훈련 (ExtraTreesClassifier 사용)\n",
        "model = ExtraTreesClassifier(random_state=42)\n",
        "model.fit(X_train, y_train)\n",
        "\n",
        "# 테스트 데이터 로드\n",
        "test_df = pd.read_csv('/content/drive/MyDrive/Colab Notebooks/lgaimers/test.csv')\n",
        "\n",
        "# 테스트 데이터에 'Age Group Success Rate'와 'Combined Success Rate' 추가\n",
        "test_df['Age Group Success Rate'] = test_df['시술 당시 나이'].map(age_group_success_rate)\n",
        "test_df['Combined Success Rate'] = test_df.apply(combine_success_rate, axis=1)\n",
        "\n",
        "# 테스트 데이터에서 예측에 사용할 피처 설정\n",
        "X_test = test_df[['Age Group Success Rate', 'Combined Success Rate']]  # 훈련과 동일한 피처 사용\n",
        "\n",
        "# 예측 확률 계산 (class 1에 대한 확률만 추출)\n",
        "pred_proba = model.predict_proba(X_test)[:, 1]\n",
        "\n",
        "# sample_submission 파일 불러오기\n",
        "sample_submission = pd.read_csv('/content/drive/MyDrive/Colab Notebooks/lgaimers/sample_submission.csv')\n",
        "\n",
        "# 예측 확률을 'probability' 컬럼에 추가\n",
        "sample_submission['probability'] = pred_proba\n",
        "\n",
        "# 결과를 CSV 파일로 저장\n",
        "sample_submission.to_csv('/content/drive/MyDrive/Colab Notebooks/lgaimers/제출파일/submission_DT1.csv', index=False)\n",
        "\n",
        "# 결과 확인\n",
        "print(sample_submission.head())"
      ],
      "metadata": {
        "colab": {
          "base_uri": "https://localhost:8080/"
        },
        "id": "d5z5_mGOSSNg",
        "outputId": "4da3fd85-273b-4603-ec87-1e82d3d126af"
      },
      "execution_count": null,
      "outputs": [
        {
          "output_type": "stream",
          "name": "stdout",
          "text": [
            "           ID  probability\n",
            "0  TEST_00000     0.268469\n",
            "1  TEST_00001     0.340859\n",
            "2  TEST_00002     0.167135\n",
            "3  TEST_00003     0.167135\n",
            "4  TEST_00004     0.268469\n"
          ]
        }
      ]
    },
    {
      "cell_type": "markdown",
      "source": [
        "#SUB_DT_더"
      ],
      "metadata": {
        "id": "TKHW4UEkacue"
      }
    },
    {
      "cell_type": "code",
      "source": [
        "import os\n",
        "import pandas as pd\n",
        "import numpy as np\n",
        "import matplotlib.pyplot as plt"
      ],
      "metadata": {
        "id": "XG75iNZMacLM"
      },
      "execution_count": null,
      "outputs": []
    },
    {
      "cell_type": "code",
      "source": [
        "# 혼합된 난자 수 분포 확인하기\n",
        "plt.hist(train_df['혼합된 난자 수'],bins=15)"
      ],
      "metadata": {
        "colab": {
          "base_uri": "https://localhost:8080/",
          "height": 537
        },
        "id": "ee_S1-Gzah07",
        "outputId": "5d02a21c-97b3-4e7f-8523-68fa9023ff3f"
      },
      "execution_count": null,
      "outputs": [
        {
          "output_type": "execute_result",
          "data": {
            "text/plain": [
              "(array([7.9391e+04, 4.5462e+04, 5.8334e+04, 3.0493e+04, 1.9386e+04,\n",
              "        1.3161e+04, 4.8100e+03, 3.0730e+03, 1.0520e+03, 5.3900e+02,\n",
              "        3.8600e+02, 1.3000e+02, 6.5000e+01, 2.7000e+01, 4.2000e+01]),\n",
              " array([ 0. ,  3.4,  6.8, 10.2, 13.6, 17. , 20.4, 23.8, 27.2, 30.6, 34. ,\n",
              "        37.4, 40.8, 44.2, 47.6, 51. ]),\n",
              " <BarContainer object of 15 artists>)"
            ]
          },
          "metadata": {},
          "execution_count": 232
        },
        {
          "output_type": "display_data",
          "data": {
            "text/plain": [
              "<Figure size 640x480 with 1 Axes>"
            ],
            "image/png": "[encoded data removed]"
          },
          "metadata": {}
        }
      ]
    },
    {
      "cell_type": "code",
      "source": [
        "#----4Q 분류\n",
        "\n",
        "import pandas as pd\n",
        "import numpy as np\n",
        "\n",
        "# '혼합된 난자 수' 히스토그램 데이터\n",
        "hist_values, bin_edges = np.histogram(train_df['혼합된 난자 수'], bins=15)\n",
        "\n",
        "# 누적 빈도 계산\n",
        "cumulative_counts = np.cumsum(hist_values)\n",
        "total_count = cumulative_counts[-1]\n",
        "\n",
        "# 25%와 50% 75%에 해당하는 경계값 찾기\n",
        "threshold_25 = total_count * 0.25\n",
        "threshold_50 = total_count * 0.50\n",
        "threshold_75 = total_count * 0.75\n",
        "\n",
        "# 25%와 50% 75%에 해당하는 '혼합된 난자 수' 기준값 설정\n",
        "label_bins = []\n",
        "for i, count in enumerate(cumulative_counts):\n",
        "    if count >= threshold_25 and len(label_bins) == 0:\n",
        "        label_bins.append(bin_edges[i])  # 25% 경계값\n",
        "    if count >= threshold_50 and len(label_bins) == 1:\n",
        "        label_bins.append(bin_edges[i])  # 50% 경계값\n",
        "    if count >= threshold_75 and len(label_bins) == 2:\n",
        "        label_bins.append(bin_edges[i])  # 75% 경계값\n",
        "        break\n",
        "\n",
        "# 라벨링 함수 정의\n",
        "def assign_label2(value):\n",
        "    if value < label_bins[0]:\n",
        "        return 0  # 나쁨\n",
        "    elif value < label_bins[1]:\n",
        "        return 1  # 보통\n",
        "    elif value < label_bins[2]:\n",
        "        return 2  # 좋음\n",
        "    else:\n",
        "        return 3  # 최상\n",
        "\n",
        "# 라벨링 적용\n",
        "train_df['label2'] = train_df['혼합된 난자 수'].apply(assign_label)\n",
        "\n",
        "# 라벨별 개수 확인\n",
        "label_counts2 = train_df['label2'].value_counts().sort_index()\n",
        "print(label_counts2)"
      ],
      "metadata": {
        "colab": {
          "base_uri": "https://localhost:8080/"
        },
        "id": "pitFgTSN9tVM",
        "outputId": "f71329b0-bfaa-4579-bdd5-fe179eb2c49f"
      },
      "execution_count": null,
      "outputs": [
        {
          "output_type": "stream",
          "name": "stdout",
          "text": [
            "label2\n",
            "1    124853\n",
            "2    131498\n",
            "Name: count, dtype: int64\n"
          ]
        }
      ]
    },
    {
      "cell_type": "code",
      "source": [
        "import sklearn.preprocessing\n",
        "\n",
        "scaler = sklearn.preprocessing.MinMaxScaler()\n",
        "\n",
        "# 'label' 컬럼을 2D 배열로 변환하여 스케일링\n",
        "X = scaler.fit_transform(train_df[['label2']])  # DataFrame 형식으로 변환"
      ],
      "metadata": {
        "id": "LO2Usrfoammk"
      },
      "execution_count": null,
      "outputs": []
    },
    {
      "cell_type": "code",
      "source": [
        "from sklearn.model_selection import train_test_split"
      ],
      "metadata": {
        "id": "UG3jadr5amke"
      },
      "execution_count": null,
      "outputs": []
    },
    {
      "cell_type": "code",
      "source": [
        "\n",
        "# 'label' 컬럼을 특성 데이터 X와 타겟 변수 label로 설정\n",
        "X = train_df[['label2']]  # 특성 데이터 (2D 배열 형식으로 설정)\n",
        "label2 = train_df['label2']  # 타겟 변수\n",
        "\n",
        "# 학습 데이터와 검정 데이터 분할 (train: 70%, test: 30%)\n",
        "trainx, testx, trainy, testy = train_test_split(X, label2, test_size=0.3, random_state=42)\n",
        "\n",
        "# 결과 확인\n",
        "print(\"Train X size:\", len(trainx))\n",
        "print(\"Train Y size:\", len(trainy))\n",
        "print(\"Test X size:\", len(testx))\n",
        "print(\"Test Y size:\", len(testy))"
      ],
      "metadata": {
        "colab": {
          "base_uri": "https://localhost:8080/"
        },
        "id": "4KfadjmTahvX",
        "outputId": "75c040a5-1a83-42b2-db6b-26aa37ad1b1b"
      },
      "execution_count": null,
      "outputs": [
        {
          "output_type": "stream",
          "name": "stdout",
          "text": [
            "Train X size: 179445\n",
            "Train Y size: 179445\n",
            "Test X size: 76906\n",
            "Test Y size: 76906\n"
          ]
        }
      ]
    },
    {
      "cell_type": "code",
      "source": [
        "#피처가 array 형태이므로, 타겟도 array형태로 변환\n",
        "trainy = trainy.to_numpy()\n",
        "testy = testy.to_numpy()"
      ],
      "metadata": {
        "id": "wv4uTfH5ahsy"
      },
      "execution_count": null,
      "outputs": []
    },
    {
      "cell_type": "code",
      "source": [
        "from sklearn.tree import DecisionTreeClassifier\n",
        "np.random.seed(42)"
      ],
      "metadata": {
        "id": "F_MVoNYPbFr6"
      },
      "execution_count": null,
      "outputs": []
    },
    {
      "cell_type": "code",
      "source": [
        "# 모델 정의\n",
        "model = DecisionTreeClassifier(random_state=42)"
      ],
      "metadata": {
        "id": "OR4qSFFbbFpp"
      },
      "execution_count": null,
      "outputs": []
    },
    {
      "cell_type": "code",
      "source": [
        "# 모델 Fitting\n",
        "model = model.fit(trainx,trainy)"
      ],
      "metadata": {
        "id": "xJnuzZrtbFnY"
      },
      "execution_count": null,
      "outputs": []
    },
    {
      "cell_type": "code",
      "source": [
        "# 예측\n",
        "predictions = model.predict(testx)"
      ],
      "metadata": {
        "id": "L_Yjuj2UbW2B"
      },
      "execution_count": null,
      "outputs": []
    },
    {
      "cell_type": "code",
      "source": [
        "from sklearn.metrics import accuracy_score\n",
        "# 정확도 계산\n",
        "accuracy = accuracy_score(testy, predictions)\n",
        "print(\"Accuracy:\", accuracy) # scaling 전후 성능 비교도 해보세요"
      ],
      "metadata": {
        "colab": {
          "base_uri": "https://localhost:8080/"
        },
        "id": "ur15DmBUbWzh",
        "outputId": "de66f325-10d9-4cbf-b39e-9b2b627811d4"
      },
      "execution_count": null,
      "outputs": [
        {
          "output_type": "stream",
          "name": "stdout",
          "text": [
            "Accuracy: 1.0\n"
          ]
        }
      ]
    },
    {
      "cell_type": "code",
      "source": [
        "# trainset에 대한 과적합\n",
        "predictions = model.predict(trainx)\n",
        "accuracy = accuracy_score(trainy, predictions)\n",
        "print(\"Accuracy:\", accuracy) # scaling 전후 성능 비교도 해보세요"
      ],
      "metadata": {
        "colab": {
          "base_uri": "https://localhost:8080/"
        },
        "id": "KB70ANembFlC",
        "outputId": "ab81b252-b8a8-4698-a5b8-2fae66adf9f8"
      },
      "execution_count": null,
      "outputs": [
        {
          "output_type": "stream",
          "name": "stdout",
          "text": [
            "Accuracy: 1.0\n"
          ]
        }
      ]
    },
    {
      "cell_type": "code",
      "source": [
        "# 모델 정의_maxdepth 설정(prunning)\n",
        "model = DecisionTreeClassifier(random_state=42,max_depth=7,min_samples_leaf=2)\n",
        "# 모델 Fitting\n",
        "model = model.fit(trainx,trainy)\n",
        "# 예측\n",
        "predictions = model.predict(testx)\n",
        "# 정확도 계산\n",
        "accuracy = accuracy_score(testy, predictions)\n",
        "print(\"Accuracy:\", accuracy)"
      ],
      "metadata": {
        "colab": {
          "base_uri": "https://localhost:8080/"
        },
        "id": "zNGor1euahqi",
        "outputId": "a44cb849-8ac2-467e-caae-e68666d2678d"
      },
      "execution_count": null,
      "outputs": [
        {
          "output_type": "stream",
          "name": "stdout",
          "text": [
            "Accuracy: 1.0\n"
          ]
        }
      ]
    },
    {
      "cell_type": "code",
      "source": [
        "pred_proba = model.predict_proba(testx)[:, 1]"
      ],
      "metadata": {
        "id": "35tLsAe8bkWp"
      },
      "execution_count": null,
      "outputs": []
    },
    {
      "cell_type": "code",
      "source": [
        "#새로운 DT 통합 방식 사용\n",
        "\n",
        "import pandas as pd\n",
        "import numpy as np\n",
        "from sklearn.ensemble import RandomForestClassifier\n",
        "from sklearn.model_selection import cross_val_score\n",
        "\n",
        "# 데이터 로드\n",
        "train_df = pd.read_csv('/content/drive/MyDrive/Colab Notebooks/lgaimers/train.csv')\n",
        "test_df = pd.read_csv('/content/drive/MyDrive/Colab Notebooks/lgaimers/test.csv')\n",
        "\n",
        "# NaN 값 처리 및 데이터 타입 변환\n",
        "for df in [train_df, test_df]:\n",
        "    df['배아 이식 경과일'] = pd.to_numeric(df['배아 이식 경과일'], errors='coerce')\n",
        "    df['혼합된 난자 수'] = pd.to_numeric(df['혼합된 난자 수'], errors='coerce')\n",
        "    df['배아 이식 경과일'] = df['배아 이식 경과일'].fillna(df['배아 이식 경과일'].median())\n",
        "    df['혼합된 난자 수'] = df['혼합된 난자 수'].fillna(df['혼합된 난자 수'].median())\n",
        "\n",
        "# '배아 이식 경과일' 라벨링\n",
        "embryo_label_bins = train_df['배아 이식 경과일'].quantile([0.33, 0.66])\n",
        "\n",
        "def assign_embryo_label(value):\n",
        "    if value < embryo_label_bins.iloc[0]:\n",
        "        return 0  # 나쁨\n",
        "    elif value < embryo_label_bins.iloc[1]:\n",
        "        return 1  # 보통\n",
        "    else:\n",
        "        return 2  # 좋음\n",
        "\n",
        "train_df['embryo_label'] = train_df['배아 이식 경과일'].apply(assign_embryo_label)\n",
        "test_df['embryo_label'] = test_df['배아 이식 경과일'].apply(assign_embryo_label)\n",
        "\n",
        "# '혼합된 난자 수' 라벨링\n",
        "egg_label_bins = train_df['혼합된 난자 수'].quantile([0.25, 0.5, 0.75])\n",
        "\n",
        "def assign_egg_label(value):\n",
        "    if value < egg_label_bins.iloc[0]:\n",
        "        return 0  # 나쁨\n",
        "    elif value < egg_label_bins.iloc[1]:\n",
        "        return 1  # 보통\n",
        "    elif value < egg_label_bins.iloc[2]:\n",
        "        return 2  # 좋음\n",
        "    else:\n",
        "        return 3  # 최상\n",
        "\n",
        "train_df['egg_label'] = train_df['혼합된 난자 수'].apply(assign_egg_label)\n",
        "test_df['egg_label'] = test_df['혼합된 난자 수'].apply(assign_egg_label)\n",
        "\n",
        "# 기존 성공률 매핑\n",
        "all_counted_success_rate = {\n",
        "    '0회': 0.290987, '1회': 0.249952, '2회': 0.236354, '3회': 0.236354,\n",
        "    '4회': 0.227792, '5회': 0.215792, '6회 이상': 0.203300\n",
        "}\n",
        "\n",
        "procedure_success_rate = {'DI': 0.128914, 'IVF': 0.261605}\n",
        "\n",
        "age_group_success_rate = {\n",
        "    '만18-34세': 0.322622, '만35-37세': 0.278401, '만38-39세': 0.217138,\n",
        "    '만40-42세': 0.159393, '만43-44세': 0.118012, '만45-50세': 0.167679,\n",
        "    '알 수 없음': 0.000000\n",
        "}\n",
        "\n",
        "def combine_success_rate(row):\n",
        "    all_counted_success = all_counted_success_rate.get(row['총 시술 횟수'], 0)\n",
        "    procedure_success = procedure_success_rate.get(row['시술 유형'], 0)\n",
        "    age_success = age_group_success_rate.get(row['시술 당시 나이'], 0)\n",
        "    return (all_counted_success + procedure_success + age_success) / 3\n",
        "\n",
        "for df in [train_df, test_df]:\n",
        "    df['Age Group Success Rate'] = df['시술 당시 나이'].map(age_group_success_rate)\n",
        "    df['Combined Success Rate'] = df.apply(combine_success_rate, axis=1)\n",
        "\n",
        "# 훈련 데이터 준비\n",
        "X_train = train_df[['Age Group Success Rate', 'Combined Success Rate', 'embryo_label', 'egg_label']]\n",
        "y_train = train_df['임신 성공 여부']\n",
        "\n",
        "# Random Forest 모델 생성 및 훈련\n",
        "rf_model = RandomForestClassifier(n_estimators=100, random_state=42)\n",
        "rf_model.fit(X_train, y_train)\n",
        "\n",
        "# 교차 검증 수행\n",
        "cv_scores = cross_val_score(rf_model, X_train, y_train, cv=5)\n",
        "print(\"교차 검증 점수:\", cv_scores)\n",
        "print(\"평균 교차 검증 점수:\", cv_scores.mean())\n",
        "\n",
        "# 테스트 데이터 준비 및 예측\n",
        "X_test = test_df[['Age Group Success Rate', 'Combined Success Rate', 'embryo_label', 'egg_label']]\n",
        "pred_proba = rf_model.predict_proba(X_test)[:, 1]\n",
        "\n",
        "# 결과 저장\n",
        "sample_submission = pd.read_csv('/content/drive/MyDrive/Colab Notebooks/lgaimers/sample_submission.csv')\n",
        "sample_submission['probability'] = pred_proba\n",
        "sample_submission.to_csv('/content/drive/MyDrive/Colab Notebooks/lgaimers/제출파일/submission_random_forest.csv', index=False)\n",
        "\n",
        "print(sample_submission.head())"
      ],
      "metadata": {
        "colab": {
          "base_uri": "https://localhost:8080/"
        },
        "id": "bh6ACBBgBTMW",
        "outputId": "be3c01b0-f837-4820-ad21-f9ffd753fbb6"
      },
      "execution_count": null,
      "outputs": [
        {
          "output_type": "stream",
          "name": "stdout",
          "text": [
            "교차 검증 점수: [0.74156931 0.74158377 0.7417008  0.74154476 0.74150575]\n",
            "평균 교차 검증 점수: 0.7415808793863539\n",
            "           ID  probability\n",
            "0  TEST_00000     0.246916\n",
            "1  TEST_00001     0.066918\n",
            "2  TEST_00002     0.128427\n",
            "3  TEST_00003     0.100920\n",
            "4  TEST_00004     0.386946\n"
          ]
        }
      ]
    },
    {
      "cell_type": "code",
      "source": [
        "#DT 만\n",
        "import pandas as pd\n",
        "import numpy as np\n",
        "from sklearn.ensemble import RandomForestClassifier\n",
        "from sklearn.model_selection import cross_val_score\n",
        "\n",
        "# 데이터 로드\n",
        "train_df = pd.read_csv('/content/drive/MyDrive/Colab Notebooks/lgaimers/train.csv')\n",
        "test_df = pd.read_csv('/content/drive/MyDrive/Colab Notebooks/lgaimers/test.csv')\n",
        "\n",
        "# NaN 값 처리 및 데이터 타입 변환\n",
        "for df in [train_df, test_df]:\n",
        "    df['배아 이식 경과일'] = pd.to_numeric(df['배아 이식 경과일'], errors='coerce')\n",
        "    df['혼합된 난자 수'] = pd.to_numeric(df['혼합된 난자 수'], errors='coerce')\n",
        "    df['배아 이식 경과일'] = df['배아 이식 경과일'].fillna(df['배아 이식 경과일'].median())\n",
        "    df['혼합된 난자 수'] = df['혼합된 난자 수'].fillna(df['혼합된 난자 수'].median())\n",
        "\n",
        "# '배아 이식 경과일' 라벨링\n",
        "embryo_label_bins = train_df['배아 이식 경과일'].quantile([0.33, 0.66])\n",
        "\n",
        "def assign_embryo_label(value):\n",
        "    if value < embryo_label_bins.iloc[0]:\n",
        "        return 0  # 나쁨\n",
        "    elif value < embryo_label_bins.iloc[1]:\n",
        "        return 1  # 보통\n",
        "    else:\n",
        "        return 2  # 좋음\n",
        "\n",
        "train_df['embryo_label'] = train_df['배아 이식 경과일'].apply(assign_embryo_label)\n",
        "test_df['embryo_label'] = test_df['배아 이식 경과일'].apply(assign_embryo_label)\n",
        "\n",
        "# '혼합된 난자 수' 라벨링\n",
        "egg_label_bins = train_df['혼합된 난자 수'].quantile([0.25, 0.5, 0.75])\n",
        "\n",
        "def assign_egg_label(value):\n",
        "    if value < egg_label_bins.iloc[0]:\n",
        "        return 0  # 나쁨\n",
        "    elif value < egg_label_bins.iloc[1]:\n",
        "        return 1  # 보통\n",
        "    elif value < egg_label_bins.iloc[2]:\n",
        "        return 2  # 좋음\n",
        "    else:\n",
        "        return 3  # 최상\n",
        "\n",
        "train_df['egg_label'] = train_df['혼합된 난자 수'].apply(assign_egg_label)\n",
        "test_df['egg_label'] = test_df['혼합된 난자 수'].apply(assign_egg_label)\n",
        "\n",
        "# 훈련 데이터 준비\n",
        "X_train = train_df[['embryo_label', 'egg_label']]\n",
        "y_train = train_df['임신 성공 여부']\n",
        "\n",
        "# Random Forest 모델 생성 및 훈련\n",
        "rf_model = RandomForestClassifier(n_estimators=100, random_state=42)\n",
        "rf_model.fit(X_train, y_train)\n",
        "\n",
        "# 교차 검증 수행\n",
        "cv_scores = cross_val_score(rf_model, X_train, y_train, cv=5)\n",
        "print(\"교차 검증 점수:\", cv_scores)\n",
        "print(\"평균 교차 검증 점수:\", cv_scores.mean())\n",
        "\n",
        "# 테스트 데이터 준비 및 예측\n",
        "X_test = test_df[['embryo_label', 'egg_label']]\n",
        "pred_proba = rf_model.predict_proba(X_test)[:, 1]\n",
        "\n",
        "# 결과 저장\n",
        "sample_submission = pd.read_csv('/content/drive/MyDrive/Colab Notebooks/lgaimers/sample_submission.csv')\n",
        "sample_submission['probability'] = pred_proba\n",
        "sample_submission.to_csv('/content/drive/MyDrive/Colab Notebooks/lgaimers/제출파일/submission_random_forest_DT_only.csv', index=False)\n",
        "\n",
        "print(sample_submission.head())"
      ],
      "metadata": {
        "colab": {
          "base_uri": "https://localhost:8080/"
        },
        "id": "huG67Px2B7UY",
        "outputId": "042ed408-fa8c-42f4-8238-a1f2225d64ba"
      },
      "execution_count": null,
      "outputs": [
        {
          "output_type": "stream",
          "name": "stdout",
          "text": [
            "교차 검증 점수: [0.74164732 0.74166179 0.74166179 0.74164229 0.74164229]\n",
            "평균 교차 검증 점수: 0.7416510955828945\n",
            "           ID  probability\n",
            "0  TEST_00000     0.199700\n",
            "1  TEST_00001     0.050119\n",
            "2  TEST_00002     0.199700\n",
            "3  TEST_00003     0.220853\n",
            "4  TEST_00004     0.389090\n"
          ]
        }
      ]
    },
    {
      "cell_type": "code",
      "source": [],
      "metadata": {
        "id": "gF4Wftm8B7El"
      },
      "execution_count": null,
      "outputs": []
    },
    {
      "cell_type": "code",
      "source": [
        "import pandas as pd\n",
        "import numpy as np\n",
        "from sklearn.ensemble import ExtraTreesClassifier\n",
        "\n",
        "# 데이터 로드\n",
        "train_df = pd.read_csv('/content/drive/MyDrive/Colab Notebooks/lgaimers/train.csv')\n",
        "test_df = pd.read_csv('/content/drive/MyDrive/Colab Notebooks/lgaimers/test.csv')\n",
        "\n",
        "# NaN 값 처리 및 데이터 타입 변환\n",
        "for df in [train_df, test_df]:\n",
        "    df['배아 이식 경과일'] = pd.to_numeric(df['배아 이식 경과일'], errors='coerce')\n",
        "    df['혼합된 난자 수'] = pd.to_numeric(df['혼합된 난자 수'], errors='coerce')\n",
        "    df['배아 이식 경과일'] = df['배아 이식 경과일'].fillna(df['배아 이식 경과일'].median())\n",
        "    df['혼합된 난자 수'] = df['혼합된 난자 수'].fillna(df['혼합된 난자 수'].median())\n",
        "\n",
        "# '배아 이식 경과일' 히스토그램 데이터\n",
        "hist_values, bin_edges = np.histogram(train_df['배아 이식 경과일'].dropna(), bins=10)\n",
        "\n",
        "# 누적 빈도 계산\n",
        "cumulative_counts = np.cumsum(hist_values)\n",
        "total_count = cumulative_counts[-1]\n",
        "\n",
        "# 33%와 66%에 해당하는 경계값 찾기\n",
        "threshold_33 = total_count * 0.33\n",
        "threshold_66 = total_count * 0.66\n",
        "\n",
        "# 33%와 66%에 해당하는 '배아 이식 경과일' 기준값 설정\n",
        "embryo_label_bins = []\n",
        "for i, count in enumerate(cumulative_counts):\n",
        "    if count >= threshold_33 and len(embryo_label_bins) == 0:\n",
        "        embryo_label_bins.append(bin_edges[i])  # 33% 경계값\n",
        "    if count >= threshold_66 and len(embryo_label_bins) == 1:\n",
        "        embryo_label_bins.append(bin_edges[i])  # 66% 경계값\n",
        "        break\n",
        "\n",
        "# '배아 이식 경과일' 라벨링 함수 정의\n",
        "def assign_embryo_label(value):\n",
        "    if value < embryo_label_bins[0]:\n",
        "        return 0  # 나쁨\n",
        "    elif value < embryo_label_bins[1]:\n",
        "        return 1  # 보통\n",
        "    else:\n",
        "        return 2  # 좋음\n",
        "\n",
        "# '배아 이식 경과일' 라벨링 적용\n",
        "train_df['embryo_label'] = train_df['배아 이식 경과일'].apply(assign_embryo_label)\n",
        "test_df['embryo_label'] = test_df['배아 이식 경과일'].apply(assign_embryo_label)\n",
        "\n",
        "# '혼합된 난자 수' 히스토그램 데이터\n",
        "hist_values, bin_edges = np.histogram(train_df['혼합된 난자 수'].dropna(), bins=15)\n",
        "\n",
        "# 누적 빈도 계산\n",
        "cumulative_counts = np.cumsum(hist_values)\n",
        "total_count = cumulative_counts[-1]\n",
        "\n",
        "# 25%, 50%, 75%에 해당하는 경계값 찾기\n",
        "threshold_25 = total_count * 0.25\n",
        "threshold_50 = total_count * 0.50\n",
        "threshold_75 = total_count * 0.75\n",
        "\n",
        "# 25%, 50%, 75%에 해당하는 '혼합된 난자 수' 기준값 설정\n",
        "egg_label_bins = []\n",
        "for i, count in enumerate(cumulative_counts):\n",
        "    if count >= threshold_25 and len(egg_label_bins) == 0:\n",
        "        egg_label_bins.append(bin_edges[i])  # 25% 경계값\n",
        "    if count >= threshold_50 and len(egg_label_bins) == 1:\n",
        "        egg_label_bins.append(bin_edges[i])  # 50% 경계값\n",
        "    if count >= threshold_75 and len(egg_label_bins) == 2:\n",
        "        egg_label_bins.append(bin_edges[i])  # 75% 경계값\n",
        "        break\n",
        "\n",
        "# '혼합된 난자 수' 라벨링 함수 정의\n",
        "def assign_egg_label(value):\n",
        "    if value < egg_label_bins[0]:\n",
        "        return 0  # 나쁨\n",
        "    elif value < egg_label_bins[1]:\n",
        "        return 1  # 보통\n",
        "    elif value < egg_label_bins[2]:\n",
        "        return 2  # 좋음\n",
        "    else:\n",
        "        return 3  # 최상\n",
        "\n",
        "# '혼합된 난자 수' 라벨링 적용\n",
        "train_df['egg_label'] = train_df['혼합된 난자 수'].apply(assign_egg_label)\n",
        "test_df['egg_label'] = test_df['혼합된 난자 수'].apply(assign_egg_label)\n",
        "\n",
        "# 총 시술 횟수별 성공률 매핑\n",
        "all_counted_success_rate = {\n",
        "    '0회': 0.290987, '1회': 0.249952, '2회': 0.236354, '3회': 0.236354,\n",
        "    '4회': 0.227792, '5회': 0.215792, '6회 이상': 0.203300\n",
        "}\n",
        "\n",
        "# 시술 유형별 성공률 매핑\n",
        "procedure_success_rate = {'DI': 0.128914, 'IVF': 0.261605}\n",
        "\n",
        "# 시술 당시 나이별 성공률 매핑\n",
        "age_group_success_rate = {\n",
        "    '만18-34세': 0.322622, '만35-37세': 0.278401, '만38-39세': 0.217138,\n",
        "    '만40-42세': 0.159393, '만43-44세': 0.118012, '만45-50세': 0.167679,\n",
        "    '알 수 없음': 0.000000\n",
        "}\n",
        "\n",
        "# 시술 유형과 나이에 따른 성공 확률을 결합하여 새로운 피처 'Combined Success Rate' 생성\n",
        "def combine_success_rate(row):\n",
        "    all_counted_success = all_counted_success_rate.get(row['총 시술 횟수'], 0)\n",
        "    procedure_success = procedure_success_rate.get(row['시술 유형'], 0)\n",
        "    age_success = age_group_success_rate.get(row['시술 당시 나이'], 0)\n",
        "    return (all_counted_success + procedure_success + age_success) / 3  # 결합된 확률\n",
        "\n",
        "# 훈련 및 테스트 데이터에 'Age Group Success Rate'와 'Combined Success Rate' 추가\n",
        "for df in [train_df, test_df]:\n",
        "    df['Age Group Success Rate'] = df['시술 당시 나이'].map(age_group_success_rate)\n",
        "    df['Combined Success Rate'] = df.apply(combine_success_rate, axis=1)\n",
        "\n",
        "# 훈련 데이터에서 사용할 피처들 설정\n",
        "X_train = train_df[['Age Group Success Rate', 'Combined Success Rate', 'embryo_label', 'egg_label']]\n",
        "y_train = train_df['임신 성공 여부']\n",
        "\n",
        "# 모델 훈련\n",
        "model = ExtraTreesClassifier(random_state=42)\n",
        "model.fit(X_train, y_train)\n",
        "\n",
        "# 테스트 데이터에서 예측에 사용할 피처 설정\n",
        "X_test = test_df[['Age Group Success Rate', 'Combined Success Rate', 'embryo_label', 'egg_label']]\n",
        "\n",
        "# 예측 확률 계산\n",
        "pred_proba = model.predict_proba(X_test)[:, 1]  # 클래스 1에 대한 확률만 추출\n",
        "\n",
        "# sample_submission 파일 불러오기\n",
        "sample_submission = pd.read_csv('/content/drive/MyDrive/Colab Notebooks/lgaimers/sample_submission.csv')\n",
        "\n",
        "# 예측 확률을 'probability' 컬럼에 추가\n",
        "sample_submission['probability'] = pred_proba\n",
        "\n",
        "# 결과를 CSV 파일로 저장\n",
        "sample_submission.to_csv('/content/drive/MyDrive/Colab Notebooks/lgaimers/제출파일/submission_with_embryo_and_egg_labels.csv', index=False)\n",
        "\n",
        "# 결과 확인\n",
        "print(sample_submission.head())\n"
      ],
      "metadata": {
        "id": "dBnn3J8AbkUg",
        "colab": {
          "base_uri": "https://localhost:8080/"
        },
        "outputId": "8c6afe89-d0e9-4ef4-d433-5cad5900beb6"
      },
      "execution_count": null,
      "outputs": [
        {
          "output_type": "stream",
          "name": "stdout",
          "text": [
            "           ID  probability\n",
            "0  TEST_00000     0.246508\n",
            "1  TEST_00001     0.187252\n",
            "2  TEST_00002     0.128689\n",
            "3  TEST_00003     0.115323\n",
            "4  TEST_00004     0.386831\n"
          ]
        }
      ]
    },
    {
      "cell_type": "markdown",
      "source": [
        "#SBU_DT_IMPORVED"
      ],
      "metadata": {
        "id": "rDSembwlZARB"
      }
    },
    {
      "cell_type": "code",
      "source": [
        "import pandas as pd\n",
        "import numpy as np\n",
        "from sklearn.ensemble import ExtraTreesClassifier\n",
        "from sklearn.model_selection import cross_val_score\n",
        "from sklearn.preprocessing import LabelEncoder\n",
        "from sklearn.feature_selection import SelectFromModel\n",
        "from sklearn.model_selection import RandomizedSearchCV\n",
        "\n",
        "# 총 시술 횟수별 성공률 매핑\n",
        "all_counted_success_rate ={\n",
        "    '0회': 0.290987,\n",
        "    '1회': 0.249952,\n",
        "    '2회': 0.236354,\n",
        "    '3회': 0.236354,\n",
        "    '4회': 0.227792,\n",
        "    '5회': 0.215792,\n",
        "    '6회 이상': 0.203300\n",
        "}\n",
        "\n",
        "# 시술 유형별 성공률 매핑\n",
        "procedure_success_rate = {\n",
        "    'DI': 0.128914,\n",
        "    'IVF': 0.261605\n",
        "}\n",
        "\n",
        "# 시술 당시 나이별 성공률 매핑\n",
        "age_group_success_rate = {\n",
        "    '만18-34세': 0.322622,\n",
        "    '만35-37세': 0.278401,\n",
        "    '만38-39세': 0.217138,\n",
        "    '만40-42세': 0.159393,\n",
        "    '만43-44세': 0.118012,\n",
        "    '만45-50세': 0.167679,\n",
        "    '알 수 없음': 0.000000\n",
        "}\n",
        "\n",
        "# 시술 유형과 나이에 따른 성공 확률을 결합하여 새로운 피처 'Combined Success Rate' 생성\n",
        "def combine_success_rate(row):\n",
        "    all_counted_success = all_counted_success_rate.get(row['총 시술 횟수'], 0)\n",
        "    procedure_success = procedure_success_rate.get(row['시술 유형'], 0)\n",
        "    age_success = age_group_success_rate.get(row['시술 당시 나이'], 0)\n",
        "    return (all_counted_success + procedure_success + age_success) / 3\n",
        "\n",
        "# 훈련 데이터 로드\n",
        "train_df = pd.read_csv('/content/drive/MyDrive/Colab Notebooks/lgaimers/train.csv')\n",
        "\n",
        "# 테스트 데이터 로드\n",
        "test_df = pd.read_csv('/content/drive/MyDrive/Colab Notebooks/lgaimers/test.csv')\n",
        "\n",
        "# 훈련 및 테스트 데이터에 'Age Group Success Rate'와 'Combined Success Rate' 추가\n",
        "for df in [train_df, test_df]:\n",
        "    df['Age Group Success Rate'] = df['시술 당시 나이'].map(age_group_success_rate)\n",
        "    df['Combined Success Rate'] = df.apply(combine_success_rate, axis=1)\n",
        "\n",
        "# 범주형 변수 인코딩\n",
        "le = LabelEncoder()\n",
        "categorical_cols = ['시술 유형', '시술 당시 나이', '총 시술 횟수']\n",
        "for col in categorical_cols:\n",
        "    train_df[col] = le.fit_transform(train_df[col])\n",
        "    test_df[col] = le.transform(test_df[col])\n",
        "\n",
        "# 사용할 특성 선택\n",
        "features = ['시술 유형', '시술 당시 나이', '총 시술 횟수', 'Age Group Success Rate', 'Combined Success Rate']\n",
        "\n",
        "X_train = train_df[features]\n",
        "y_train = train_df['임신 성공 여부']\n",
        "\n",
        "# 특성 중요도를 기반으로 특성 선택\n",
        "selector = SelectFromModel(ExtraTreesClassifier(n_estimators=100, random_state=42), prefit=False)\n",
        "selector.fit(X_train, y_train)\n",
        "selected_features = X_train.columns[selector.get_support()].tolist()\n",
        "\n",
        "X_train = X_train[selected_features]\n",
        "X_test = test_df[selected_features]\n",
        "\n",
        "# 하이퍼파라미터 튜닝을 위한 파라미터 그리드 정의\n",
        "param_dist = {\n",
        "    'n_estimators': [100, 200, 300, 400, 500],\n",
        "    'max_depth': [None, 10, 20, 30, 40, 50],\n",
        "    'min_samples_split': [2, 5, 10],\n",
        "    'min_samples_leaf': [1, 2, 4],\n",
        "    'max_features': ['auto', 'sqrt', 'log2']\n",
        "}\n",
        "\n",
        "# RandomizedSearchCV를 사용한 하이퍼파라미터 튜닝\n",
        "model = ExtraTreesClassifier(random_state=42)\n",
        "random_search = RandomizedSearchCV(model, param_distributions=param_dist, n_iter=100, cv=5, random_state=42, n_jobs=-1)\n",
        "random_search.fit(X_train, y_train)\n",
        "\n",
        "# 최적의 모델 선택\n",
        "best_model = random_search.best_estimator_\n",
        "\n",
        "# 교차 검증을 통한 모델 평가\n",
        "cv_scores = cross_val_score(best_model, X_train, y_train, cv=5)\n",
        "print(f\"Cross-validation scores: {cv_scores}\")\n",
        "print(f\"Mean CV score: {np.mean(cv_scores)}\")\n",
        "\n",
        "# 최종 모델 훈련\n",
        "best_model.fit(X_train, y_train)\n",
        "\n",
        "# 테스트 데이터에 대한 예측\n",
        "pred_proba = best_model.predict_proba(X_test)[:, 1]\n",
        "\n",
        "# sample_submission 파일 불러오기\n",
        "sample_submission = pd.read_csv('/content/drive/MyDrive/Colab Notebooks/lgaimers/sample_submission.csv')\n",
        "\n",
        "# 예측 확률을 'probability' 컬럼에 추가\n",
        "sample_submission['probability'] = pred_proba\n",
        "\n",
        "# 결과를 CSV 파일로 저장\n",
        "sample_submission.to_csv('/content/drive/MyDrive/Colab Notebooks/lgaimers/제출파일/submission_improved.csv', index=False)\n",
        "\n",
        "# 결과 확인\n",
        "print(sample_submission.head())\n"
      ],
      "metadata": {
        "id": "VXaiCUR9XOjN",
        "colab": {
          "base_uri": "https://localhost:8080/",
          "height": 365
        },
        "outputId": "39aed738-c7ed-4d54-92f2-e6d90dd3421a"
      },
      "execution_count": null,
      "outputs": [
        {
          "output_type": "error",
          "ename": "KeyboardInterrupt",
          "evalue": "",
          "traceback": [
            "\u001b[0;31m---------------------------------------------------------------------------\u001b[0m",
            "\u001b[0;31mKeyboardInterrupt\u001b[0m                         Traceback (most recent call last)",
            "\u001b[0;32m<ipython-input-39-7af4830ec091>\u001b[0m in \u001b[0;36m<cell line: 0>\u001b[0;34m()\u001b[0m\n\u001b[1;32m     86\u001b[0m \u001b[0mmodel\u001b[0m \u001b[0;34m=\u001b[0m \u001b[0mExtraTreesClassifier\u001b[0m\u001b[0;34m(\u001b[0m\u001b[0mrandom_state\u001b[0m\u001b[0;34m=\u001b[0m\u001b[0;36m42\u001b[0m\u001b[0;34m)\u001b[0m\u001b[0;34m\u001b[0m\u001b[0;34m\u001b[0m\u001b[0m\n\u001b[1;32m     87\u001b[0m \u001b[0mrandom_search\u001b[0m \u001b[0;34m=\u001b[0m \u001b[0mRandomizedSearchCV\u001b[0m\u001b[0;34m(\u001b[0m\u001b[0mmodel\u001b[0m\u001b[0;34m,\u001b[0m \u001b[0mparam_distributions\u001b[0m\u001b[0;34m=\u001b[0m\u001b[0mparam_dist\u001b[0m\u001b[0;34m,\u001b[0m \u001b[0mn_iter\u001b[0m\u001b[0;34m=\u001b[0m\u001b[0;36m100\u001b[0m\u001b[0;34m,\u001b[0m \u001b[0mcv\u001b[0m\u001b[0;34m=\u001b[0m\u001b[0;36m5\u001b[0m\u001b[0;34m,\u001b[0m \u001b[0mrandom_state\u001b[0m\u001b[0;34m=\u001b[0m\u001b[0;36m42\u001b[0m\u001b[0;34m,\u001b[0m \u001b[0mn_jobs\u001b[0m\u001b[0;34m=\u001b[0m\u001b[0;34m-\u001b[0m\u001b[0;36m1\u001b[0m\u001b[0;34m)\u001b[0m\u001b[0;34m\u001b[0m\u001b[0;34m\u001b[0m\u001b[0m\n\u001b[0;32m---> 88\u001b[0;31m \u001b[0mrandom_search\u001b[0m\u001b[0;34m.\u001b[0m\u001b[0mfit\u001b[0m\u001b[0;34m(\u001b[0m\u001b[0mX_train\u001b[0m\u001b[0;34m,\u001b[0m \u001b[0my_train\u001b[0m\u001b[0;34m)\u001b[0m\u001b[0;34m\u001b[0m\u001b[0;34m\u001b[0m\u001b[0m\n\u001b[0m\u001b[1;32m     89\u001b[0m \u001b[0;34m\u001b[0m\u001b[0m\n\u001b[1;32m     90\u001b[0m \u001b[0;31m# 최적의 모델 선택\u001b[0m\u001b[0;34m\u001b[0m\u001b[0;34m\u001b[0m\u001b[0m\n",
            "\u001b[0;32m/usr/local/lib/python3.11/dist-packages/sklearn/base.py\u001b[0m in \u001b[0;36mwrapper\u001b[0;34m(estimator, *args, **kwargs)\u001b[0m\n\u001b[1;32m   1387\u001b[0m                 )\n\u001b[1;32m   1388\u001b[0m             ):\n\u001b[0;32m-> 1389\u001b[0;31m                 \u001b[0;32mreturn\u001b[0m \u001b[0mfit_method\u001b[0m\u001b[0;34m(\u001b[0m\u001b[0mestimator\u001b[0m\u001b[0;34m,\u001b[0m \u001b[0;34m*\u001b[0m\u001b[0margs\u001b[0m\u001b[0;34m,\u001b[0m \u001b[0;34m**\u001b[0m\u001b[0mkwargs\u001b[0m\u001b[0;34m)\u001b[0m\u001b[0;34m\u001b[0m\u001b[0;34m\u001b[0m\u001b[0m\n\u001b[0m\u001b[1;32m   1390\u001b[0m \u001b[0;34m\u001b[0m\u001b[0m\n\u001b[1;32m   1391\u001b[0m         \u001b[0;32mreturn\u001b[0m \u001b[0mwrapper\u001b[0m\u001b[0;34m\u001b[0m\u001b[0;34m\u001b[0m\u001b[0m\n",
            "\u001b[0;32m/usr/local/lib/python3.11/dist-packages/sklearn/model_selection/_search.py\u001b[0m in \u001b[0;36mfit\u001b[0;34m(self, X, y, **params)\u001b[0m\n\u001b[1;32m   1022\u001b[0m                 \u001b[0;32mreturn\u001b[0m \u001b[0mresults\u001b[0m\u001b[0;34m\u001b[0m\u001b[0;34m\u001b[0m\u001b[0m\n\u001b[1;32m   1023\u001b[0m \u001b[0;34m\u001b[0m\u001b[0m\n\u001b[0;32m-> 1024\u001b[0;31m             \u001b[0mself\u001b[0m\u001b[0;34m.\u001b[0m\u001b[0m_run_search\u001b[0m\u001b[0;34m(\u001b[0m\u001b[0mevaluate_candidates\u001b[0m\u001b[0;34m)\u001b[0m\u001b[0;34m\u001b[0m\u001b[0;34m\u001b[0m\u001b[0m\n\u001b[0m\u001b[1;32m   1025\u001b[0m \u001b[0;34m\u001b[0m\u001b[0m\n\u001b[1;32m   1026\u001b[0m             \u001b[0;31m# multimetric is determined here because in the case of a callable\u001b[0m\u001b[0;34m\u001b[0m\u001b[0;34m\u001b[0m\u001b[0m\n",
            "\u001b[0;32m/usr/local/lib/python3.11/dist-packages/sklearn/model_selection/_search.py\u001b[0m in \u001b[0;36m_run_search\u001b[0;34m(self, evaluate_candidates)\u001b[0m\n\u001b[1;32m   1949\u001b[0m     \u001b[0;32mdef\u001b[0m \u001b[0m_run_search\u001b[0m\u001b[0;34m(\u001b[0m\u001b[0mself\u001b[0m\u001b[0;34m,\u001b[0m \u001b[0mevaluate_candidates\u001b[0m\u001b[0;34m)\u001b[0m\u001b[0;34m:\u001b[0m\u001b[0;34m\u001b[0m\u001b[0;34m\u001b[0m\u001b[0m\n\u001b[1;32m   1950\u001b[0m         \u001b[0;34m\"\"\"Search n_iter candidates from param_distributions\"\"\"\u001b[0m\u001b[0;34m\u001b[0m\u001b[0;34m\u001b[0m\u001b[0m\n\u001b[0;32m-> 1951\u001b[0;31m         evaluate_candidates(\n\u001b[0m\u001b[1;32m   1952\u001b[0m             ParameterSampler(\n\u001b[1;32m   1953\u001b[0m                 \u001b[0mself\u001b[0m\u001b[0;34m.\u001b[0m\u001b[0mparam_distributions\u001b[0m\u001b[0;34m,\u001b[0m \u001b[0mself\u001b[0m\u001b[0;34m.\u001b[0m\u001b[0mn_iter\u001b[0m\u001b[0;34m,\u001b[0m \u001b[0mrandom_state\u001b[0m\u001b[0;34m=\u001b[0m\u001b[0mself\u001b[0m\u001b[0;34m.\u001b[0m\u001b[0mrandom_state\u001b[0m\u001b[0;34m\u001b[0m\u001b[0;34m\u001b[0m\u001b[0m\n",
            "\u001b[0;32m/usr/local/lib/python3.11/dist-packages/sklearn/model_selection/_search.py\u001b[0m in \u001b[0;36mevaluate_candidates\u001b[0;34m(candidate_params, cv, more_results)\u001b[0m\n\u001b[1;32m    968\u001b[0m                     )\n\u001b[1;32m    969\u001b[0m \u001b[0;34m\u001b[0m\u001b[0m\n\u001b[0;32m--> 970\u001b[0;31m                 out = parallel(\n\u001b[0m\u001b[1;32m    971\u001b[0m                     delayed(_fit_and_score)(\n\u001b[1;32m    972\u001b[0m                         \u001b[0mclone\u001b[0m\u001b[0;34m(\u001b[0m\u001b[0mbase_estimator\u001b[0m\u001b[0;34m)\u001b[0m\u001b[0;34m,\u001b[0m\u001b[0;34m\u001b[0m\u001b[0;34m\u001b[0m\u001b[0m\n",
            "\u001b[0;32m/usr/local/lib/python3.11/dist-packages/sklearn/utils/parallel.py\u001b[0m in \u001b[0;36m__call__\u001b[0;34m(self, iterable)\u001b[0m\n\u001b[1;32m     75\u001b[0m             \u001b[0;32mfor\u001b[0m \u001b[0mdelayed_func\u001b[0m\u001b[0;34m,\u001b[0m \u001b[0margs\u001b[0m\u001b[0;34m,\u001b[0m \u001b[0mkwargs\u001b[0m \u001b[0;32min\u001b[0m \u001b[0miterable\u001b[0m\u001b[0;34m\u001b[0m\u001b[0;34m\u001b[0m\u001b[0m\n\u001b[1;32m     76\u001b[0m         )\n\u001b[0;32m---> 77\u001b[0;31m         \u001b[0;32mreturn\u001b[0m \u001b[0msuper\u001b[0m\u001b[0;34m(\u001b[0m\u001b[0;34m)\u001b[0m\u001b[0;34m.\u001b[0m\u001b[0m__call__\u001b[0m\u001b[0;34m(\u001b[0m\u001b[0miterable_with_config\u001b[0m\u001b[0;34m)\u001b[0m\u001b[0;34m\u001b[0m\u001b[0;34m\u001b[0m\u001b[0m\n\u001b[0m\u001b[1;32m     78\u001b[0m \u001b[0;34m\u001b[0m\u001b[0m\n\u001b[1;32m     79\u001b[0m \u001b[0;34m\u001b[0m\u001b[0m\n",
            "\u001b[0;32m/usr/local/lib/python3.11/dist-packages/joblib/parallel.py\u001b[0m in \u001b[0;36m__call__\u001b[0;34m(self, iterable)\u001b[0m\n\u001b[1;32m   2005\u001b[0m         \u001b[0mnext\u001b[0m\u001b[0;34m(\u001b[0m\u001b[0moutput\u001b[0m\u001b[0;34m)\u001b[0m\u001b[0;34m\u001b[0m\u001b[0;34m\u001b[0m\u001b[0m\n\u001b[1;32m   2006\u001b[0m \u001b[0;34m\u001b[0m\u001b[0m\n\u001b[0;32m-> 2007\u001b[0;31m         \u001b[0;32mreturn\u001b[0m \u001b[0moutput\u001b[0m \u001b[0;32mif\u001b[0m \u001b[0mself\u001b[0m\u001b[0;34m.\u001b[0m\u001b[0mreturn_generator\u001b[0m \u001b[0;32melse\u001b[0m \u001b[0mlist\u001b[0m\u001b[0;34m(\u001b[0m\u001b[0moutput\u001b[0m\u001b[0;34m)\u001b[0m\u001b[0;34m\u001b[0m\u001b[0;34m\u001b[0m\u001b[0m\n\u001b[0m\u001b[1;32m   2008\u001b[0m \u001b[0;34m\u001b[0m\u001b[0m\n\u001b[1;32m   2009\u001b[0m     \u001b[0;32mdef\u001b[0m \u001b[0m__repr__\u001b[0m\u001b[0;34m(\u001b[0m\u001b[0mself\u001b[0m\u001b[0;34m)\u001b[0m\u001b[0;34m:\u001b[0m\u001b[0;34m\u001b[0m\u001b[0;34m\u001b[0m\u001b[0m\n",
            "\u001b[0;32m/usr/local/lib/python3.11/dist-packages/joblib/parallel.py\u001b[0m in \u001b[0;36m_get_outputs\u001b[0;34m(self, iterator, pre_dispatch)\u001b[0m\n\u001b[1;32m   1648\u001b[0m \u001b[0;34m\u001b[0m\u001b[0m\n\u001b[1;32m   1649\u001b[0m             \u001b[0;32mwith\u001b[0m \u001b[0mself\u001b[0m\u001b[0;34m.\u001b[0m\u001b[0m_backend\u001b[0m\u001b[0;34m.\u001b[0m\u001b[0mretrieval_context\u001b[0m\u001b[0;34m(\u001b[0m\u001b[0;34m)\u001b[0m\u001b[0;34m:\u001b[0m\u001b[0;34m\u001b[0m\u001b[0;34m\u001b[0m\u001b[0m\n\u001b[0;32m-> 1650\u001b[0;31m                 \u001b[0;32myield\u001b[0m \u001b[0;32mfrom\u001b[0m \u001b[0mself\u001b[0m\u001b[0;34m.\u001b[0m\u001b[0m_retrieve\u001b[0m\u001b[0;34m(\u001b[0m\u001b[0;34m)\u001b[0m\u001b[0;34m\u001b[0m\u001b[0;34m\u001b[0m\u001b[0m\n\u001b[0m\u001b[1;32m   1651\u001b[0m \u001b[0;34m\u001b[0m\u001b[0m\n\u001b[1;32m   1652\u001b[0m         \u001b[0;32mexcept\u001b[0m \u001b[0mGeneratorExit\u001b[0m\u001b[0;34m:\u001b[0m\u001b[0;34m\u001b[0m\u001b[0;34m\u001b[0m\u001b[0m\n",
            "\u001b[0;32m/usr/local/lib/python3.11/dist-packages/joblib/parallel.py\u001b[0m in \u001b[0;36m_retrieve\u001b[0;34m(self)\u001b[0m\n\u001b[1;32m   1760\u001b[0m                 (self._jobs[0].get_status(\n\u001b[1;32m   1761\u001b[0m                     timeout=self.timeout) == TASK_PENDING)):\n\u001b[0;32m-> 1762\u001b[0;31m                 \u001b[0mtime\u001b[0m\u001b[0;34m.\u001b[0m\u001b[0msleep\u001b[0m\u001b[0;34m(\u001b[0m\u001b[0;36m0.01\u001b[0m\u001b[0;34m)\u001b[0m\u001b[0;34m\u001b[0m\u001b[0;34m\u001b[0m\u001b[0m\n\u001b[0m\u001b[1;32m   1763\u001b[0m                 \u001b[0;32mcontinue\u001b[0m\u001b[0;34m\u001b[0m\u001b[0;34m\u001b[0m\u001b[0m\n\u001b[1;32m   1764\u001b[0m \u001b[0;34m\u001b[0m\u001b[0m\n",
            "\u001b[0;31mKeyboardInterrupt\u001b[0m: "
          ]
        }
      ]
    },
    {
      "cell_type": "markdown",
      "source": [
        "#-------NEW 수집된 신선 난자 수"
      ],
      "metadata": {
        "id": "bn2c_hwbGEfh"
      }
    },
    {
      "cell_type": "code",
      "source": [
        "import os\n",
        "import pandas as pd\n",
        "import numpy as np\n",
        "import matplotlib.pyplot as plt"
      ],
      "metadata": {
        "id": "yH2Tgx9pGHwS"
      },
      "execution_count": null,
      "outputs": []
    },
    {
      "cell_type": "code",
      "source": [
        "# 혼합된 난자 수 분포 확인하기\n",
        "plt.hist(train_df['수집된 신선 난자 수'],bins=8)"
      ],
      "metadata": {
        "colab": {
          "base_uri": "https://localhost:8080/",
          "height": 519
        },
        "id": "agz3bQHjGHts",
        "outputId": "9b0e0751-6230-4e2f-a329-4eb247a713c5"
      },
      "execution_count": null,
      "outputs": [
        {
          "output_type": "execute_result",
          "data": {
            "text/plain": [
              "(array([113714.,  75037.,  48244.,  13454.,   4042.,   1412.,    289.,\n",
              "           159.]),\n",
              " array([ 0.   ,  6.375, 12.75 , 19.125, 25.5  , 31.875, 38.25 , 44.625,\n",
              "        51.   ]),\n",
              " <BarContainer object of 8 artists>)"
            ]
          },
          "metadata": {},
          "execution_count": 61
        },
        {
          "output_type": "display_data",
          "data": {
            "text/plain": [
              "<Figure size 640x480 with 1 Axes>"
            ],
            "image/png": "[encoded data removed]"
          },
          "metadata": {}
        }
      ]
    },
    {
      "cell_type": "code",
      "source": [
        "import pandas as pd\n",
        "import numpy as np\n",
        "import matplotlib.pyplot as plt\n",
        "\n",
        "# 수정된 라벨링 함수\n",
        "def assign_label4(value):\n",
        "    if value == 0:\n",
        "        return 0  # 0값 별도 처리\n",
        "    elif value <= 5:  # 예시 값, 실제 데이터에 맞게 조정 필요\n",
        "        return 1\n",
        "    elif value <= 9:  # 예시 값, 실제 데이터에 맞게 조정 필요\n",
        "        return 2\n",
        "    elif value <= 13:  # 예시 값, 실제 데이터에 맞게 조정 필요\n",
        "        return 3\n",
        "    else:\n",
        "        return 4\n",
        "\n",
        "# 라벨링 적용\n",
        "train_df['label4'] = train_df['수집된 신선 난자 수'].apply(assign_label4)\n",
        "\n",
        "# 라벨별 개수 확인\n",
        "label_counts4 = train_df['label4'].value_counts().sort_index()\n",
        "print(label_counts4)"
      ],
      "metadata": {
        "colab": {
          "base_uri": "https://localhost:8080/"
        },
        "id": "KoQVK1z5JjJF",
        "outputId": "e781a47c-b6f6-4cb0-d2e2-acabd4e26c6e"
      },
      "execution_count": null,
      "outputs": [
        {
          "output_type": "stream",
          "name": "stdout",
          "text": [
            "label4\n",
            "0    60136\n",
            "1    40960\n",
            "2    51976\n",
            "3    45563\n",
            "4    57716\n",
            "Name: count, dtype: int64\n"
          ]
        }
      ]
    },
    {
      "cell_type": "code",
      "source": [],
      "metadata": {
        "id": "9tPFh_ZiJjG4"
      },
      "execution_count": null,
      "outputs": []
    },
    {
      "cell_type": "code",
      "source": [
        "import pandas as pd\n",
        "import numpy as np\n",
        "from sklearn.ensemble import RandomForestClassifier\n",
        "from sklearn.model_selection import cross_val_score\n",
        "\n",
        "# 데이터 로드\n",
        "train_df = pd.read_csv('/content/drive/MyDrive/Colab Notebooks/lgaimers/train.csv')\n",
        "test_df = pd.read_csv('/content/drive/MyDrive/Colab Notebooks/lgaimers/test.csv')\n",
        "\n",
        "# NaN 값 처리 및 데이터 타입 변환\n",
        "for df in [train_df, test_df]:\n",
        "    df['배아 이식 경과일'] = pd.to_numeric(df['배아 이식 경과일'], errors='coerce')\n",
        "    df['수집된 신선 난자 수'] = pd.to_numeric(df['수집된 신선 난자 수'], errors='coerce')\n",
        "    df['배아 이식 경과일'] = df['배아 이식 경과일'].fillna(df['배아 이식 경과일'].median())\n",
        "    df['수집된 신선 난자 수'] = df['수집된 신선 난자 수'].fillna(df['수집된 신선 난자 수'].median())\n",
        "\n",
        "# '배아 이식 경과일' 라벨링\n",
        "embryo_label_bins = train_df['배아 이식 경과일'].quantile([0.33, 0.66])\n",
        "\n",
        "def assign_embryo_label(value):\n",
        "    if value < embryo_label_bins.iloc[0]:\n",
        "        return 0  # 나쁨\n",
        "    elif value < embryo_label_bins.iloc[1]:\n",
        "        return 1  # 보통\n",
        "    else:\n",
        "        return 2  # 좋음\n",
        "\n",
        "train_df['embryo_label'] = train_df['배아 이식 경과일'].apply(assign_embryo_label)\n",
        "test_df['embryo_label'] = test_df['배아 이식 경과일'].apply(assign_embryo_label)\n",
        "\n",
        "# '수집된 신선 난자 수' 라벨링 (새로운 방식)\n",
        "def assign_egg_label(value):\n",
        "    if value == 0:\n",
        "        return 0\n",
        "    elif value <= 5:\n",
        "        return 1\n",
        "    elif value <= 9:\n",
        "        return 2\n",
        "    elif value <= 13:\n",
        "        return 3\n",
        "    else:\n",
        "        return 4\n",
        "\n",
        "train_df['egg_label'] = train_df['수집된 신선 난자 수'].apply(assign_egg_label)\n",
        "test_df['egg_label'] = test_df['수집된 신선 난자 수'].apply(assign_egg_label)\n",
        "\n",
        "# 기존 성공률 매핑\n",
        "all_counted_success_rate = {\n",
        "    '0회': 0.290987, '1회': 0.249952, '2회': 0.236354, '3회': 0.236354,\n",
        "    '4회': 0.227792, '5회': 0.215792, '6회 이상': 0.203300\n",
        "}\n",
        "\n",
        "procedure_success_rate = {'DI': 0.128914, 'IVF': 0.261605}\n",
        "\n",
        "age_group_success_rate = {\n",
        "    '만18-34세': 0.322622, '만35-37세': 0.278401, '만38-39세': 0.217138,\n",
        "    '만40-42세': 0.159393, '만43-44세': 0.118012, '만45-50세': 0.167679,\n",
        "    '알 수 없음': 0.000000\n",
        "}\n",
        "\n",
        "def combine_success_rate(row):\n",
        "    all_counted_success = all_counted_success_rate.get(row['총 시술 횟수'], 0)\n",
        "    procedure_success = procedure_success_rate.get(row['시술 유형'], 0)\n",
        "    age_success = age_group_success_rate.get(row['시술 당시 나이'], 0)\n",
        "    return (all_counted_success + procedure_success + age_success) / 3\n",
        "\n",
        "for df in [train_df, test_df]:\n",
        "    df['Age Group Success Rate'] = df['시술 당시 나이'].map(age_group_success_rate)\n",
        "    df['Combined Success Rate'] = df.apply(combine_success_rate, axis=1)\n",
        "\n",
        "# 훈련 데이터 준비\n",
        "X_train = train_df[['Age Group Success Rate', 'Combined Success Rate', 'embryo_label', 'egg_label']]\n",
        "y_train = train_df['임신 성공 여부']\n",
        "\n",
        "# Random Forest 모델 생성 및 훈련\n",
        "rf_model = RandomForestClassifier(n_estimators=100, random_state=42)\n",
        "rf_model.fit(X_train, y_train)\n",
        "\n",
        "# 교차 검증 수행\n",
        "cv_scores = cross_val_score(rf_model, X_train, y_train, cv=5)\n",
        "print(\"교차 검증 점수:\", cv_scores)\n",
        "print(\"평균 교차 검증 점수:\", cv_scores.mean())\n",
        "\n",
        "# 테스트 데이터 준비 및 예측\n",
        "X_test = test_df[['Age Group Success Rate', 'Combined Success Rate', 'embryo_label', 'egg_label']]\n",
        "pred_proba = rf_model.predict_proba(X_test)[:, 1]\n",
        "\n",
        "# 결과 저장\n",
        "sample_submission = pd.read_csv('/content/drive/MyDrive/Colab Notebooks/lgaimers/sample_submission.csv')\n",
        "sample_submission['probability'] = pred_proba\n",
        "sample_submission.to_csv('/content/drive/MyDrive/Colab Notebooks/lgaimers/제출파일/submission_NEW_DT.csv', index=False)\n",
        "\n",
        "print(sample_submission.head())"
      ],
      "metadata": {
        "colab": {
          "base_uri": "https://localhost:8080/"
        },
        "id": "FxExki77LuuI",
        "outputId": "177cc773-5965-4b89-f707-d8d670ee50a6"
      },
      "execution_count": null,
      "outputs": [
        {
          "output_type": "stream",
          "name": "stdout",
          "text": [
            "교차 검증 점수: [0.7415303  0.74164229 0.74094012 0.74138873 0.74154476]\n",
            "평균 교차 검증 점수: 0.7414092392030435\n",
            "           ID  probability\n",
            "0  TEST_00000     0.238138\n",
            "1  TEST_00001     0.175985\n",
            "2  TEST_00002     0.107431\n",
            "3  TEST_00003     0.097878\n",
            "4  TEST_00004     0.363934\n"
          ]
        }
      ]
    },
    {
      "cell_type": "code",
      "source": [
        "#이게 찐임================================\n",
        "\n",
        "\n",
        "import pandas as pd\n",
        "import numpy as np\n",
        "from sklearn.ensemble import RandomForestClassifier\n",
        "from sklearn.model_selection import cross_val_score\n",
        "\n",
        "# 데이터 로드\n",
        "train_df = pd.read_csv('/content/drive/MyDrive/Colab Notebooks/lgaimers/train.csv')\n",
        "test_df = pd.read_csv('/content/drive/MyDrive/Colab Notebooks/lgaimers/test.csv')\n",
        "\n",
        "# NaN 값 처리 및 데이터 타입 변환\n",
        "for df in [train_df, test_df]:\n",
        "    df['배아 이식 경과일'] = pd.to_numeric(df['배아 이식 경과일'], errors='coerce')\n",
        "    df['혼합된 난자 수'] = pd.to_numeric(df['혼합된 난자 수'], errors='coerce')\n",
        "    df['수집된 신선 난자 수'] = pd.to_numeric(df['수집된 신선 난자 수'], errors='coerce')\n",
        "    df['배아 이식 경과일'] = df['배아 이식 경과일'].fillna(df['배아 이식 경과일'].median())\n",
        "    df['혼합된 난자 수'] = df['혼합된 난자 수'].fillna(df['혼합된 난자 수'].median())\n",
        "    df['수집된 신선 난자 수'] = df['수집된 신선 난자 수'].fillna(df['수집된 신선 난자 수'].median())\n",
        "\n",
        "# 기존 라벨링 유지\n",
        "embryo_label_bins = train_df['배아 이식 경과일'].quantile([0.33, 0.66])\n",
        "egg_label_bins = train_df['혼합된 난자 수'].quantile([0.25, 0.5, 0.75])\n",
        "\n",
        "def assign_embryo_label(value):\n",
        "    if value < embryo_label_bins.iloc[0]:\n",
        "        return 0  # 나쁨\n",
        "    elif value < embryo_label_bins.iloc[1]:\n",
        "        return 1  # 보통\n",
        "    else:\n",
        "        return 2  # 좋음\n",
        "\n",
        "def assign_egg_label(value):\n",
        "    if value < egg_label_bins.iloc[0]:\n",
        "        return 0  # 나쁨\n",
        "    elif value < egg_label_bins.iloc[1]:\n",
        "        return 1  # 보통\n",
        "    elif value < egg_label_bins.iloc[2]:\n",
        "        return 2  # 좋음\n",
        "    else:\n",
        "        return 3  # 최상\n",
        "\n",
        "# 새로운 라벨링 추가\n",
        "def assign_fresh_egg_label(value):\n",
        "    if value == 0:\n",
        "        return 0\n",
        "    elif value <= 5:\n",
        "        return 1\n",
        "    elif value <= 9:\n",
        "        return 2\n",
        "    elif value <= 13:\n",
        "        return 3\n",
        "    else:\n",
        "        return 4\n",
        "\n",
        "for df in [train_df, test_df]:\n",
        "    df['embryo_label'] = df['배아 이식 경과일'].apply(assign_embryo_label)\n",
        "    df['egg_label'] = df['혼합된 난자 수'].apply(assign_egg_label)\n",
        "    df['fresh_egg_label'] = df['수집된 신선 난자 수'].apply(assign_fresh_egg_label)\n",
        "\n",
        "# 기존 코드 유지\n",
        "all_counted_success_rate = {\n",
        "    '0회': 0.290987, '1회': 0.249952, '2회': 0.236354, '3회': 0.236354,\n",
        "    '4회': 0.227792, '5회': 0.215792, '6회 이상': 0.203300\n",
        "}\n",
        "\n",
        "procedure_success_rate = {'DI': 0.128914, 'IVF': 0.261605}\n",
        "\n",
        "age_group_success_rate = {\n",
        "    '만18-34세': 0.322622, '만35-37세': 0.278401, '만38-39세': 0.217138,\n",
        "    '만40-42세': 0.159393, '만43-44세': 0.118012, '만45-50세': 0.167679,\n",
        "    '알 수 없음': 0.000000\n",
        "}\n",
        "\n",
        "def combine_success_rate(row):\n",
        "    all_counted_success = all_counted_success_rate.get(row['총 시술 횟수'], 0)\n",
        "    procedure_success = procedure_success_rate.get(row['시술 유형'], 0)\n",
        "    age_success = age_group_success_rate.get(row['시술 당시 나이'], 0)\n",
        "    return (all_counted_success + procedure_success + age_success) / 3\n",
        "\n",
        "for df in [train_df, test_df]:\n",
        "    df['Age Group Success Rate'] = df['시술 당시 나이'].map(age_group_success_rate)\n",
        "    df['Combined Success Rate'] = df.apply(combine_success_rate, axis=1)\n",
        "\n",
        "# 훈련 데이터 준비 (새로운 특성 추가)\n",
        "X_train = train_df[['Age Group Success Rate', 'Combined Success Rate', 'embryo_label', 'egg_label', 'fresh_egg_label']]\n",
        "y_train = train_df['임신 성공 여부']\n",
        "\n",
        "# Random Forest 모델 생성 및 훈련\n",
        "rf_model = RandomForestClassifier(n_estimators=100, random_state=42)\n",
        "rf_model.fit(X_train, y_train)\n",
        "\n",
        "# 교차 검증 수행\n",
        "cv_scores = cross_val_score(rf_model, X_train, y_train, cv=5)\n",
        "print(\"교차 검증 점수:\", cv_scores)\n",
        "print(\"평균 교차 검증 점수:\", cv_scores.mean())\n",
        "\n",
        "# 테스트 데이터 준비 및 예측 (새로운 특성 추가)\n",
        "X_test = test_df[['Age Group Success Rate', 'Combined Success Rate', 'embryo_label', 'egg_label', 'fresh_egg_label']]\n",
        "pred_proba = rf_model.predict_proba(X_test)[:, 1]\n",
        "\n",
        "# 결과 저장\n",
        "sample_submission = pd.read_csv('/content/drive/MyDrive/Colab Notebooks/lgaimers/sample_submission.csv')\n",
        "sample_submission['probability'] = pred_proba\n",
        "sample_submission.to_csv('/content/drive/MyDrive/Colab Notebooks/lgaimers/제출파일/submission_newNEW.csv', index=False)\n",
        "\n",
        "print(sample_submission.head())\n"
      ],
      "metadata": {
        "colab": {
          "base_uri": "https://localhost:8080/"
        },
        "id": "u2fp2m2NGHpV",
        "outputId": "1cb2e217-4a11-4148-f61a-4aa111287ac7"
      },
      "execution_count": null,
      "outputs": [
        {
          "output_type": "stream",
          "name": "stdout",
          "text": [
            "교차 검증 점수: [0.74045757 0.74062805 0.740433   0.7408621  0.74053052]\n",
            "평균 교차 검증 점수: 0.7405822490440077\n",
            "           ID  probability\n",
            "0  TEST_00000     0.261136\n",
            "1  TEST_00001     0.101939\n",
            "2  TEST_00002     0.119975\n",
            "3  TEST_00003     0.084207\n",
            "4  TEST_00004     0.377246\n"
          ]
        }
      ]
    },
    {
      "cell_type": "code",
      "source": [],
      "metadata": {
        "id": "zsIZfvDmGGf-"
      },
      "execution_count": null,
      "outputs": []
    },
    {
      "cell_type": "markdown",
      "source": [
        "#--"
      ],
      "metadata": {
        "id": "JANZX1i-SHoC"
      }
    },
    {
      "cell_type": "code",
      "source": [
        "import pandas as pd\n",
        "from sklearn.ensemble import ExtraTreesClassifier\n",
        "\n",
        "# 총 시술 횟수별 성공률 매핑\n",
        "all_counted_success_rate ={\n",
        "    '0회': 0.290987,\n",
        "    '1회': 0.249952,\n",
        "    '2회': 0.236354,\n",
        "    '3회': 0.236354,\n",
        "    '4회': 0.227792,\n",
        "    '5회': 0.215792,\n",
        "    '6회 이상': 0.203300\n",
        "}\n",
        "\n",
        "# 시술 유형별 성공률 매핑 (train에서 사용했던 방식)\n",
        "procedure_success_rate = {\n",
        "    'DI': 0.128914,\n",
        "    'IVF': 0.261605\n",
        "}\n",
        "\n",
        "# 시술 당시 나이별 성공률 매핑 (train에서 사용했던 방식)\n",
        "age_group_success_rate = {\n",
        "    '만18-34세': 0.322622,\n",
        "    '만35-37세': 0.278401,\n",
        "    '만38-39세': 0.217138,\n",
        "    '만40-42세': 0.159393,\n",
        "    '만43-44세': 0.118012,\n",
        "    '만45-50세': 0.167679,\n",
        "    '알 수 없음': 0.000000\n",
        "}\n",
        "\n",
        "# 시술 유형과 나이에 따른 성공 확률을 결합하여 새로운 피처 'Combined Success Rate' 생성\n",
        "def combine_success_rate(row):\n",
        "    all_counted_success = all_counted_success_rate.get(row['총 시술 횟수'], 0)\n",
        "    procedure_success = procedure_success_rate.get(row['시술 유형'], 0)\n",
        "    age_success = age_group_success_rate.get(row['시술 당시 나이'], 0)\n",
        "    return (all_counted_success + procedure_success + age_success) / 3  # 결합된 확률\n",
        "\n",
        "# 훈련 데이터 로드\n",
        "train_df = pd.read_csv('/content/drive/MyDrive/Colab Notebooks/lgaimers/train.csv')\n",
        "\n",
        "# 훈련 데이터에 'Age Group Success Rate'와 'Combined Success Rate' 추가\n",
        "train_df['Age Group Success Rate'] = train_df['시술 당시 나이'].map(age_group_success_rate)\n",
        "train_df['Combined Success Rate'] = train_df.apply(combine_success_rate, axis=1)\n",
        "\n",
        "# 훈련 데이터에서 사용할 피처들 설정\n",
        "X_train = train_df[['Age Group Success Rate', 'Combined Success Rate']]  # 두 피처 모두 포함\n",
        "y_train = train_df['임신 성공 여부']  # 타겟\n",
        "\n",
        "# 모델 훈련 (ExtraTreesClassifier 사용)\n",
        "model = ExtraTreesClassifier(random_state=42)\n",
        "model.fit(X_train, y_train)\n",
        "\n",
        "# 테스트 데이터 로드\n",
        "test_df = pd.read_csv('/content/drive/MyDrive/Colab Notebooks/lgaimers/test.csv')\n",
        "\n",
        "# 테스트 데이터에 'Age Group Success Rate'와 'Combined Success Rate' 추가\n",
        "test_df['Age Group Success Rate'] = test_df['시술 당시 나이'].map(age_group_success_rate)\n",
        "test_df['Combined Success Rate'] = test_df.apply(combine_success_rate, axis=1)\n",
        "\n",
        "# 테스트 데이터에서 예측에 사용할 피처 설정\n",
        "X_test = test_df[['Age Group Success Rate', 'Combined Success Rate']]  # 훈련과 동일한 피처 사용\n",
        "\n",
        "# 예측 확률 계산 (class 1에 대한 확률만 추출)\n",
        "pred_proba_test = model.predict_proba(X_test)[:, 1]  # 클래스 1에 대한 확률만 추출\n",
        "\n",
        "# sample_submission 파일 불러오기\n",
        "sample_submission = pd.read_csv('/content/drive/MyDrive/Colab Notebooks/lgaimers/sample_submission.csv')\n",
        "\n",
        "# 예측 확률을 'probability' 컬럼에 추가\n",
        "sample_submission['probability'] = pred_proba_test\n",
        "\n",
        "# 결과를 CSV 파일로 저장\n",
        "sample_submission.to_csv('/content/drive/MyDrive/Colab Notebooks/lgaimers/제출파일/submission_DT1.csv', index=False)\n",
        "\n",
        "# 결과 확인\n",
        "print(sample_submission.head())"
      ],
      "metadata": {
        "id": "f6jHVEHdL-ZS",
        "colab": {
          "base_uri": "https://localhost:8080/"
        },
        "outputId": "b7d69287-1423-4024-db84-321d1e8c7b78"
      },
      "execution_count": null,
      "outputs": [
        {
          "output_type": "stream",
          "name": "stdout",
          "text": [
            "           ID  probability\n",
            "0  TEST_00000     0.268469\n",
            "1  TEST_00001     0.340859\n",
            "2  TEST_00002     0.167135\n",
            "3  TEST_00003     0.167135\n",
            "4  TEST_00004     0.268469\n"
          ]
        }
      ]
    },
    {
      "cell_type": "code",
      "source": [],
      "metadata": {
        "id": "nYI-cBVFRx49"
      },
      "execution_count": null,
      "outputs": []
    },
    {
      "cell_type": "code",
      "source": [],
      "metadata": {
        "id": "4B0ogXgtL-XN"
      },
      "execution_count": null,
      "outputs": []
    },
    {
      "cell_type": "code",
      "source": [
        "#-----------------사용하지 않음--------------------\n",
        "\n",
        "# '배아 이식 경과일' 컬럼에서 NaN 값을 제외한 데이터로 히스토그램 계산\n",
        "train_df_cleaned = train_df['배아 이식 경과일'].dropna()\n",
        "\n",
        "# '배아 이식 경과일' 히스토그램 데이터\n",
        "hist_values, bin_edges = np.histogram(train_df_cleaned, bins=10)\n",
        "\n",
        "# 누적 빈도 계산\n",
        "cumulative_counts = np.cumsum(hist_values)\n",
        "total_count = cumulative_counts[-1]\n",
        "\n",
        "# 33%와 66%에 해당하는 경계값 찾기\n",
        "threshold_33 = total_count * 0.33\n",
        "threshold_66 = total_count * 0.66\n",
        "\n",
        "# 33%와 66%에 해당하는 '배아 이식 경과일' 기준값 설정\n",
        "label_bins = []\n",
        "for i, count in enumerate(cumulative_counts):\n",
        "    if count >= threshold_33 and len(label_bins) == 0:\n",
        "        label_bins.append(bin_edges[i])  # 33% 경계값\n",
        "    if count >= threshold_66 and len(label_bins) == 1:\n",
        "        label_bins.append(bin_edges[i])  # 66% 경계값\n",
        "        break\n",
        "\n",
        "# 라벨링 함수 정의\n",
        "def assign_label(value):\n",
        "    if value < label_bins[0]:\n",
        "        return 0  # 나쁨\n",
        "    elif value < label_bins[1]:\n",
        "        return 1  # 보통\n",
        "    else:\n",
        "        return 2  # 좋음\n",
        "\n",
        "# 라벨링 적용\n",
        "train_df['label'] = train_df['배아 이식 경과일'].apply(assign_label)\n",
        "\n",
        "# 총 시술 횟수별 성공률 매핑\n",
        "all_counted_success_rate = {\n",
        "    '0회': 0.290987,\n",
        "    '1회': 0.249952,\n",
        "    '2회': 0.236354,\n",
        "    '3회': 0.236354,\n",
        "    '4회': 0.227792,\n",
        "    '5회': 0.215792,\n",
        "    '6회 이상': 0.203300\n",
        "}\n",
        "\n",
        "# 시술 유형별 성공률 매핑\n",
        "procedure_success_rate = {\n",
        "    'DI': 0.128914,\n",
        "    'IVF': 0.261605\n",
        "}\n",
        "\n",
        "# 시술 당시 나이별 성공률 매핑\n",
        "age_group_success_rate = {\n",
        "    '만18-34세': 0.322622,\n",
        "    '만35-37세': 0.278401,\n",
        "    '만38-39세': 0.217138,\n",
        "    '만40-42세': 0.159393,\n",
        "    '만43-44세': 0.118012,\n",
        "    '만45-50세': 0.167679,\n",
        "    '알 수 없음': 0.000000\n",
        "}\n",
        "\n",
        "# 시술 유형과 나이에 따른 성공 확률을 결합하여 새로운 피처 'Combined Success Rate' 생성\n",
        "def combine_success_rate(row):\n",
        "    all_counted_success = all_counted_success_rate.get(row['총 시술 횟수'], 0)\n",
        "    procedure_success = procedure_success_rate.get(row['시술 유형'], 0)\n",
        "    age_success = age_group_success_rate.get(row['시술 당시 나이'], 0)\n",
        "    return (all_counted_success + procedure_success + age_success) / 3  # 결합된 확률\n",
        "\n",
        "# 훈련 데이터에 'Age Group Success Rate'와 'Combined Success Rate' 추가\n",
        "train_df['Age Group Success Rate'] = train_df['시술 당시 나이'].map(age_group_success_rate)\n",
        "train_df['Combined Success Rate'] = train_df.apply(combine_success_rate, axis=1)\n",
        "\n",
        "# 훈련 데이터에서 사용할 피처들 설정\n",
        "X_train = train_df[['Age Group Success Rate', 'Combined Success Rate']]  # 두 피처 모두 포함\n",
        "y_train = train_df['임신 성공 여부']  # 타겟\n",
        "\n",
        "# 모델 훈련\n",
        "model = ExtraTreesClassifier(random_state=42)\n",
        "model.fit(X_train, y_train)\n",
        "\n",
        "# 테스트 데이터 로드\n",
        "test_df = pd.read_csv('/content/drive/MyDrive/Colab Notebooks/lgaimers/test.csv')\n",
        "\n",
        "# 테스트 데이터에 'Age Group Success Rate'와 'Combined Success Rate' 추가\n",
        "test_df['Age Group Success Rate'] = test_df['시술 당시 나이'].map(age_group_success_rate)\n",
        "test_df['Combined Success Rate'] = test_df.apply(combine_success_rate, axis=1)\n",
        "\n",
        "# 테스트 데이터에서 예측에 사용할 피처 설정\n",
        "X_test = test_df[['Age Group Success Rate', 'Combined Success Rate']]  # 훈련과 동일한 피처 사용\n",
        "\n",
        "# 예측 확률 계산\n",
        "pred_proba_test = model.predict_proba(X_test)[:, 1]  # 클래스 1에 대한 확률만 추출\n",
        "\n",
        "# sample_submission 파일 불러오기\n",
        "sample_submission = pd.read_csv('/content/drive/MyDrive/Colab Notebooks/lgaimers/sample_submission.csv')\n",
        "\n",
        "# 예측 확률을 'probability' 컬럼에 추가\n",
        "sample_submission['probability'] = pred_proba_test\n",
        "\n",
        "# 결과를 CSV 파일로 저장\n",
        "sample_submission.to_csv('/content/drive/MyDrive/Colab Notebooks/lgaimers/제출파일/submission_DT.csv', index=False)\n",
        "\n",
        "# 결과 확인\n",
        "print(sample_submission.head())"
      ],
      "metadata": {
        "id": "4o0vdEvH5lIW"
      },
      "execution_count": null,
      "outputs": []
    },
    {
      "cell_type": "code",
      "source": [],
      "metadata": {
        "id": "8nni7VX4CY5g"
      },
      "execution_count": null,
      "outputs": []
    },
    {
      "cell_type": "markdown",
      "source": [
        "# 베이즈 이론 활용"
      ],
      "metadata": {
        "id": "S8pY5MFV45Qx"
      }
    },
    {
      "cell_type": "code",
      "source": [
        "train_df['특정 시술 유형'].unique()"
      ],
      "metadata": {
        "colab": {
          "base_uri": "https://localhost:8080/"
        },
        "id": "MDdLZzl915On",
        "outputId": "2d3bf9fb-64f4-43fe-ccce-8ce51a13d5e2"
      },
      "execution_count": null,
      "outputs": [
        {
          "output_type": "execute_result",
          "data": {
            "text/plain": [
              "array(['ICSI', 'IVF', 'Unknown', 'IUI', 'IVF:IVF', 'IVF / BLASTOCYST',\n",
              "       'ICSI:IVF', 'ICSI / AH', 'ICSI:ICSI', 'IVF:ICSI',\n",
              "       'ICSI / BLASTOCYST ', 'IVF:Unknown', 'ICSI:Unknown', 'IVF / AH',\n",
              "       'IVI', 'Generic DI', 'ICSI / BLASTOCYST :IVF / BLASTOCYST', 'ICI',\n",
              "       'IVF / AH:ICSI / AH', '없음', 'GIFT',\n",
              "       'ICSI / BLASTOCYST:IVF / BLASTOCYST', 'ICSI / AH:Unknown', 'FER',\n",
              "       'ICSI / BLASTOCYST :ICSI'], dtype=object)"
            ]
          },
          "metadata": {},
          "execution_count": 32
        }
      ]
    },
    {
      "cell_type": "code",
      "source": [
        "success_counts_T = train_df[train_df['임신 성공 여부'] == 1]['특정 시술 유형'].value_counts()\n",
        "total_counts_t = train_df['특정 시술 유형'].value_counts()\n",
        "success_rates = success_counts_T.div(total_counts_t).fillna(0)\n",
        "print(success_rates)"
      ],
      "metadata": {
        "colab": {
          "base_uri": "https://localhost:8080/"
        },
        "id": "GSETuWy12xQe",
        "outputId": "8c46437d-2867-4e39-aad6-4cebb40e3d48"
      },
      "execution_count": null,
      "outputs": [
        {
          "output_type": "stream",
          "name": "stdout",
          "text": [
            "특정 시술 유형\n",
            "FER                                    0.333333\n",
            "GIFT                                   0.000000\n",
            "Generic DI                             0.169014\n",
            "ICI                                    0.135417\n",
            "ICSI                                   0.272825\n",
            "ICSI / AH                              0.217165\n",
            "ICSI / AH:Unknown                      0.500000\n",
            "ICSI / BLASTOCYST                      0.356743\n",
            "ICSI / BLASTOCYST :ICSI                1.000000\n",
            "ICSI / BLASTOCYST :IVF / BLASTOCYST    0.250000\n",
            "ICSI / BLASTOCYST:IVF / BLASTOCYST     0.333333\n",
            "ICSI:ICSI                              0.009939\n",
            "ICSI:IVF                               0.234822\n",
            "ICSI:Unknown                           0.101449\n",
            "IUI                                    0.128525\n",
            "IVF                                    0.261457\n",
            "IVF / AH                               0.184953\n",
            "IVF / AH:ICSI / AH                     0.000000\n",
            "IVF / BLASTOCYST                       0.366186\n",
            "IVF:ICSI                               0.283163\n",
            "IVF:IVF                                0.010471\n",
            "IVF:Unknown                            0.170000\n",
            "IVI                                    0.086957\n",
            "Unknown                                0.237203\n",
            "없음                                     0.000000\n",
            "Name: count, dtype: float64\n"
          ]
        }
      ]
    },
    {
      "cell_type": "code",
      "source": [
        "# 사전확률 계산\n",
        "\n",
        "# 남자인 데이터 수\n",
        "n_male = data['Gender'][data['Gender'] == 'male'].count()\n",
        "# 여자인 데이터 수\n",
        "n_female = data['Gender'][data['Gender'] == 'female'].count()\n",
        "# 전체 데이터 수\n",
        "n_human = data['Gender'].count()\n",
        "\n",
        "print(\"남자 데이터 수: \", n_male)\n",
        "print(\"여자 데이터 수: \",n_female)\n",
        "print(\"남자와 여자 데이터 수: \",n_human)\n",
        "\n",
        "# 남자일 확률\n",
        "p_male = n_male/n_human\n",
        "# 여자일 확률\n",
        "p_female = n_female/n_human\n",
        "print(\"남자일 사전 확률: \",p_male)\n",
        "print(\"여자일 사전 확률: \",p_female)"
      ],
      "metadata": {
        "id": "nC7gZhK4492r"
      },
      "execution_count": null,
      "outputs": []
    },
    {
      "cell_type": "code",
      "source": [
        "# male 데이터들에 대해서만 feature별 평균\n",
        "male_height_mean = data_means['Height'][data_variance.index == 'male'].values[0]\n",
        "male_weight_mean = data_means['Weight'][data_variance.index == 'male'].values[0]\n",
        "male_footsize_mean = data_means['Foot_Size'][data_variance.index == 'male'].values[0]\n",
        "\n",
        "# male 데이터들에 대해서만 feature별 분산\n",
        "male_height_variance = data_variance['Height'][data_variance.index == 'male'].values[0]\n",
        "male_weight_variance = data_variance['Weight'][data_variance.index == 'male'].values[0]\n",
        "male_footsize_variance = data_variance['Foot_Size'][data_variance.index == 'male'].values[0]\n",
        "\n",
        "# female 데이터들에 대해서만 feature별 평균\n",
        "female_height_mean = data_means['Height'][data_variance.index == 'female'].values[0]\n",
        "female_weight_mean = data_means['Weight'][data_variance.index == 'female'].values[0]\n",
        "female_footsize_mean = data_means['Foot_Size'][data_variance.index == 'female'].values[0]\n",
        "\n",
        "# female 데이터들에 대해서만 feature별 분산\n",
        "female_height_variance = data_variance['Height'][data_variance.index == 'female'].values[0]\n",
        "female_weight_variance = data_variance['Weight'][data_variance.index == 'female'].values[0]\n",
        "female_footsize_variance = data_variance['Foot_Size'][data_variance.index == 'female'].values[0]"
      ],
      "metadata": {
        "id": "ms-WpLpk49uM"
      },
      "execution_count": null,
      "outputs": []
    },
    {
      "cell_type": "code",
      "source": [
        "def p_x_given_y(x, mean_y, variance_y):\n",
        "    # Input the arguments into a probability density function\n",
        "    p = 1/(np.sqrt(2*np.pi*variance_y)) * np.exp((-(x-mean_y)**2)/(2*variance_y))\n",
        "    # return p\n",
        "    return p"
      ],
      "metadata": {
        "id": "NJKz3WC_49oc"
      },
      "execution_count": null,
      "outputs": []
    },
    {
      "cell_type": "code",
      "source": [
        "# 데이터가 남자인 사후 확률\n",
        "p1 = (p_male * p_x_given_y(person['Height'][0], male_height_mean, male_height_variance) *\n",
        "  p_x_given_y(person['Weight'][0], male_weight_mean, male_weight_variance) * p_x_given_y(person['Foot_Size'][0], male_footsize_mean, male_footsize_variance))\n",
        "p1"
      ],
      "metadata": {
        "id": "1xlhLKcV5L0D"
      },
      "execution_count": null,
      "outputs": []
    },
    {
      "cell_type": "code",
      "source": [
        "# 데이터가 여자인 사후 확률\n",
        "p2= (p_female * p_x_given_y(person['Height'][0], female_height_mean, female_height_variance) *\n",
        "p_x_given_y(person['Weight'][0], female_weight_mean, female_weight_variance) * p_x_given_y(person['Foot_Size'][0], female_footsize_mean, female_footsize_variance))\n",
        "p2"
      ],
      "metadata": {
        "id": "Knmd41vg5Lxv"
      },
      "execution_count": null,
      "outputs": []
    },
    {
      "cell_type": "code",
      "source": [],
      "metadata": {
        "id": "jGc2C6fr5Lvl"
      },
      "execution_count": null,
      "outputs": []
    },
    {
      "cell_type": "markdown",
      "source": [
        "#모델 학습"
      ],
      "metadata": {
        "id": "HZGTHLndabkv"
      }
    },
    {
      "cell_type": "code",
      "source": [
        "from sklearn.model_selection import train_test_split\n",
        "from sklearn.preprocessing import StandardScaler\n",
        "\n",
        "# 피처 설정: 'Age Group Success Rate' 외에도 필요한 다른 피처들 포함\n",
        "X = train_df[['Age Group Success Rate']]  # 예시로 '기타_피처들'을 넣었으니 필요에 맞게 수정\n",
        "y = train_df['임신 성공 여부']\n",
        "\n",
        "# 훈련 데이터와 테스트 데이터 분할\n",
        "X_train, X_test, y_train, y_test = train_test_split(X, y, test_size=0.2, random_state=42)\n",
        "\n",
        "# 데이터 스케일링 (선형 회귀 모델에 좋음)\n",
        "scaler = StandardScaler()\n",
        "X_train_scaled = scaler.fit_transform(X_train)\n",
        "X_test_scaled = scaler.transform(X_test)"
      ],
      "metadata": {
        "id": "2r6YRgAFaaw_"
      },
      "execution_count": null,
      "outputs": []
    },
    {
      "cell_type": "code",
      "source": [
        "from sklearn.linear_model import LinearRegression\n",
        "from sklearn.metrics import mean_squared_error, r2_score\n",
        "\n",
        "# 모델 학습\n",
        "model = LinearRegression()\n",
        "model.fit(X_train_scaled, y_train)\n",
        "\n",
        "# 예측\n",
        "y_pred = model.predict(X_test_scaled)\n",
        "\n",
        "# 평가\n",
        "mse = mean_squared_error(y_test, y_pred)\n",
        "r2 = r2_score(y_test, y_pred)\n",
        "\n",
        "print(\"Mean Squared Error (MSE):\", mse)\n",
        "print(\"R² Score:\", r2)\n"
      ],
      "metadata": {
        "colab": {
          "base_uri": "https://localhost:8080/"
        },
        "id": "J8pEuw2iaauz",
        "outputId": "a73b467d-ddec-426b-9516-31f036aa1eb1"
      },
      "execution_count": null,
      "outputs": [
        {
          "output_type": "stream",
          "name": "stdout",
          "text": [
            "Mean Squared Error (MSE): 0.18618926434207891\n",
            "R² Score: 0.022474280159800686\n"
          ]
        }
      ]
    },
    {
      "cell_type": "code",
      "source": [
        "from sklearn.linear_model import LogisticRegression\n",
        "from sklearn.metrics import accuracy_score, confusion_matrix\n",
        "\n",
        "# 로지스틱 회귀 모델 학습\n",
        "model_logistic = LogisticRegression()\n",
        "model_logistic.fit(X_train_scaled, y_train)\n",
        "\n",
        "# 예측\n",
        "y_pred_logistic = model_logistic.predict(X_test_scaled)\n",
        "\n",
        "# 정확도 및 혼동 행렬\n",
        "accuracy = accuracy_score(y_test, y_pred_logistic)\n",
        "conf_matrix = confusion_matrix(y_test, y_pred_logistic)\n",
        "\n",
        "print(\"Accuracy:\", accuracy)\n",
        "print(\"Confusion Matrix:\\n\", conf_matrix)\n"
      ],
      "metadata": {
        "colab": {
          "base_uri": "https://localhost:8080/"
        },
        "id": "doumChvIaast",
        "outputId": "aa62a019-6cf7-429d-9c14-6976b9406e0f"
      },
      "execution_count": null,
      "outputs": [
        {
          "output_type": "stream",
          "name": "stdout",
          "text": [
            "Accuracy: 0.7439878293772308\n",
            "Confusion Matrix:\n",
            " [[38145     0]\n",
            " [13126     0]]\n"
          ]
        }
      ]
    },
    {
      "cell_type": "code",
      "source": [
        "from sklearn.preprocessing import StandardScaler\n",
        "\n",
        "# 1. 훈련 데이터에 대해서 스케일링 (fit + transform)\n",
        "scaler = StandardScaler()\n",
        "X_train_scaled = scaler.fit_transform(X_train)\n",
        "\n",
        "# 2. 검증 데이터와 테스트 데이터에 대해서는 transform만 적용\n",
        "X_val_scaled = scaler.transform(X_val)\n",
        "X_test_scaled = scaler.transform(X_test)\n",
        "\n",
        "# 3. 모델 학습\n",
        "model_logistic = LogisticRegression(class_weight='balanced')\n",
        "model_logistic.fit(X_train_scaled, y_train)\n",
        "\n",
        "# 4. 검증 데이터로 평가\n",
        "y_pred_val = model_logistic.predict(X_val_scaled)\n",
        "accuracy_val = accuracy_score(y_val, y_pred_val)\n",
        "print(\"Validation Accuracy:\", accuracy_val)\n",
        "\n",
        "# 5. 최종 평가를 위해 test data 사용\n",
        "y_pred_test = model_logistic.predict(X_test_scaled)\n",
        "accuracy_test = accuracy_score(y_test, y_pred_test)\n",
        "print(\"Test Accuracy:\", accuracy_test)\n"
      ],
      "metadata": {
        "colab": {
          "base_uri": "https://localhost:8080/"
        },
        "id": "ChxvLPgzaaql",
        "outputId": "5d756bd5-df8a-4f8c-fb49-b1e8c36b17d4"
      },
      "execution_count": null,
      "outputs": [
        {
          "output_type": "stream",
          "name": "stdout",
          "text": [
            "Validation Accuracy: 0.49628444929882387\n",
            "Test Accuracy: 0.49628444929882387\n"
          ]
        }
      ]
    },
    {
      "cell_type": "code",
      "source": [],
      "metadata": {
        "id": "miA7p2EMaaoc"
      },
      "execution_count": null,
      "outputs": []
    },
    {
      "cell_type": "markdown",
      "source": [
        "#숨겨두기"
      ],
      "metadata": {
        "id": "Gp9icj-jaEPg"
      }
    },
    {
      "cell_type": "code",
      "source": [
        "categorical_columns = [\n",
        "    \"시술 시기 코드\",\n",
        "    \"시술 당시 나이\",\n",
        "    \"시술 유형\",\n",
        "    \"특정 시술 유형\",\n",
        "    \"배란 자극 여부\",\n",
        "    \"배란 유도 유형\",\n",
        "    \"단일 배아 이식 여부\",\n",
        "    \"착상 전 유전 검사 사용 여부\",\n",
        "    \"착상 전 유전 진단 사용 여부\",\n",
        "    \"남성 주 불임 원인\",\n",
        "    \"남성 부 불임 원인\",\n",
        "    \"여성 주 불임 원인\",\n",
        "    \"여성 부 불임 원인\",\n",
        "    \"부부 주 불임 원인\",\n",
        "    \"부부 부 불임 원인\",\n",
        "    \"불명확 불임 원인\",\n",
        "    \"불임 원인 - 난관 질환\",\n",
        "    \"불임 원인 - 남성 요인\",\n",
        "    \"불임 원인 - 배란 장애\",\n",
        "    \"불임 원인 - 여성 요인\",\n",
        "    \"불임 원인 - 자궁경부 문제\",\n",
        "    \"불임 원인 - 자궁내막증\",\n",
        "    \"불임 원인 - 정자 농도\",\n",
        "    \"불임 원인 - 정자 면역학적 요인\",\n",
        "    \"불임 원인 - 정자 운동성\",\n",
        "    \"불임 원인 - 정자 형태\",\n",
        "    \"배아 생성 주요 이유\",\n",
        "    \"총 시술 횟수\",\n",
        "    \"클리닉 내 총 시술 횟수\",\n",
        "    \"IVF 시술 횟수\",\n",
        "    \"DI 시술 횟수\",\n",
        "    \"총 임신 횟수\",\n",
        "    \"IVF 임신 횟수\",\n",
        "    \"DI 임신 횟수\",\n",
        "    \"총 출산 횟수\",\n",
        "    \"IVF 출산 횟수\",\n",
        "    \"DI 출산 횟수\",\n",
        "    \"난자 출처\",\n",
        "    \"정자 출처\",\n",
        "    \"난자 기증자 나이\",\n",
        "    \"정자 기증자 나이\",\n",
        "    \"동결 배아 사용 여부\",\n",
        "    \"신선 배아 사용 여부\",\n",
        "    \"기증 배아 사용 여부\",\n",
        "    \"대리모 여부\",\n",
        "    \"PGD 시술 여부\",\n",
        "    \"PGS 시술 여부\"\n",
        "]"
      ],
      "metadata": {
        "id": "QNGWfG-e7E8M"
      },
      "execution_count": null,
      "outputs": []
    },
    {
      "cell_type": "code",
      "source": [
        "# 카테고리형 컬럼들을 문자열로 변환\n",
        "for col in categorical_columns:\n",
        "    X[col] = X[col].astype(str)\n",
        "    test_df[col] = test_df[col].astype(str)\n",
        "ordinal_encoder = OrdinalEncoder(handle_unknown='use_encoded_value', unknown_value=-1)\n",
        "\n",
        "X_train_encoded = X.copy()\n",
        "X_train_encoded[categorical_columns] = ordinal_encoder.fit_transform(X[categorical_columns])\n",
        "\n",
        "X_test_encoded = test_df.copy()\n",
        "X_test_encoded[categorical_columns] = ordinal_encoder.transform(test_df[categorical_columns])\n",
        "\n",
        "numeric_columns = [\n",
        "    \"임신 시도 또는 마지막 임신 경과 연수\",\n",
        "    \"총 생성 배아 수\",\n",
        "    \"미세주입된 난자 수\",\n",
        "    \"미세주입에서 생성된 배아 수\",\n",
        "    \"이식된 배아 수\",\n",
        "    \"미세주입 배아 이식 수\",\n",
        "    \"저장된 배아 수\",\n",
        "    \"미세주입 후 저장된 배아 수\",\n",
        "    \"해동된 배아 수\",\n",
        "    \"해동 난자 수\",\n",
        "    \"수집된 신선 난자 수\",\n",
        "    \"저장된 신선 난자 수\",\n",
        "    \"혼합된 난자 수\",\n",
        "    \"파트너 정자와 혼합된 난자 수\",\n",
        "    \"기증자 정자와 혼합된 난자 수\",\n",
        "    \"난자 채취 경과일\",\n",
        "    \"난자 해동 경과일\",\n",
        "    \"난자 혼합 경과일\",\n",
        "    \"배아 이식 경과일\",\n",
        "    \"배아 해동 경과일\"\n",
        "]\n",
        "X_train_encoded[numeric_columns] = X_train_encoded[numeric_columns].fillna(0)\n",
        "X_test_encoded[numeric_columns] = X_test_encoded[numeric_columns].fillna(0)"
      ],
      "metadata": {
        "id": "J1DdEz2_7E3I"
      },
      "execution_count": null,
      "outputs": []
    },
    {
      "cell_type": "markdown",
      "source": [
        "#--------"
      ],
      "metadata": {
        "id": "3wJkriyg27j8"
      }
    },
    {
      "cell_type": "code",
      "source": [
        "#3.7 데이터 전처리와 특징 값 생성\n",
        "#학습 데이터와 테스트 데이터 통합하기\n",
        "all_data = pd.concat([X_train_encoded, X_test_encoded], sort=False).reset_index(drop=True)"
      ],
      "metadata": {
        "id": "3DY3EmYKWs8o",
        "colab": {
          "base_uri": "https://localhost:8080/"
        },
        "outputId": "4a74e46c-ce1e-41ca-b869-59eeff18ea09"
      },
      "execution_count": null,
      "outputs": [
        {
          "output_type": "error",
          "ename": "NameError",
          "evalue": "name 'X_train_encoded' is not defined",
          "traceback": [
            "\u001b[0;31m---------------------------------------------------------------------------\u001b[0m",
            "\u001b[0;31mNameError\u001b[0m                                 Traceback (most recent call last)",
            "\u001b[0;32m<ipython-input-74-49052dc48f4a>\u001b[0m in \u001b[0;36m<cell line: 0>\u001b[0;34m()\u001b[0m\n\u001b[1;32m      1\u001b[0m \u001b[0;31m#3.7 데이터 전처리와 특징 값 생성\u001b[0m\u001b[0;34m\u001b[0m\u001b[0;34m\u001b[0m\u001b[0m\n\u001b[1;32m      2\u001b[0m \u001b[0;31m#학습 데이터와 테스트 데이터 통합하기\u001b[0m\u001b[0;34m\u001b[0m\u001b[0;34m\u001b[0m\u001b[0m\n\u001b[0;32m----> 3\u001b[0;31m \u001b[0mall_data\u001b[0m \u001b[0;34m=\u001b[0m \u001b[0mpd\u001b[0m\u001b[0;34m.\u001b[0m\u001b[0mconcat\u001b[0m\u001b[0;34m(\u001b[0m\u001b[0;34m[\u001b[0m\u001b[0mX_train_encoded\u001b[0m\u001b[0;34m,\u001b[0m \u001b[0mX_test_encoded\u001b[0m\u001b[0;34m]\u001b[0m\u001b[0;34m,\u001b[0m \u001b[0msort\u001b[0m\u001b[0;34m=\u001b[0m\u001b[0;32mFalse\u001b[0m\u001b[0;34m)\u001b[0m\u001b[0;34m.\u001b[0m\u001b[0mreset_index\u001b[0m\u001b[0;34m(\u001b[0m\u001b[0mdrop\u001b[0m\u001b[0;34m=\u001b[0m\u001b[0;32mTrue\u001b[0m\u001b[0;34m)\u001b[0m\u001b[0;34m\u001b[0m\u001b[0;34m\u001b[0m\u001b[0m\n\u001b[0m",
            "\u001b[0;31mNameError\u001b[0m: name 'X_train_encoded' is not defined"
          ]
        }
      ]
    },
    {
      "cell_type": "code",
      "source": [
        "#전체 데이터에서 결측치 수 확인하기\n",
        "all_data.isnull().sum()"
      ],
      "metadata": {
        "colab": {
          "base_uri": "https://localhost:8080/"
        },
        "id": "5ett0uvFWs4C",
        "outputId": "7aa57ee8-421d-4861-bd21-a24e7c2aaf28"
      },
      "execution_count": null,
      "outputs": [
        {
          "output_type": "error",
          "ename": "NameError",
          "evalue": "name 'all_data' is not defined",
          "traceback": [
            "\u001b[0;31m---------------------------------------------------------------------------\u001b[0m",
            "\u001b[0;31mNameError\u001b[0m                                 Traceback (most recent call last)",
            "\u001b[0;32m<ipython-input-75-9de2042816ca>\u001b[0m in \u001b[0;36m<cell line: 0>\u001b[0;34m()\u001b[0m\n\u001b[1;32m      1\u001b[0m \u001b[0;31m#전체 데이터에서 결측치 수 확인하기\u001b[0m\u001b[0;34m\u001b[0m\u001b[0;34m\u001b[0m\u001b[0m\n\u001b[0;32m----> 2\u001b[0;31m \u001b[0mall_data\u001b[0m\u001b[0;34m.\u001b[0m\u001b[0misnull\u001b[0m\u001b[0;34m(\u001b[0m\u001b[0;34m)\u001b[0m\u001b[0;34m.\u001b[0m\u001b[0msum\u001b[0m\u001b[0;34m(\u001b[0m\u001b[0;34m)\u001b[0m\u001b[0;34m\u001b[0m\u001b[0;34m\u001b[0m\u001b[0m\n\u001b[0m",
            "\u001b[0;31mNameError\u001b[0m: name 'all_data' is not defined"
          ]
        }
      ]
    },
    {
      "cell_type": "code",
      "source": [
        "#시술 당시 나이마다 인원수 세기\n",
        "train['시술 당시 나이'].value_counts()"
      ],
      "metadata": {
        "colab": {
          "base_uri": "https://localhost:8080/"
        },
        "id": "vesnf5-8ch8T",
        "outputId": "9a891d79-5695-4756-f27e-8000c0f36a1b"
      },
      "execution_count": null,
      "outputs": [
        {
          "output_type": "error",
          "ename": "NameError",
          "evalue": "name 'train' is not defined",
          "traceback": [
            "\u001b[0;31m---------------------------------------------------------------------------\u001b[0m",
            "\u001b[0;31mNameError\u001b[0m                                 Traceback (most recent call last)",
            "\u001b[0;32m<ipython-input-76-2f338ffc99da>\u001b[0m in \u001b[0;36m<cell line: 0>\u001b[0;34m()\u001b[0m\n\u001b[1;32m      1\u001b[0m \u001b[0;31m#시술 당시 나이마다 인원수 세기\u001b[0m\u001b[0;34m\u001b[0m\u001b[0;34m\u001b[0m\u001b[0m\n\u001b[0;32m----> 2\u001b[0;31m \u001b[0mtrain\u001b[0m\u001b[0;34m[\u001b[0m\u001b[0;34m'시술 당시 나이'\u001b[0m\u001b[0;34m]\u001b[0m\u001b[0;34m.\u001b[0m\u001b[0mvalue_counts\u001b[0m\u001b[0;34m(\u001b[0m\u001b[0;34m)\u001b[0m\u001b[0;34m\u001b[0m\u001b[0;34m\u001b[0m\u001b[0m\n\u001b[0m",
            "\u001b[0;31mNameError\u001b[0m: name 'train' is not defined"
          ]
        }
      ]
    },
    {
      "cell_type": "code",
      "source": [
        "train['특정 시술 유형'].value_counts()"
      ],
      "metadata": {
        "id": "3WvuW5AIch6T"
      },
      "execution_count": null,
      "outputs": []
    },
    {
      "cell_type": "code",
      "source": [
        "#특정 시술 유형 별 시술 당시 나이\n",
        "plt.figure(figsize=(40, 6))\n",
        "sns.boxplot( x='특정 시술 유형', y= \"시술 당시 나이\", data=train)"
      ],
      "metadata": {
        "id": "0qX4cVXgch4M"
      },
      "execution_count": null,
      "outputs": []
    },
    {
      "cell_type": "code",
      "source": [
        "#특정 시술 별 시술 당시 나이 평균값 확인하기\n",
        "all_data[[\"특정 시술 유형\",\"시술 당시 나이\"]].groupby(\"특정 시술 유형\").mean()"
      ],
      "metadata": {
        "id": "UuqUdehfeWwD"
      },
      "execution_count": null,
      "outputs": []
    },
    {
      "cell_type": "code",
      "source": [
        "pred_proba = model.predict_proba(X_test_encoded)[:, 1]"
      ],
      "metadata": {
        "id": "4qJOP4OM7ExO"
      },
      "execution_count": null,
      "outputs": []
    },
    {
      "cell_type": "markdown",
      "source": [
        "#-"
      ],
      "metadata": {
        "id": "XHF7r4OYWRrD"
      }
    },
    {
      "cell_type": "code",
      "source": [
        "model = ExtraTreesClassifier(random_state=42)\n",
        "\n",
        "model.fit(X_train_encoded, y)"
      ],
      "metadata": {
        "colab": {
          "base_uri": "https://localhost:8080/"
        },
        "id": "MrT0M6vuWRJo",
        "outputId": "e02dd253-f09e-403f-f82f-ea8378ec06a4"
      },
      "execution_count": null,
      "outputs": [
        {
          "output_type": "error",
          "ename": "NameError",
          "evalue": "name 'X_train_encoded' is not defined",
          "traceback": [
            "\u001b[0;31m---------------------------------------------------------------------------\u001b[0m",
            "\u001b[0;31mNameError\u001b[0m                                 Traceback (most recent call last)",
            "\u001b[0;32m<ipython-input-77-9e08fc36e044>\u001b[0m in \u001b[0;36m<cell line: 0>\u001b[0;34m()\u001b[0m\n\u001b[1;32m      1\u001b[0m \u001b[0mmodel\u001b[0m \u001b[0;34m=\u001b[0m \u001b[0mExtraTreesClassifier\u001b[0m\u001b[0;34m(\u001b[0m\u001b[0mrandom_state\u001b[0m\u001b[0;34m=\u001b[0m\u001b[0;36m42\u001b[0m\u001b[0;34m)\u001b[0m\u001b[0;34m\u001b[0m\u001b[0;34m\u001b[0m\u001b[0m\n\u001b[1;32m      2\u001b[0m \u001b[0;34m\u001b[0m\u001b[0m\n\u001b[0;32m----> 3\u001b[0;31m \u001b[0mmodel\u001b[0m\u001b[0;34m.\u001b[0m\u001b[0mfit\u001b[0m\u001b[0;34m(\u001b[0m\u001b[0mX_train_encoded\u001b[0m\u001b[0;34m,\u001b[0m \u001b[0my\u001b[0m\u001b[0;34m)\u001b[0m\u001b[0;34m\u001b[0m\u001b[0;34m\u001b[0m\u001b[0m\n\u001b[0m",
            "\u001b[0;31mNameError\u001b[0m: name 'X_train_encoded' is not defined"
          ]
        }
      ]
    },
    {
      "cell_type": "code",
      "source": [
        "sample_submission = pd.read_csv('/content/drive/MyDrive/Colab Notebooks/lgaimers/sample_submission.csv')\n",
        "sample_submission['probability'] = pred_proba"
      ],
      "metadata": {
        "id": "NJRAfJz76cDW"
      },
      "execution_count": null,
      "outputs": []
    },
    {
      "cell_type": "code",
      "source": [
        "sample_submission.to_csv('./baseline_submit.csv', index=False)"
      ],
      "metadata": {
        "id": "zO_6Jel75ZAt"
      },
      "execution_count": null,
      "outputs": []
    },
    {
      "cell_type": "code",
      "source": [
        "sample_submission = pd.read_csv('/content/drive/MyDrive/Colab Notebooks/lgaimers/sample_submission.csv')\n",
        "sample_submission['probability'] = pred_proba\n",
        "sample_submission.to_csv('./baseline_submit.csv', index=False)"
      ],
      "metadata": {
        "id": "Wq7zOfZ6Kpu6"
      },
      "execution_count": null,
      "outputs": []
    }
  ]
}